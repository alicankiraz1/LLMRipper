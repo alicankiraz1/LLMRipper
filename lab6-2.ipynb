{
 "cells": [
  {
   "cell_type": "markdown",
   "metadata": {
    "id": "i0XO2rlIknjc"
   },
   "source": [
    "Before you turn this lab in, make sure everything runs as expected. **Restart and run all cells** (in the menubar, select Kernel$\\rightarrow$Restart & Run All) then check the output is as expected and there are no errors.  Also remember to **Save** before uploading this file (File$\\rightarrow$Save and Checkpoint)."
   ]
  },
  {
   "cell_type": "markdown",
   "metadata": {
    "id": "JIXjneETknje"
   },
   "source": [
    "---"
   ]
  },
  {
   "cell_type": "markdown",
   "metadata": {
    "id": "Y0kgp2woknje"
   },
   "source": [
    "# <div align=\"center\">Quantum Computer Systems Design</div>&nbsp;  <div align=\"center\">Lab 6</div>\n",
    "\n",
    "In the videos, we looked at three key compilation passes to transform input passes to executable programs on quantum hardware: mapping, scheduling, and routing. For this lab, we will assume all 1 and 2 qubit gates are executable on hardware, i.e. there is no need to resynthesize etc. In this lab, you will implement a simple pass to accomplish each of these tasks. This will most likely take longer than previous labs, so start early.\n",
    "\n",
    "In part 1 you will implement a mapper: given a target hardware connectivity graph and an input program, map the qubits to the hardware in an efficient way (i.e. qubits which interact frequently should be mapped closely together). In part 2 you will implement a simple router: given a mapped program and the program route operations in an efficient way (use as few SWAPs as possible to shift qubits around the device); here we will assume a move there, execute 2 qubit gate, move back strategy. In part 3 you will schedule your gates to minimize the total execution time of the program: given execution times for each of the gates, assign start times to each gate to minimize total execution time.\n",
    "\n",
    "\n",
    "Grading: There are a lot of optimizations which can be made in each of these functions. The grading for this assignment will be 2-fold. Passes which output correct circuits without too much overhead will receive full credit (e.g. don't write very naive solutions which add too many swaps or schedule 2x as long as needed).\n",
    "\n",
    "\n",
    "# 0.1. Programs For Development\n",
    "\n",
    "Below is the same code from last lab which generates the Cuccarro Adder. You're welcome to use this circuit, which has been decomposed into 1 and 2 qubit gates, or any other as you develop your compilation passes. You can adjust the size of the below program `qiskit.transpile(generate_adder_circuit(4), basis_gates=['cx', 'rx', 'h', 'rz'])` by changing the `4` to some other even number for larger circuits. We suggest testing on small circuits however. Even simpler circuits containing only a small number of CNOTs may be beneficial. The grader tests might use programs you have not seen before."
   ]
  },
  {
   "cell_type": "code",
   "execution_count": 17,
   "metadata": {
    "colab": {
     "base_uri": "https://localhost:8080/",
     "height": 378
    },
    "id": "Kn5owyprknjf",
    "outputId": "67a73305-d25a-4587-93c0-334f163011a9"
   },
   "outputs": [],
   "source": [
    "import numpy as np\n",
    "import networkx as nx\n",
    "import qiskit\n",
    "from qiskit import QuantumCircuit, ClassicalRegister, QuantumRegister\n",
    "from qiskit.circuit.quantumregister import Qubit\n",
    "from IPython.display import display\n",
    "\n",
    "from typing import Dict, Any, List\n",
    "from typing import Dict, Tuple, List\n"
   ]
  },
  {
   "cell_type": "code",
   "execution_count": 18,
   "metadata": {
    "colab": {
     "base_uri": "https://localhost:8080/",
     "height": 207
    },
    "id": "Nk--jjckknjg",
    "outputId": "fdba8306-a194-48b0-d160-b05daba7e4f2"
   },
   "outputs": [],
   "source": [
    "# -------------------------------------------------\n",
    "# 1) Yardımcı fonksiyon: Devredeki etkileşimleri çıkar\n",
    "# -------------------------------------------------\n",
    "\n",
    "# ----------------------------------------------------------\n",
    "# 0.3  –  Cuccaro Quantum Adder (test devresi)\n",
    "# ----------------------------------------------------------\n",
    "# Majority (MAJ) ve UnMajority+Add (UMA3) kapıları\n",
    "maj_c = QuantumCircuit(3, name='MAJ')\n",
    "maj_c.cx(2, 1)\n",
    "maj_c.cx(2, 0)\n",
    "maj_c.ccx(0, 1, 2)\n",
    "maj = maj_c.to_gate(label='MAJ')\n",
    "\n",
    "uma3_c = QuantumCircuit(3, name='UMA3')\n",
    "uma3_c.x(1)\n",
    "uma3_c.cx(0, 1)\n",
    "uma3_c.ccx(0, 1, 2)\n",
    "uma3_c.x(1)\n",
    "uma3_c.cx(2, 0)\n",
    "uma3_c.cx(2, 1)\n",
    "uma3 = uma3_c.to_gate(label='UMA3')\n",
    "\n",
    "def cuccaro_adder(c, cin, a, b, cout, uma=uma3):\n",
    "    c.append(maj, [cin, b[0], a[0]])\n",
    "    for i in range(1, len(b)):\n",
    "        c.append(maj, [a[i-1], b[i], a[i]])\n",
    "\n",
    "    c.cx(a[-1], cout)\n",
    "\n",
    "    for i in reversed(range(1, len(b))):\n",
    "        c.append(uma, [a[i-1], b[i], a[i]])\n",
    "    c.append(uma, [cin, b[0], a[0]])\n",
    "\n",
    "def generate_adder_circuit(n, uma=uma3):\n",
    "    if n % 2 != 0:\n",
    "        raise ValueError('Odd number of qubits')\n",
    "\n",
    "    cin = 0\n",
    "    a   = list(range(1, n//2))\n",
    "    b   = list(range(n//2, n-1))\n",
    "    cout = n-1\n",
    "    c = QuantumCircuit(n)\n",
    "    cuccaro_adder(c, cin, a, b, cout, uma=uma)\n",
    "    return c\n",
    "\n",
    "def decomposed_adder_circuit(n):\n",
    "    return qiskit.transpile(generate_adder_circuit(n),\n",
    "                            basis_gates=['cx', 'rx', 'h', 'rz'])\n",
    "\n",
    "\n",
    "\n",
    "def _extract_interactions(circ: QuantumCircuit) -> Dict[Tuple[int, int], int]:\n",
    "    \"\"\"\n",
    "    İki‑kubit kapılar üzerinden (CNOT, CZ, iSWAP vs.)\n",
    "    hangi mantıksal kubit çiftlerinin ne kadar sık\n",
    "    etkileştiğini sayar.\n",
    "    \"\"\"\n",
    "    counts: Dict[Tuple[int, int], int] = {}\n",
    "    for inst, qargs, _ in circ.data:\n",
    "        if len(qargs) == 2:                       # sadece 2‑kubit kapılar\n",
    "            q0 = circ.qubits.index(qargs[0])\n",
    "            q1 = circ.qubits.index(qargs[1])\n",
    "            if q0 > q1:                           # anahtarsız sakla\n",
    "                q0, q1 = q1, q0\n",
    "            counts[(q0, q1)] = counts.get((q0, q1), 0) + 1\n",
    "    return counts\n",
    "\n",
    "\n",
    "# -------------------------------------------------\n",
    "# 2) Asıl sezgisel (greedy) eşleme\n",
    "# -------------------------------------------------\n",
    "def _greedy_mapper(circ: QuantumCircuit, hw: nx.Graph) -> Dict[int, int]:\n",
    "    \"\"\"\n",
    "    Basit bir sezgisel:\n",
    "      • En ağır etkileşimleri sırayla ele alır.\n",
    "      • Henüz eşlenmemiş mantıksal kubitleri, birbirine\n",
    "        en kısa fiziksel mesafe sunan düğüm çiftlerine\n",
    "        yerleştirir.\n",
    "      • Kalanları rastgele (ama olabildiğince yakın) doldurur.\n",
    "    \"\"\"\n",
    "    n_logical = circ.num_qubits\n",
    "    if n_logical > hw.number_of_nodes():\n",
    "        raise ValueError(\"Devredeki kubit sayısı donanımdakinden fazla!\")\n",
    "\n",
    "    dist = dict(nx.all_pairs_shortest_path_length(hw))\n",
    "    inter = _extract_interactions(circ)\n",
    "    heavy_pairs: List[Tuple[Tuple[int, int], int]] = sorted(\n",
    "        inter.items(), key=lambda x: -x[1]\n",
    "    )\n",
    "\n",
    "    mapping: Dict[int, int] = {}\n",
    "    used_phys = set()\n",
    "\n",
    "    for (q0, q1), _ in heavy_pairs:\n",
    "        for q in (q0, q1):\n",
    "            if q in mapping:          # önceden yerleştiyse geç\n",
    "                continue\n",
    "\n",
    "            # halihazırda eşlenmiş komşulara mümkün olduğunca\n",
    "            # kısa mesafede olacak fiziksel düğümü ara\n",
    "            best_p, best_cost = None, float(\"inf\")\n",
    "            for p in hw.nodes:\n",
    "                if p in used_phys:\n",
    "                    continue\n",
    "                cost = 0\n",
    "                for q_m, p_m in mapping.items():\n",
    "                    w = inter.get(tuple(sorted((q, q_m))), 0)\n",
    "                    cost += w * dist[p][p_m]\n",
    "                if cost < best_cost:\n",
    "                    best_cost, best_p = cost, p\n",
    "\n",
    "            # hiçbir komşu yoksa keyfi bir düğüm seç\n",
    "            if best_p is None:\n",
    "                best_p = next(iter(set(hw.nodes) - used_phys))\n",
    "\n",
    "            mapping[q] = best_p\n",
    "            used_phys.add(best_p)\n",
    "\n",
    "    # henüz eşlenmeyen mantıksal kubit kalırsa doldur\n",
    "    for q in range(n_logical):\n",
    "        if q not in mapping:\n",
    "            p = next(iter(set(hw.nodes) - used_phys))\n",
    "            mapping[q] = p\n",
    "            used_phys.add(p)\n",
    "\n",
    "    return mapping\n",
    "\n",
    "\n",
    "# --- sadece bu fonksiyonu güncelle ---\n",
    "def map_circuit(circ: QuantumCircuit, hardware: nx.Graph) -> Dict[Qubit, int]:\n",
    "    \"\"\"\n",
    "    Mantıksal → fiziksel kubit eşlemesini döndürür.\n",
    "    Dönen sözlüğün ANAHTARLARI mutlaka Qiskit Qubit nesneleri olmalı.\n",
    "    \"\"\"\n",
    "    # 1) Eski greedy sezgiselimiz indeks ↦ fiziksel düğüm üretiyor\n",
    "    tmp_mapping: Dict[int, int] = _greedy_mapper(circ, hardware)\n",
    "\n",
    "    # 2) İndeksleri, devredeki gerçek Qubit objelerine projekte et\n",
    "    return {circ.qubits[idx]: phys_q for idx, phys_q in tmp_mapping.items()}\n"
   ]
  },
  {
   "cell_type": "markdown",
   "metadata": {
    "id": "uKvJJME8knjh"
   },
   "source": [
    "# 0.2. Data Structures and Iterating through Qiskit Programs\n",
    "\n",
    "Before you get started, let's build some basic data structures you may need for your passes. These objects are for your use, but you do not have to use them in your implementation of the below passes. You may want to modify the data structures to account for other parameters, such as gate times. It may be helpful to read through these functions to see how to manipulate `qiskit.QuantumCircuit`."
   ]
  },
  {
   "cell_type": "code",
   "execution_count": 19,
   "metadata": {
    "id": "KFF8tb-gknjh"
   },
   "outputs": [
    {
     "name": "stdout",
     "output_type": "stream",
     "text": [
      "This is an RZ gate\n"
     ]
    }
   ],
   "source": [
    "# ==========================================================\n",
    "# 0.2  –  Yardımcı Veri Yapıları ve Görselleştirme Araçları\n",
    "# ==========================================================\n",
    "# 0.2.0 Wrapping Gates to Make them hashable in a graph structure\n",
    "#       and give them a unique identifying label\n",
    "import dataclasses\n",
    "from typing import Any, List\n",
    "from qiskit.circuit.quantumregister import Qubit\n",
    "\n",
    "@dataclasses.dataclass\n",
    "class GateWrapper:\n",
    "    gate: Any\n",
    "    qubits: List[Qubit]\n",
    "    extra_params: List[Any]\n",
    "    label: str\n",
    "\n",
    "    # Hash ‑> ağ düğümlerinde benzersiz kimlik\n",
    "    def __hash__(self):\n",
    "        return hash((type(self.gate), tuple(self.qubits), self.label))\n",
    "\n",
    "    def __str__(self):\n",
    "        args = \",\".join(str(q._index) for q in self.qubits)\n",
    "        return f\"{self.label}{{{self.gate.name}({args})}}\"\n",
    "\n",
    "    __repr__ = __str__\n",
    "\n",
    "# ----------------------------------------------------------\n",
    "# 0.2.1 Building a new circuit from an old circuit\n",
    "def copy_a_circuit(old_circuit: qiskit.QuantumCircuit, n: int) -> qiskit.QuantumCircuit:\n",
    "    \"\"\"\n",
    "    Aynı kapıları, qubit sayısı n olan yeni bir devreye kopyalar.\n",
    "    \"\"\"\n",
    "    new_circuit = qiskit.QuantumCircuit(n)\n",
    "\n",
    "    for instr in old_circuit:\n",
    "        # Qubit nesnelerini yeni devredeki karşılıklarına eşle\n",
    "        new_qargs = [new_circuit.qubits[q._index] for q in instr.qubits]\n",
    "        new_circuit.append(instr.operation, new_qargs, instr.clbits)\n",
    "\n",
    "    return new_circuit\n",
    "\n",
    "# ----------------------------------------------------------\n",
    "# 0.2.2 Building a Dependency Graph using NetworkX\n",
    "def build_program_dependency_graph(circuit: qiskit.QuantumCircuit) -> nx.DiGraph:\n",
    "    \"\"\"\n",
    "    Her kapıyı düğüm, veri‑bağımlılıklarını kenar yapan DAG üretir.\n",
    "    \"\"\"\n",
    "    i = 0                             # label sayacı\n",
    "    qubit_last_use = {}               # her qubit’in son kullanıldığı kapı\n",
    "    g = nx.DiGraph()\n",
    "    g.add_node(-1)                    # başlangıç düğümü\n",
    "\n",
    "    for instr in circuit:\n",
    "        node = GateWrapper(instr.operation, instr.qubits, instr.clbits, label=i)\n",
    "        i += 1\n",
    "        g.add_node(node)\n",
    "\n",
    "        for q in node.qubits:\n",
    "            g.add_edge(qubit_last_use.get(q, -1), node)\n",
    "            qubit_last_use[q] = node\n",
    "\n",
    "    # bitiş düğümü\n",
    "    g.add_node(float(\"inf\"))\n",
    "    for last in qubit_last_use.values():\n",
    "        g.add_edge(last, float(\"inf\"))\n",
    "\n",
    "    return g\n",
    "\n",
    "# ----------------------------------------------------------\n",
    "# 0.2.3 From Dependency Graph with Hashable Gates to Qiskit Gates\n",
    "def dependency_graph_to_circuit(dep_graph: nx.DiGraph, n: int) -> qiskit.QuantumCircuit:\n",
    "    \"\"\"\n",
    "    DAG → tekrar çalıştırılabilir QuantumCircuit.\n",
    "    \"\"\"\n",
    "    circuit = qiskit.QuantumCircuit(n)\n",
    "    for gate in nx.topological_sort(dep_graph):\n",
    "        if gate not in (-1, float(\"inf\")):\n",
    "            circuit.append(gate.gate, gate.qubits, gate.extra_params)\n",
    "    return circuit\n",
    "\n",
    "# ----------------------------------------------------------\n",
    "# 0.2.4 Interaction Graphs\n",
    "def interaction_graph_from_circuit(circuit: qiskit.QuantumCircuit) -> nx.Graph:\n",
    "    \"\"\"\n",
    "    Ağırlıklı etkileşim grafı (kubitler düğüm, ikili kapı sayısı ağırlık).\n",
    "    \"\"\"\n",
    "    g = nx.Graph()\n",
    "    for instr in circuit:\n",
    "        for q in instr.qubits:\n",
    "            g.add_node(q)\n",
    "        for i in range(len(instr.qubits)):\n",
    "            for j in range(i):\n",
    "                q1, q2 = instr.qubits[i], instr.qubits[j]\n",
    "                if q1 == q2:\n",
    "                    continue\n",
    "                w = g.edges[q1, q2][\"weight\"] + 1 if g.has_edge(q1, q2) else 1\n",
    "                g.add_edge(q1, q2, weight=w)\n",
    "    return g\n",
    "\n",
    "# ----------------------------------------------------------\n",
    "# 0.2.5 Checking if a gate is a certain type (mini‑örnek)\n",
    "basic_c = qiskit.QuantumCircuit(1)\n",
    "basic_c.rz(np.pi / 2, 0)\n",
    "for instr in basic_c:\n",
    "    if isinstance(instr.operation, qiskit.circuit.library.standard_gates.rz.RZGate):\n",
    "        print(\"This is an RZ gate\")"
   ]
  },
  {
   "cell_type": "code",
   "execution_count": 20,
   "metadata": {
    "id": "AF6Szn0dknjh"
   },
   "outputs": [],
   "source": [
    "# ----------------------------------------------------------\n",
    "# Yardımcı çizim işlevleri\n",
    "def draw_interaction_graph(ig):\n",
    "    nx.draw(\n",
    "        nx.relabel_nodes(ig, {q: f\"{q._register.name}_{q._index}\" for q in ig.nodes}),\n",
    "        with_labels=True,\n",
    "    )\n",
    "\n",
    "def draw_dependency_graph(dep_g):\n",
    "    nx.draw(dep_g, with_labels=True)\n",
    "\n",
    "def draw_hardware_graph(target_hardware):\n",
    "    nx.draw(target_hardware, with_labels=True)\n",
    "\n",
    "def draw_mapping(target_hardware, mapping):\n",
    "    rev = {hw_q: None for hw_q in target_hardware.nodes}\n",
    "    for log_q, phys_q in mapping.items():\n",
    "        assert phys_q in rev, f\"{phys_q} donanımda yok\"\n",
    "        assert rev[phys_q] is None, f\"Çakışan eşleme: {phys_q}\"\n",
    "        rev[phys_q] = log_q\n",
    "    nx.draw(\n",
    "        nx.relabel_nodes(\n",
    "            target_hardware,\n",
    "            {\n",
    "                hw_q: f\"q{getattr(rev[hw_q], '_index', None)}→{hw_q}\"\n",
    "                for hw_q in target_hardware.nodes\n",
    "            },\n",
    "        ),\n",
    "        with_labels=True,\n",
    "    )\n",
    "\n",
    "def draw_routing(routed_circuit):\n",
    "    routed_circuit.draw(fold=-1)"
   ]
  },
  {
   "cell_type": "code",
   "execution_count": 21,
   "metadata": {
    "id": "eWBAslKSknjh"
   },
   "outputs": [
    {
     "data": {
      "image/png": "[encoded data removed]",
      "text/plain": [
       "<Figure size 640x480 with 1 Axes>"
      ]
     },
     "metadata": {},
     "output_type": "display_data"
    }
   ],
   "source": [
    "simple = QuantumCircuit(3)\n",
    "simple.cx(0, 1)\n",
    "simple.cx(1, 0)\n",
    "simple.x(2)\n",
    "\n",
    "ig = interaction_graph_from_circuit(simple)\n",
    "dep_g = build_program_dependency_graph(simple)\n",
    "draw_interaction_graph(ig)"
   ]
  },
  {
   "cell_type": "code",
   "execution_count": 22,
   "metadata": {
    "id": "5tP020nEknji"
   },
   "outputs": [
    {
     "data": {
      "image/png": "[encoded data removed]",
      "text/plain": [
       "<Figure size 640x480 with 1 Axes>"
      ]
     },
     "metadata": {},
     "output_type": "display_data"
    }
   ],
   "source": [
    "draw_dependency_graph(dep_g)"
   ]
  },
  {
   "cell_type": "code",
   "execution_count": 24,
   "metadata": {
    "id": "IBdatd4tknji"
   },
   "outputs": [
    {
     "ename": "NameError",
     "evalue": "name 'cuccaro' is not defined",
     "output_type": "error",
     "traceback": [
      "\u001b[31m---------------------------------------------------------------------------\u001b[39m",
      "\u001b[31mNameError\u001b[39m                                 Traceback (most recent call last)",
      "\u001b[36mCell\u001b[39m\u001b[36m \u001b[39m\u001b[32mIn[24]\u001b[39m\u001b[32m, line 1\u001b[39m\n\u001b[32m----> \u001b[39m\u001b[32m1\u001b[39m draw_interaction_graph(interaction_graph_from_circuit(\u001b[43mcuccaro\u001b[49m))\n",
      "\u001b[31mNameError\u001b[39m: name 'cuccaro' is not defined"
     ]
    }
   ],
   "source": [
    "draw_interaction_graph(interaction_graph_from_circuit(cuccaro))"
   ]
  },
  {
   "cell_type": "code",
   "execution_count": 25,
   "metadata": {
    "colab": {
     "base_uri": "https://localhost:8080/",
     "height": 139
    },
    "id": "Wh6hFOlMknji",
    "outputId": "edb77057-224a-4b68-9e1c-451142d6d2cc"
   },
   "outputs": [
    {
     "ename": "NameError",
     "evalue": "name 'cuccaro' is not defined",
     "output_type": "error",
     "traceback": [
      "\u001b[31m---------------------------------------------------------------------------\u001b[39m",
      "\u001b[31mNameError\u001b[39m                                 Traceback (most recent call last)",
      "\u001b[36mCell\u001b[39m\u001b[36m \u001b[39m\u001b[32mIn[25]\u001b[39m\u001b[32m, line 1\u001b[39m\n\u001b[32m----> \u001b[39m\u001b[32m1\u001b[39m draw_dependency_graph(build_program_dependency_graph(\u001b[43mcuccaro\u001b[49m))\n",
      "\u001b[31mNameError\u001b[39m: name 'cuccaro' is not defined"
     ]
    }
   ],
   "source": [
    "draw_dependency_graph(build_program_dependency_graph(cuccaro))"
   ]
  },
  {
   "cell_type": "markdown",
   "metadata": {
    "id": "_ZKAMqS8knji"
   },
   "source": [
    "# 1. Mapping Programs to Hardware\n",
    "\n",
    "Your first task is to map program qubits to hardware qubits in a good way - here this means you want to make sure qubits which interact frequently (given by the weights\n",
    "of edges in the interaction graph) are mapped close together. Your mapper should try to minimize, using a heursitic, the total distance between interacting qubits. How you do the mapping is up to you. Good mappings usually lead to good routing.\n",
    "\n",
    "Metric to minimize:\n",
    "    $$\n",
    "        \\sum_{u \\in Q}\\sum_{v \\in Q} w(u, v) * d(u, v)\n",
    "    $$\n",
    "Where $Q$ is the set of qubits, $w(u, v)$ is the number of times $u, v$ interact in the program (check the interaction graph edge weights) and $d(u, v)$ is the shortest path distance between $u$ and $v$ once they've been mapped. $w(u, v) = 0$ if there is no edge between $u$ and $v$ in the interaction graph.\n",
    "\n",
    "Hints:\n",
    "- You may need some of the objects [`nx.Graph`](https://networkx.org/documentation/stable/reference/classes/graph.html), [`nx.DiGraph`](https://networkx.org/documentation/stable/reference/classes/digraph.html), and functions [`nx.all_pairs_shortest_path_length`](https://networkx.org/documentation/stable/reference/algorithms/generated/networkx.algorithms.shortest_paths.unweighted.all_pairs_shortest_path_length.html), [`all_pairs_shortest_path`](https://networkx.org/documentation/stable/reference/algorithms/generated/networkx.algorithms.shortest_paths.unweighted.all_pairs_shortest_path.html) for this problem set.\n",
    "- Iterate over graph nodes with `for node in graph.nodes:`\n",
    "- Iterate over graph edges with `for node1, node2 in graph.edges:`\n",
    "- Get the 'weight' of an interaction graph edge (the number of CNOTs between those two qubits) with `ig[q1][q2]['weight']`.\n",
    "\n",
    "Make sure your code runs quickly.  Each test shouldn't run longer than a second and 30 seconds will timeout the grader."
   ]
  },
  {
   "cell_type": "code",
   "execution_count": 26,
   "metadata": {
    "id": "5Ihr3s76knji"
   },
   "outputs": [
    {
     "data": {
      "image/png": "[encoded data removed]",
      "text/plain": [
       "<Figure size 640x480 with 1 Axes>"
      ]
     },
     "metadata": {},
     "output_type": "display_data"
    }
   ],
   "source": [
    "# Here is some sample hardware. Feel free to change this for your testing.\n",
    "# This is hardware with a simple linear connectivity 0 - 1 - 2 - ... - n-1\n",
    "# Graphs with nodes numbered 0, 1, ..., n-1:\n",
    "simple_hardware = nx.path_graph(5)\n",
    "# This is hardware with a simple 2x3 grid connectivity\n",
    "grid_hardware = nx.grid_2d_graph(2, 3)\n",
    "grid_hardware = nx.relabel_nodes(grid_hardware, {n: i for i, n in enumerate(grid_hardware.nodes)})  # Relabel with integer indices\n",
    "\n",
    "draw_hardware_graph(grid_hardware)"
   ]
  },
  {
   "cell_type": "code",
   "execution_count": 27,
   "metadata": {
    "deletable": false,
    "id": "RI38GPo1knji",
    "nbgrader": {
     "cell_type": "code",
     "checksum": "722f02797df529af18abf551e1399f3b",
     "grade": false,
     "grade_id": "1",
     "locked": false,
     "schema_version": 3,
     "solution": true,
     "task": false
    }
   },
   "outputs": [],
   "source": [
    "def map_circuit(quantum_circuit:QuantumCircuit, target_hardware:nx.Graph\n",
    "               ) -> Dict[Qubit, int]:\n",
    "    '''\n",
    "    This function should take an input program given as a\n",
    "    qiskit.QuantumCircuit and a target hardware, given as a networkx\n",
    "    graph and return a dictionary {qubit : hardware_id}\n",
    "\n",
    "    The target_hardware graph is an undirected graph with nodes\n",
    "    labeled 0 to n-1 where n is the total number of qubits.\n",
    "\n",
    "    You should make sure there are enough hardware qubits to fit\n",
    "    your program and raise an appropriate error otherwise.\n",
    "    '''\n",
    "    ### YOUR SOLUTION IN THIS FUNCTION\n",
    "    ig = interaction_graph_from_circuit(quantum_circuit)\n",
    "    assert len(ig.nodes) <= len(target_hardware.nodes), 'Not enough qubits in the hardware'\n",
    "\n",
    "    # Dictionary where keys are the index of qiskit qubit objects (type: int)\n",
    "    # and values are target_hardware node ids (type: int)\n",
    "    mapping:Dict[Qubit, int] = {}\n",
    "\n",
    "    # Other temp variables\n",
    "    used_hardware = set()\n",
    "\n",
    "    # YOUR CODE HERE\n",
    "\n",
    "    return mapping"
   ]
  },
  {
   "cell_type": "code",
   "execution_count": 28,
   "metadata": {
    "colab": {
     "base_uri": "https://localhost:8080/",
     "height": 173
    },
    "id": "NBJOwr7vknjj",
    "outputId": "7d0ff5b5-0313-41be-ced1-b0642a340941"
   },
   "outputs": [
    {
     "ename": "NameError",
     "evalue": "name 'cuccaro' is not defined",
     "output_type": "error",
     "traceback": [
      "\u001b[31m---------------------------------------------------------------------------\u001b[39m",
      "\u001b[31mNameError\u001b[39m                                 Traceback (most recent call last)",
      "\u001b[36mCell\u001b[39m\u001b[36m \u001b[39m\u001b[32mIn[28]\u001b[39m\u001b[32m, line 1\u001b[39m\n\u001b[32m----> \u001b[39m\u001b[32m1\u001b[39m mapping = map_circuit(\u001b[43mcuccaro\u001b[49m, grid_hardware)\n\u001b[32m      2\u001b[39m \u001b[38;5;28mprint\u001b[39m(\u001b[33m'\u001b[39m\u001b[33mMapping:\u001b[39m\u001b[33m'\u001b[39m, mapping)\n\u001b[32m      3\u001b[39m draw_mapping(grid_hardware, mapping)\n",
      "\u001b[31mNameError\u001b[39m: name 'cuccaro' is not defined"
     ]
    }
   ],
   "source": [
    "mapping = map_circuit(cuccaro, grid_hardware)\n",
    "print('Mapping:', mapping)\n",
    "draw_mapping(grid_hardware, mapping)"
   ]
  },
  {
   "cell_type": "code",
   "execution_count": null,
   "metadata": {
    "deletable": false,
    "editable": false,
    "id": "-5nLmERqknjj",
    "nbgrader": {
     "cell_type": "code",
     "checksum": "87e86086d2ed780e343bc4795fe5f123",
     "grade": true,
     "grade_id": "1-helpers",
     "locked": true,
     "points": 0,
     "schema_version": 3,
     "solution": false,
     "task": false
    }
   },
   "outputs": [],
   "source": [
    "# Do not delete this cell\n",
    "def validate_mapping(circuit, target_hardware, mapping):\n",
    "    # Check other arguments\n",
    "    assert isinstance(circuit, QuantumCircuit)\n",
    "    assert isinstance(target_hardware, nx.Graph)\n",
    "    assert isinstance(mapping, dict)\n",
    "    qubits = frozenset(q for q in circuit.qubits)\n",
    "    assert len(circuit.qubits) == len(qubits), 'Unsupported: circuits with multiple registers'\n",
    "    assert all(isinstance(q, Qubit) for q in qubits)\n",
    "    assert len(qubits) <= len(target_hardware.nodes), 'Not enough qubits in the hardware'\n",
    "    assert all(isinstance(hw_q, int) for hw_q in target_hardware.nodes), 'Unsupported: non-int hardware qubit ids'\n",
    "    # Check mapping keys\n",
    "    assert all(isinstance(q, Qubit) for q in mapping.keys()), 'The keys of the mapping should be qiskit Qubits'\n",
    "    assert len(qubits) == len(frozenset(mapping.keys())), 'Not all qubits (or too many) were mapped to hardware'\n",
    "    assert qubits == frozenset(mapping.keys()), 'The mapping uses the wrong keys, they should be qubit._index for each qubit in the circuit'\n",
    "    # Check mapping values\n",
    "    assert all(isinstance(q, int) for q in mapping.values()), 'The values of the mapping should be integers (the nodes of target_hardware)'\n",
    "    assert len(frozenset(mapping.values())) == len(mapping.values()), 'Duplicate values in mapping (hardware qubits): you may only map one circuit qubit to each hardware qubit'\n",
    "    assert frozenset(mapping.values()).issubset(frozenset(target_hardware.nodes)), 'Some of the hardware qubits used do not exist on this hardware'\n",
    "    assert len(target_hardware.nodes) >= len(frozenset(mapping.values())), 'More hardware qubits were used than exist'\n",
    "\n",
    "def score_mapping(circuit, target_hardware, mapping):\n",
    "    '''\n",
    "    Computes a score that approximates the number of SWAPs needed for this mapping.\n",
    "\n",
    "    Returns the tuple (your score, worst possible score).  Lower values are better.\n",
    "    '''\n",
    "    validate_mapping(circuit, target_hardware, mapping)\n",
    "\n",
    "    ig = interaction_graph_from_circuit(circuit)\n",
    "    shortest_paths = dict(nx.all_pairs_shortest_path_length(target_hardware))\n",
    "    score = 0\n",
    "    for q1, q2 in ig.edges:\n",
    "        cnot_count = ig[q1][q2]['weight']\n",
    "        hw_q1 = mapping[q1]\n",
    "        hw_q2 = mapping[q2]\n",
    "        swap_distance = shortest_paths[hw_q1][hw_q2] - 1\n",
    "        score += swap_distance * 2 * cnot_count\n",
    "\n",
    "    furthest = max(max(dist for dist in from_q.values())\n",
    "                       for from_q in shortest_paths.values())\n",
    "    cnot_count = sum(ig[edge[0]][edge[1]]['weight'] for edge in ig.edges)\n",
    "    worst_case_score = (furthest-1) * 2 * cnot_count\n",
    "    print(f'Your mapping score is {score}, better than the worst possible '\n",
    "          f'of {worst_case_score}.')\n",
    "    return score, worst_case_score"
   ]
  },
  {
   "cell_type": "code",
   "execution_count": null,
   "metadata": {
    "id": "PWWPD6hsknjj"
   },
   "outputs": [],
   "source": [
    "# You may modify this cell to test scores for your mapper on various circuits\n",
    "\n",
    "mapping = map_circuit(cuccaro, grid_hardware)\n",
    "score, worst = score_mapping(cuccaro, grid_hardware, mapping)"
   ]
  },
  {
   "cell_type": "code",
   "execution_count": null,
   "metadata": {
    "deletable": false,
    "editable": false,
    "id": "X0OQr7FJknjj",
    "nbgrader": {
     "cell_type": "code",
     "checksum": "dedd7ff1380f2178ddf77562d89d19c7",
     "grade": true,
     "grade_id": "1a-test",
     "locked": true,
     "points": 20,
     "schema_version": 3,
     "solution": false,
     "task": false
    }
   },
   "outputs": [],
   "source": [
    "# Do not delete this cell\n",
    "# The autograder will test the function map_circuit.\n",
    "# This test is worth most of the points for part 1\n",
    "_hardware = nx.path_graph(5)\n",
    "#_cuccaro4 = decomposed_adder_circuit(4)\n",
    "_cuccaro4 = QuantumCircuit.from_qasm_str('OPENQASM 2.0;\\ninclude \"qelib1.inc\";\\nqreg q[4];\\ncx q[1],q[2];\\ncx q[1],q[0];\\nh q[1];\\ncx q[2],q[1];\\nrz(-pi/4) q[1];\\ncx q[0],q[1];\\nrz(pi/4) q[1];\\ncx q[2],q[1];\\nrz(-pi/4) q[1];\\ncx q[0],q[1];\\nrz(-5*pi/4) q[1];\\nrx(pi/2) q[1];\\nrz(pi/2) q[1];\\nrz(pi/4) q[2];\\ncx q[0],q[2];\\nrz(pi/4) q[0];\\nrz(-pi/4) q[2];\\ncx q[0],q[2];\\nrz(2.6375741) q[2];\\nrx(pi) q[2];\\nrz(2.6375741) q[2];\\ncx q[0],q[2];\\ncx q[1],q[3];\\nh q[1];\\ncx q[2],q[1];\\nrz(-pi/4) q[1];\\ncx q[0],q[1];\\nrz(pi/4) q[1];\\ncx q[2],q[1];\\nrz(-pi/4) q[1];\\ncx q[0],q[1];\\nrz(-5*pi/4) q[1];\\nrx(pi/2) q[1];\\nrz(pi/2) q[1];\\nrz(pi/4) q[2];\\ncx q[0],q[2];\\nrz(pi/4) q[0];\\nrz(-pi/4) q[2];\\ncx q[0],q[2];\\ncx q[1],q[0];\\nrz(2.6375741) q[2];\\nrx(pi) q[2];\\nrz(2.6375741) q[2];\\ncx q[1],q[2];\\n')\n",
    "_mapping = map_circuit(_cuccaro4, _hardware)\n",
    "validate_mapping(_cuccaro4, _hardware, _mapping)\n",
    "score_mapping(_cuccaro4, _hardware, _mapping)\n",
    "print('PASS: Valid circuit mapping')"
   ]
  },
  {
   "cell_type": "code",
   "execution_count": null,
   "metadata": {
    "deletable": false,
    "editable": false,
    "id": "ulCeyDMqknjj",
    "nbgrader": {
     "cell_type": "code",
     "checksum": "e1f88b48ffba22c14f96ebfc6f6f379b",
     "grade": true,
     "grade_id": "1b-test",
     "locked": true,
     "points": 5,
     "schema_version": 3,
     "solution": false,
     "task": false
    }
   },
   "outputs": [],
   "source": [
    "# Do not delete this cell\n",
    "# The autograder will test the function map_circuit.\n",
    "_hardware = nx.grid_2d_graph(6, 6)\n",
    "_hardware = nx.relabel_nodes(_hardware,\n",
    "    {n: i for i, n in enumerate(_hardware.nodes)})\n",
    "#_cuccaro36 = decomposed_adder_circuit(36)\n",
    "_cuccaro36 = QuantumCircuit.from_qasm_str('OPENQASM 2.0;\\ninclude \"qelib1.inc\";\\nqreg q[36];\\ncx q[1],q[18];\\ncx q[1],q[0];\\nh q[1];\\ncx q[18],q[1];\\nrz(-pi/4) q[1];\\ncx q[0],q[1];\\nrz(pi/4) q[1];\\ncx q[18],q[1];\\nrz(-pi/4) q[1];\\ncx q[0],q[1];\\nrz(-5*pi/4) q[1];\\nrx(pi/2) q[1];\\nrz(pi/2) q[1];\\nrz(pi/4) q[18];\\ncx q[0],q[18];\\nrz(pi/4) q[0];\\nrz(-pi/4) q[18];\\ncx q[0],q[18];\\nrz(2.6375741) q[18];\\nrx(pi) q[18];\\nrz(2.6375741) q[18];\\ncx q[0],q[18];\\ncx q[2],q[19];\\ncx q[2],q[1];\\nh q[2];\\ncx q[19],q[2];\\nrz(-pi/4) q[2];\\ncx q[1],q[2];\\nrz(pi/4) q[2];\\ncx q[19],q[2];\\nrz(pi/4) q[19];\\nrz(-pi/4) q[2];\\ncx q[1],q[2];\\ncx q[1],q[19];\\nrz(pi/4) q[1];\\nrz(-pi/4) q[19];\\ncx q[1],q[19];\\nrz(2.6375741) q[19];\\nrx(pi) q[19];\\nrz(2.6375741) q[19];\\ncx q[1],q[19];\\nrz(-5*pi/4) q[2];\\nrx(pi/2) q[2];\\nrz(pi/2) q[2];\\ncx q[3],q[20];\\ncx q[3],q[2];\\nh q[3];\\ncx q[20],q[3];\\nrz(-pi/4) q[3];\\ncx q[2],q[3];\\nrz(pi/4) q[3];\\ncx q[20],q[3];\\nrz(pi/4) q[20];\\nrz(-pi/4) q[3];\\ncx q[2],q[3];\\ncx q[2],q[20];\\nrz(pi/4) q[2];\\nrz(-pi/4) q[20];\\ncx q[2],q[20];\\nrz(2.6375741) q[20];\\nrx(pi) q[20];\\nrz(2.6375741) q[20];\\ncx q[2],q[20];\\nrz(-5*pi/4) q[3];\\nrx(pi/2) q[3];\\nrz(pi/2) q[3];\\ncx q[4],q[21];\\ncx q[4],q[3];\\nh q[4];\\ncx q[21],q[4];\\nrz(-pi/4) q[4];\\ncx q[3],q[4];\\nrz(pi/4) q[4];\\ncx q[21],q[4];\\nrz(pi/4) q[21];\\nrz(-pi/4) q[4];\\ncx q[3],q[4];\\ncx q[3],q[21];\\nrz(-pi/4) q[21];\\nrz(pi/4) q[3];\\ncx q[3],q[21];\\nrz(2.6375741) q[21];\\nrx(pi) q[21];\\nrz(2.6375741) q[21];\\ncx q[3],q[21];\\nrz(-5*pi/4) q[4];\\nrx(pi/2) q[4];\\nrz(pi/2) q[4];\\ncx q[5],q[22];\\ncx q[5],q[4];\\nh q[5];\\ncx q[22],q[5];\\nrz(-pi/4) q[5];\\ncx q[4],q[5];\\nrz(pi/4) q[5];\\ncx q[22],q[5];\\nrz(pi/4) q[22];\\nrz(-pi/4) q[5];\\ncx q[4],q[5];\\ncx q[4],q[22];\\nrz(-pi/4) q[22];\\nrz(pi/4) q[4];\\ncx q[4],q[22];\\nrz(2.6375741) q[22];\\nrx(pi) q[22];\\nrz(2.6375741) q[22];\\ncx q[4],q[22];\\nrz(-5*pi/4) q[5];\\nrx(pi/2) q[5];\\nrz(pi/2) q[5];\\ncx q[6],q[23];\\ncx q[6],q[5];\\nh q[6];\\ncx q[23],q[6];\\nrz(-pi/4) q[6];\\ncx q[5],q[6];\\nrz(pi/4) q[6];\\ncx q[23],q[6];\\nrz(pi/4) q[23];\\nrz(-pi/4) q[6];\\ncx q[5],q[6];\\ncx q[5],q[23];\\nrz(-pi/4) q[23];\\nrz(pi/4) q[5];\\ncx q[5],q[23];\\nrz(2.6375741) q[23];\\nrx(pi) q[23];\\nrz(2.6375741) q[23];\\ncx q[5],q[23];\\nrz(-5*pi/4) q[6];\\nrx(pi/2) q[6];\\nrz(pi/2) q[6];\\ncx q[7],q[24];\\ncx q[7],q[6];\\nh q[7];\\ncx q[24],q[7];\\nrz(-pi/4) q[7];\\ncx q[6],q[7];\\nrz(pi/4) q[7];\\ncx q[24],q[7];\\nrz(pi/4) q[24];\\nrz(-pi/4) q[7];\\ncx q[6],q[7];\\ncx q[6],q[24];\\nrz(-pi/4) q[24];\\nrz(pi/4) q[6];\\ncx q[6],q[24];\\nrz(2.6375741) q[24];\\nrx(pi) q[24];\\nrz(2.6375741) q[24];\\ncx q[6],q[24];\\nrz(-5*pi/4) q[7];\\nrx(pi/2) q[7];\\nrz(pi/2) q[7];\\ncx q[8],q[25];\\ncx q[8],q[7];\\nh q[8];\\ncx q[25],q[8];\\nrz(-pi/4) q[8];\\ncx q[7],q[8];\\nrz(pi/4) q[8];\\ncx q[25],q[8];\\nrz(pi/4) q[25];\\nrz(-pi/4) q[8];\\ncx q[7],q[8];\\ncx q[7],q[25];\\nrz(-pi/4) q[25];\\nrz(pi/4) q[7];\\ncx q[7],q[25];\\nrz(2.6375741) q[25];\\nrx(pi) q[25];\\nrz(2.6375741) q[25];\\ncx q[7],q[25];\\nrz(-5*pi/4) q[8];\\nrx(pi/2) q[8];\\nrz(pi/2) q[8];\\ncx q[9],q[26];\\ncx q[9],q[8];\\nh q[9];\\ncx q[26],q[9];\\nrz(-pi/4) q[9];\\ncx q[8],q[9];\\nrz(pi/4) q[9];\\ncx q[26],q[9];\\nrz(pi/4) q[26];\\nrz(-pi/4) q[9];\\ncx q[8],q[9];\\ncx q[8],q[26];\\nrz(-pi/4) q[26];\\nrz(pi/4) q[8];\\ncx q[8],q[26];\\nrz(2.6375741) q[26];\\nrx(pi) q[26];\\nrz(2.6375741) q[26];\\ncx q[8],q[26];\\nrz(-5*pi/4) q[9];\\nrx(pi/2) q[9];\\nrz(pi/2) q[9];\\ncx q[10],q[27];\\ncx q[10],q[9];\\nh q[10];\\ncx q[27],q[10];\\nrz(-pi/4) q[10];\\ncx q[9],q[10];\\nrz(pi/4) q[10];\\ncx q[27],q[10];\\nrz(-pi/4) q[10];\\nrz(pi/4) q[27];\\ncx q[9],q[10];\\nrz(-5*pi/4) q[10];\\nrx(pi/2) q[10];\\nrz(pi/2) q[10];\\ncx q[9],q[27];\\nrz(-pi/4) q[27];\\nrz(pi/4) q[9];\\ncx q[9],q[27];\\nrz(2.6375741) q[27];\\nrx(pi) q[27];\\nrz(2.6375741) q[27];\\ncx q[9],q[27];\\ncx q[11],q[28];\\ncx q[11],q[10];\\nh q[11];\\ncx q[28],q[11];\\nrz(-pi/4) q[11];\\ncx q[10],q[11];\\nrz(pi/4) q[11];\\ncx q[28],q[11];\\nrz(-pi/4) q[11];\\ncx q[10],q[11];\\nrz(-5*pi/4) q[11];\\nrx(pi/2) q[11];\\nrz(pi/2) q[11];\\nrz(pi/4) q[28];\\ncx q[10],q[28];\\nrz(pi/4) q[10];\\nrz(-pi/4) q[28];\\ncx q[10],q[28];\\nrz(2.6375741) q[28];\\nrx(pi) q[28];\\nrz(2.6375741) q[28];\\ncx q[10],q[28];\\ncx q[12],q[29];\\ncx q[12],q[11];\\nh q[12];\\ncx q[29],q[12];\\nrz(-pi/4) q[12];\\ncx q[11],q[12];\\nrz(pi/4) q[12];\\ncx q[29],q[12];\\nrz(-pi/4) q[12];\\ncx q[11],q[12];\\nrz(-5*pi/4) q[12];\\nrx(pi/2) q[12];\\nrz(pi/2) q[12];\\nrz(pi/4) q[29];\\ncx q[11],q[29];\\nrz(pi/4) q[11];\\nrz(-pi/4) q[29];\\ncx q[11],q[29];\\nrz(2.6375741) q[29];\\nrx(pi) q[29];\\nrz(2.6375741) q[29];\\ncx q[11],q[29];\\ncx q[13],q[30];\\ncx q[13],q[12];\\nh q[13];\\ncx q[30],q[13];\\nrz(-pi/4) q[13];\\ncx q[12],q[13];\\nrz(pi/4) q[13];\\ncx q[30],q[13];\\nrz(-pi/4) q[13];\\ncx q[12],q[13];\\nrz(-5*pi/4) q[13];\\nrx(pi/2) q[13];\\nrz(pi/2) q[13];\\nrz(pi/4) q[30];\\ncx q[12],q[30];\\nrz(pi/4) q[12];\\nrz(-pi/4) q[30];\\ncx q[12],q[30];\\nrz(2.6375741) q[30];\\nrx(pi) q[30];\\nrz(2.6375741) q[30];\\ncx q[12],q[30];\\ncx q[14],q[31];\\ncx q[14],q[13];\\nh q[14];\\ncx q[31],q[14];\\nrz(-pi/4) q[14];\\ncx q[13],q[14];\\nrz(pi/4) q[14];\\ncx q[31],q[14];\\nrz(-pi/4) q[14];\\ncx q[13],q[14];\\nrz(-5*pi/4) q[14];\\nrx(pi/2) q[14];\\nrz(pi/2) q[14];\\nrz(pi/4) q[31];\\ncx q[13],q[31];\\nrz(pi/4) q[13];\\nrz(-pi/4) q[31];\\ncx q[13],q[31];\\nrz(2.6375741) q[31];\\nrx(pi) q[31];\\nrz(2.6375741) q[31];\\ncx q[13],q[31];\\ncx q[15],q[32];\\ncx q[15],q[14];\\nh q[15];\\ncx q[32],q[15];\\nrz(-pi/4) q[15];\\ncx q[14],q[15];\\nrz(pi/4) q[15];\\ncx q[32],q[15];\\nrz(-pi/4) q[15];\\ncx q[14],q[15];\\nrz(-5*pi/4) q[15];\\nrx(pi/2) q[15];\\nrz(pi/2) q[15];\\nrz(pi/4) q[32];\\ncx q[14],q[32];\\nrz(pi/4) q[14];\\nrz(-pi/4) q[32];\\ncx q[14],q[32];\\nrz(2.6375741) q[32];\\nrx(pi) q[32];\\nrz(2.6375741) q[32];\\ncx q[14],q[32];\\ncx q[16],q[33];\\ncx q[16],q[15];\\nh q[16];\\ncx q[33],q[16];\\nrz(-pi/4) q[16];\\ncx q[15],q[16];\\nrz(pi/4) q[16];\\ncx q[33],q[16];\\nrz(-pi/4) q[16];\\ncx q[15],q[16];\\nrz(-5*pi/4) q[16];\\nrx(pi/2) q[16];\\nrz(pi/2) q[16];\\nrz(pi/4) q[33];\\ncx q[15],q[33];\\nrz(pi/4) q[15];\\nrz(-pi/4) q[33];\\ncx q[15],q[33];\\nrz(2.6375741) q[33];\\nrx(pi) q[33];\\nrz(2.6375741) q[33];\\ncx q[15],q[33];\\ncx q[17],q[34];\\ncx q[17],q[16];\\nh q[17];\\ncx q[34],q[17];\\nrz(-pi/4) q[17];\\ncx q[16],q[17];\\nrz(pi/4) q[17];\\ncx q[34],q[17];\\nrz(-pi/4) q[17];\\ncx q[16],q[17];\\nrz(-5*pi/4) q[17];\\nrx(pi/2) q[17];\\nrz(pi/2) q[17];\\nrz(pi/4) q[34];\\ncx q[16],q[34];\\nrz(pi/4) q[16];\\nrz(-pi/4) q[34];\\ncx q[16],q[34];\\nrz(2.6375741) q[34];\\nrx(pi) q[34];\\nrz(2.6375741) q[34];\\ncx q[16],q[34];\\ncx q[17],q[35];\\nh q[17];\\ncx q[34],q[17];\\nrz(-pi/4) q[17];\\ncx q[16],q[17];\\nrz(pi/4) q[17];\\ncx q[34],q[17];\\nrz(-pi/4) q[17];\\ncx q[16],q[17];\\nrz(-5*pi/4) q[17];\\nrx(pi/2) q[17];\\nrz(pi/2) q[17];\\nrz(pi/4) q[34];\\ncx q[16],q[34];\\nrz(pi/4) q[16];\\nrz(-pi/4) q[34];\\ncx q[16],q[34];\\ncx q[17],q[16];\\nh q[16];\\ncx q[33],q[16];\\nrz(-pi/4) q[16];\\ncx q[15],q[16];\\nrz(pi/4) q[16];\\ncx q[33],q[16];\\nrz(-pi/4) q[16];\\ncx q[15],q[16];\\nrz(-5*pi/4) q[16];\\nrx(pi/2) q[16];\\nrz(pi/2) q[16];\\nrz(pi/4) q[33];\\ncx q[15],q[33];\\nrz(pi/4) q[15];\\nrz(-pi/4) q[33];\\ncx q[15],q[33];\\ncx q[16],q[15];\\nh q[15];\\ncx q[32],q[15];\\nrz(-pi/4) q[15];\\ncx q[14],q[15];\\nrz(pi/4) q[15];\\ncx q[32],q[15];\\nrz(-pi/4) q[15];\\ncx q[14],q[15];\\nrz(-5*pi/4) q[15];\\nrx(pi/2) q[15];\\nrz(pi/2) q[15];\\nrz(pi/4) q[32];\\ncx q[14],q[32];\\nrz(pi/4) q[14];\\nrz(-pi/4) q[32];\\ncx q[14],q[32];\\ncx q[15],q[14];\\nh q[14];\\ncx q[31],q[14];\\nrz(-pi/4) q[14];\\ncx q[13],q[14];\\nrz(pi/4) q[14];\\ncx q[31],q[14];\\nrz(-pi/4) q[14];\\ncx q[13],q[14];\\nrz(-5*pi/4) q[14];\\nrx(pi/2) q[14];\\nrz(pi/2) q[14];\\nrz(pi/4) q[31];\\ncx q[13],q[31];\\nrz(pi/4) q[13];\\nrz(-pi/4) q[31];\\ncx q[13],q[31];\\ncx q[14],q[13];\\nh q[13];\\ncx q[30],q[13];\\nrz(-pi/4) q[13];\\ncx q[12],q[13];\\nrz(pi/4) q[13];\\ncx q[30],q[13];\\nrz(-pi/4) q[13];\\ncx q[12],q[13];\\nrz(-5*pi/4) q[13];\\nrx(pi/2) q[13];\\nrz(pi/2) q[13];\\nrz(pi/4) q[30];\\ncx q[12],q[30];\\nrz(pi/4) q[12];\\nrz(-pi/4) q[30];\\ncx q[12],q[30];\\ncx q[13],q[12];\\nh q[12];\\ncx q[29],q[12];\\nrz(-pi/4) q[12];\\ncx q[11],q[12];\\nrz(pi/4) q[12];\\ncx q[29],q[12];\\nrz(-pi/4) q[12];\\ncx q[11],q[12];\\nrz(-5*pi/4) q[12];\\nrx(pi/2) q[12];\\nrz(pi/2) q[12];\\nrz(pi/4) q[29];\\ncx q[11],q[29];\\nrz(pi/4) q[11];\\nrz(-pi/4) q[29];\\ncx q[11],q[29];\\ncx q[12],q[11];\\nh q[11];\\ncx q[28],q[11];\\nrz(-pi/4) q[11];\\ncx q[10],q[11];\\nrz(pi/4) q[11];\\ncx q[28],q[11];\\nrz(-pi/4) q[11];\\ncx q[10],q[11];\\nrz(-5*pi/4) q[11];\\nrx(pi/2) q[11];\\nrz(pi/2) q[11];\\nrz(pi/4) q[28];\\ncx q[10],q[28];\\nrz(pi/4) q[10];\\nrz(-pi/4) q[28];\\ncx q[10],q[28];\\ncx q[11],q[10];\\nh q[10];\\ncx q[27],q[10];\\nrz(-pi/4) q[10];\\nrz(2.6375741) q[28];\\nrx(pi) q[28];\\nrz(2.6375741) q[28];\\ncx q[11],q[28];\\nrz(2.6375741) q[29];\\nrx(pi) q[29];\\nrz(2.6375741) q[29];\\ncx q[12],q[29];\\nrz(2.6375741) q[30];\\nrx(pi) q[30];\\nrz(2.6375741) q[30];\\ncx q[13],q[30];\\nrz(2.6375741) q[31];\\nrx(pi) q[31];\\nrz(2.6375741) q[31];\\ncx q[14],q[31];\\nrz(2.6375741) q[32];\\nrx(pi) q[32];\\nrz(2.6375741) q[32];\\ncx q[15],q[32];\\nrz(2.6375741) q[33];\\nrx(pi) q[33];\\nrz(2.6375741) q[33];\\ncx q[16],q[33];\\nrz(2.6375741) q[34];\\nrx(pi) q[34];\\nrz(2.6375741) q[34];\\ncx q[17],q[34];\\ncx q[9],q[10];\\nrz(pi/4) q[10];\\ncx q[27],q[10];\\nrz(-pi/4) q[10];\\nrz(pi/4) q[27];\\ncx q[9],q[10];\\nrz(-5*pi/4) q[10];\\nrx(pi/2) q[10];\\nrz(pi/2) q[10];\\ncx q[9],q[27];\\nrz(-pi/4) q[27];\\nrz(pi/4) q[9];\\ncx q[9],q[27];\\ncx q[10],q[9];\\nrz(2.6375741) q[27];\\nrx(pi) q[27];\\nrz(2.6375741) q[27];\\ncx q[10],q[27];\\nh q[9];\\ncx q[26],q[9];\\nrz(-pi/4) q[9];\\ncx q[8],q[9];\\nrz(pi/4) q[9];\\ncx q[26],q[9];\\nrz(pi/4) q[26];\\nrz(-pi/4) q[9];\\ncx q[8],q[9];\\ncx q[8],q[26];\\nrz(-pi/4) q[26];\\nrz(pi/4) q[8];\\ncx q[8],q[26];\\nrz(2.6375741) q[26];\\nrx(pi) q[26];\\nrz(2.6375741) q[26];\\nrz(-5*pi/4) q[9];\\nrx(pi/2) q[9];\\nrz(pi/2) q[9];\\ncx q[9],q[8];\\nh q[8];\\ncx q[25],q[8];\\nrz(-pi/4) q[8];\\ncx q[7],q[8];\\nrz(pi/4) q[8];\\ncx q[25],q[8];\\nrz(pi/4) q[25];\\nrz(-pi/4) q[8];\\ncx q[7],q[8];\\ncx q[7],q[25];\\nrz(-pi/4) q[25];\\nrz(pi/4) q[7];\\ncx q[7],q[25];\\nrz(2.6375741) q[25];\\nrx(pi) q[25];\\nrz(2.6375741) q[25];\\nrz(-5*pi/4) q[8];\\nrx(pi/2) q[8];\\nrz(pi/2) q[8];\\ncx q[8],q[7];\\nh q[7];\\ncx q[24],q[7];\\nrz(-pi/4) q[7];\\ncx q[6],q[7];\\nrz(pi/4) q[7];\\ncx q[24],q[7];\\nrz(pi/4) q[24];\\nrz(-pi/4) q[7];\\ncx q[6],q[7];\\ncx q[6],q[24];\\nrz(-pi/4) q[24];\\nrz(pi/4) q[6];\\ncx q[6],q[24];\\nrz(2.6375741) q[24];\\nrx(pi) q[24];\\nrz(2.6375741) q[24];\\nrz(-5*pi/4) q[7];\\nrx(pi/2) q[7];\\nrz(pi/2) q[7];\\ncx q[7],q[6];\\nh q[6];\\ncx q[23],q[6];\\nrz(-pi/4) q[6];\\ncx q[5],q[6];\\nrz(pi/4) q[6];\\ncx q[23],q[6];\\nrz(pi/4) q[23];\\nrz(-pi/4) q[6];\\ncx q[5],q[6];\\ncx q[5],q[23];\\nrz(-pi/4) q[23];\\nrz(pi/4) q[5];\\ncx q[5],q[23];\\nrz(2.6375741) q[23];\\nrx(pi) q[23];\\nrz(2.6375741) q[23];\\nrz(-5*pi/4) q[6];\\nrx(pi/2) q[6];\\nrz(pi/2) q[6];\\ncx q[6],q[5];\\nh q[5];\\ncx q[22],q[5];\\nrz(-pi/4) q[5];\\ncx q[4],q[5];\\nrz(pi/4) q[5];\\ncx q[22],q[5];\\nrz(pi/4) q[22];\\nrz(-pi/4) q[5];\\ncx q[4],q[5];\\ncx q[4],q[22];\\nrz(-pi/4) q[22];\\nrz(pi/4) q[4];\\ncx q[4],q[22];\\nrz(2.6375741) q[22];\\nrx(pi) q[22];\\nrz(2.6375741) q[22];\\nrz(-5*pi/4) q[5];\\nrx(pi/2) q[5];\\nrz(pi/2) q[5];\\ncx q[5],q[4];\\nh q[4];\\ncx q[21],q[4];\\nrz(-pi/4) q[4];\\ncx q[3],q[4];\\nrz(pi/4) q[4];\\ncx q[21],q[4];\\nrz(pi/4) q[21];\\nrz(-pi/4) q[4];\\ncx q[3],q[4];\\ncx q[3],q[21];\\nrz(-pi/4) q[21];\\nrz(pi/4) q[3];\\ncx q[3],q[21];\\nrz(2.6375741) q[21];\\nrx(pi) q[21];\\nrz(2.6375741) q[21];\\nrz(-5*pi/4) q[4];\\nrx(pi/2) q[4];\\nrz(pi/2) q[4];\\ncx q[4],q[3];\\nh q[3];\\ncx q[20],q[3];\\nrz(-pi/4) q[3];\\ncx q[2],q[3];\\nrz(pi/4) q[3];\\ncx q[20],q[3];\\nrz(pi/4) q[20];\\nrz(-pi/4) q[3];\\ncx q[2],q[3];\\ncx q[2],q[20];\\nrz(pi/4) q[2];\\nrz(-pi/4) q[20];\\ncx q[2],q[20];\\nrz(2.6375741) q[20];\\nrx(pi) q[20];\\nrz(2.6375741) q[20];\\nrz(-5*pi/4) q[3];\\nrx(pi/2) q[3];\\nrz(pi/2) q[3];\\ncx q[3],q[2];\\nh q[2];\\ncx q[19],q[2];\\nrz(-pi/4) q[2];\\ncx q[1],q[2];\\nrz(pi/4) q[2];\\ncx q[19],q[2];\\nrz(pi/4) q[19];\\nrz(-pi/4) q[2];\\ncx q[1],q[2];\\ncx q[1],q[19];\\nrz(pi/4) q[1];\\nrz(-pi/4) q[19];\\ncx q[1],q[19];\\nrz(2.6375741) q[19];\\nrx(pi) q[19];\\nrz(2.6375741) q[19];\\nrz(-5*pi/4) q[2];\\nrx(pi/2) q[2];\\nrz(pi/2) q[2];\\ncx q[2],q[1];\\nh q[1];\\ncx q[18],q[1];\\nrz(-pi/4) q[1];\\ncx q[0],q[1];\\nrz(pi/4) q[1];\\ncx q[18],q[1];\\nrz(-pi/4) q[1];\\ncx q[0],q[1];\\nrz(-5*pi/4) q[1];\\nrx(pi/2) q[1];\\nrz(pi/2) q[1];\\nrz(pi/4) q[18];\\ncx q[0],q[18];\\nrz(pi/4) q[0];\\nrz(-pi/4) q[18];\\ncx q[0],q[18];\\ncx q[1],q[0];\\nrz(2.6375741) q[18];\\nrx(pi) q[18];\\nrz(2.6375741) q[18];\\ncx q[1],q[18];\\ncx q[2],q[19];\\ncx q[3],q[20];\\ncx q[4],q[21];\\ncx q[5],q[22];\\ncx q[6],q[23];\\ncx q[7],q[24];\\ncx q[8],q[25];\\ncx q[9],q[26];\\n')\n",
    "_mapping = map_circuit(_cuccaro36, _hardware)\n",
    "validate_mapping(_cuccaro36, _hardware, _mapping)\n",
    "_score, _worst = score_mapping(_cuccaro36, _hardware, _mapping)\n",
    "assert _worst == 5220, 'internal error'\n",
    "assert _score <= 1600, 'score is above 1600, try improving the mapping by placing pairs of qubits with many CNOTs close together'\n",
    "print('PASS: Score is under 1600 (see if you can beat our solution of 210)')"
   ]
  },
  {
   "cell_type": "code",
   "execution_count": null,
   "metadata": {
    "deletable": false,
    "editable": false,
    "id": "7MRqQPh1knjk",
    "nbgrader": {
     "cell_type": "code",
     "checksum": "336161653a3da43ee47d1b85e5e107fe",
     "grade": true,
     "grade_id": "1c-test",
     "locked": true,
     "points": 5,
     "schema_version": 3,
     "solution": false,
     "task": false
    }
   },
   "outputs": [],
   "source": [
    "# Do not delete this cell\n",
    "# The autograder will test the function map_circuit.\n",
    "# Hidden tests"
   ]
  },
  {
   "cell_type": "markdown",
   "metadata": {
    "id": "pgDMq6o9knjk"
   },
   "source": [
    "# 2. Routing 2 Qubit Interactions\n",
    "\n",
    "Your second task is to route two qubit interactions. If two qubits are not adjacent in hardware, add in SWAPs (generate a new circuit with the SWAP gates!) to make them adjacent, execute the desired gate, and the add SWAPs to return them to their originial position. You should choose paths which use as few SWAPs as possible. The output circuit should only contain gates (SWAPs and CNOTs) executed on pairs of qubits that are adjacent in the hardware graph (and also any single-qubit gates from the original circuit).\n",
    "\n",
    "Make sure your code runs quickly.  Each test shouldn't run longer than a few seconds and 30 seconds will timeout the grader."
   ]
  },
  {
   "cell_type": "code",
   "execution_count": null,
   "metadata": {
    "deletable": false,
    "id": "ivu9cdAAknjk",
    "nbgrader": {
     "cell_type": "code",
     "checksum": "e289bf8f8482ff489af96b08d50f8b20",
     "grade": false,
     "grade_id": "2",
     "locked": false,
     "schema_version": 3,
     "solution": true,
     "task": false
    }
   },
   "outputs": [],
   "source": [
    "def route_circuit(quantum_circuit:QuantumCircuit, target_hardware:nx.Graph,\n",
    "                  mapping:Dict[Qubit, int]) -> QuantumCircuit:\n",
    "    '''\n",
    "    This function should take an input program given as a\n",
    "    qiskit.QuantumCircuit, a target hardware, given as a networkx\n",
    "    graph, and a mapping (the dictionary from part 2) and return a\n",
    "    new QuantumCircuit with additional operations added in.  We expect\n",
    "    you to SWAP there and SWAP back so the mapping need not be modified,\n",
    "    however more efficient implementations are welcome (see the\n",
    "    bonus challenge in part 4).\n",
    "    '''\n",
    "    ### YOUR SOLUTION IN THIS FUNCTION\n",
    "\n",
    "    new_circuit = QuantumCircuit(len(target_hardware.nodes))\n",
    "\n",
    "    # YOUR CODE HERE\n",
    "    # Hint:\n",
    "    # To copy a single-qubit gate:\n",
    "    #     instr = quantum_circuit[i]\n",
    "    #     circuit_qubit_list = instr.qubits\n",
    "    #     hardware_qubit_id = ...\n",
    "    #     new_circuit.append(instr.operation, [hardware_qubit_id], instr.clbits)\n",
    "    # To copy a two-qubit gate:\n",
    "    #     new_circuit.append(instr.operation, [hardware_qubit1_id, hardware_qubit2_id], instr.clbits)\n",
    "\n",
    "    return new_circuit"
   ]
  },
  {
   "cell_type": "code",
   "execution_count": null,
   "metadata": {
    "id": "71sW8EQ6knjk"
   },
   "outputs": [],
   "source": [
    "mapping = map_circuit(cuccaro, grid_hardware)\n",
    "routed = route_circuit(cuccaro, grid_hardware, mapping)\n",
    "routed.draw(fold=-1)"
   ]
  },
  {
   "cell_type": "code",
   "execution_count": null,
   "metadata": {
    "deletable": false,
    "editable": false,
    "id": "uSrUOwviknjk",
    "nbgrader": {
     "cell_type": "code",
     "checksum": "38b8fd6d5ec53e6a53168c6b412c8a1a",
     "grade": true,
     "grade_id": "2-helpers",
     "locked": true,
     "points": 0,
     "schema_version": 3,
     "solution": false,
     "task": false
    }
   },
   "outputs": [],
   "source": [
    "# Do not delete this cell\n",
    "def validate_routing(circuit, target_hardware, mapping, routed_circuit, check_unitary=True):\n",
    "    '''Set check_unitary=False for circuits with over 10 qubits.'''\n",
    "    # Check other arguments\n",
    "    assert isinstance(circuit, QuantumCircuit)\n",
    "    assert isinstance(target_hardware, nx.Graph)\n",
    "    assert isinstance(mapping, dict)\n",
    "    qubits = frozenset(q for q in circuit.qubits)\n",
    "    assert len(circuit.qubits) == len(qubits), 'Unsupported: circuits with multiple registers'\n",
    "    assert all(isinstance(q, Qubit) for q in qubits)\n",
    "    assert len(qubits) <= len(target_hardware.nodes), 'Not enough qubits in the hardware'\n",
    "    assert all(isinstance(hw_q, int) for hw_q in target_hardware.nodes), 'Unsupported: non-int hardware qubit ids'\n",
    "    # Check unitary\n",
    "    if check_unitary:  # Slow for circuits with more than 10 qubits\n",
    "        extended_circuit = QuantumCircuit(len(target_hardware.nodes))\n",
    "        for instr in circuit:\n",
    "            extended_qubits = [extended_circuit.qubits[q._index]\n",
    "                               for q in instr.qubits]\n",
    "            extended_circuit.append(instr.operation, extended_qubits, instr.clbits)\n",
    "        unmapped_circuit = QuantumCircuit(len(target_hardware.nodes))\n",
    "        rev_mapping = {v: k._index for k, v in mapping.items()}\n",
    "        for instr in routed_circuit:\n",
    "            unmapped_qubits = [unmapped_circuit.qubits[rev_mapping.get(q._index, q._index)]\n",
    "                               for q in instr.qubits]\n",
    "            unmapped_circuit.append(instr.operation, unmapped_qubits, instr.clbits)\n",
    "\n",
    "        from qiskit.quantum_info.operators.predicates import matrix_equal\n",
    "        unitary = lambda c: qiskit.quantum_info.Operator(c).data\n",
    "        assert matrix_equal(unitary(unmapped_circuit), unitary(extended_circuit)), (\n",
    "            'Circuits are not eqivalent (for this test, make sure to include '\n",
    "            'any unnessesary SWAP gates at the end of the circuit to ensure the '\n",
    "            'qubits are moved back to their starting locations.)')\n",
    "    # Check valid gates\n",
    "    for instr in routed_circuit:\n",
    "        if len(instr.qubits) < 2: continue  # Ignore single-qubit gates\n",
    "        assert len(instr.qubits) <= 2, (\n",
    "            f'Invalid gate {instr}: the routed circuit should not contain '\n",
    "            f'3-qubit or larger gates')\n",
    "        # Check connectivity of the two-qubit gate\n",
    "        q1, q2 = instr.qubits\n",
    "        assert (q1._index, q2._index) in target_hardware.edges, (\n",
    "            f'Invalid gate {instr}: the routed circuit should not contain '\n",
    "            f'two-qubits gates on pairs of non-adjacent qubits (in the '\n",
    "            f'target_hardware graph)')\n",
    "\n",
    "def score_routing(circuit, target_hardware, mapping, routed_circuit):\n",
    "    '''\n",
    "    Computes a score that counts the number of SWAPs needed for this routing.\n",
    "    (Actually counts the number of extra CNOTs divided by 3.)\n",
    "\n",
    "    Returns the tuple (your score, swap-there-and-back score).  Lower values are better.\n",
    "\n",
    "    *This should be equal (or maybe a bit lower) than your score for part 1.*\n",
    "    '''\n",
    "    validate_routing(circuit, target_hardware, mapping, routed_circuit, check_unitary=False)\n",
    "\n",
    "    def count_cnots_in_circuit(c):\n",
    "        pm = qiskit.transpiler.PassManager([\n",
    "                qiskit.transpiler.passes.BasisTranslator(qiskit.circuit.equivalence_library.SessionEquivalenceLibrary, ['u3', 'cx'])\n",
    "            ])\n",
    "        c2 = pm.run(c)\n",
    "        count = sum(isinstance(instr.operation, qiskit.circuit.library.standard_gates.x.CXGate)\n",
    "                    for instr in c2)\n",
    "        return count\n",
    "\n",
    "    old_cnot_count = count_cnots_in_circuit(circuit)\n",
    "    new_cnot_count = count_cnots_in_circuit(routed_circuit)\n",
    "    score = round((new_cnot_count - old_cnot_count) / 3, 3)\n",
    "    if score == int(score): score = int(score)\n",
    "    assert score >= 0, 'The schedule does not contain enough gates.'\n",
    "\n",
    "    # Calculate target score assuming swap-there-and-back routing\n",
    "    ig = interaction_graph_from_circuit(circuit)\n",
    "    shortest_paths = dict(nx.all_pairs_shortest_path_length(target_hardware))\n",
    "    target_score = 0\n",
    "    for q1, q2 in ig.edges:\n",
    "        hw_q1 = mapping[q1]\n",
    "        hw_q2 = mapping[q2]\n",
    "        dist = shortest_paths[hw_q1][hw_q2]\n",
    "        cnot_count = ig[q1][q2]['weight']\n",
    "        target_score += (dist-1) * 2 * cnot_count\n",
    "    print(f'Your routing score is {score} SWAPs.')\n",
    "    print(f'(You should have gotten {target_score} SWAPs if you used the '\n",
    "          f'swap-there-and-back routing strategy.)')\n",
    "    return score, target_score"
   ]
  },
  {
   "cell_type": "code",
   "execution_count": null,
   "metadata": {
    "id": "AeRH4NrXknjl"
   },
   "outputs": [],
   "source": [
    "# You may modify this cell to test scores for your mapper on various circuits\n",
    "\n",
    "mapping = map_circuit(cuccaro, grid_hardware)\n",
    "routed = route_circuit(cuccaro, grid_hardware, mapping)\n",
    "score_routing(cuccaro, grid_hardware, mapping, routed)"
   ]
  },
  {
   "cell_type": "code",
   "execution_count": null,
   "metadata": {
    "deletable": false,
    "editable": false,
    "id": "CEKYvJXMknjl",
    "nbgrader": {
     "cell_type": "code",
     "checksum": "bec00c30f870dd04603bde21305880c4",
     "grade": true,
     "grade_id": "2a-test",
     "locked": true,
     "points": 20,
     "schema_version": 3,
     "solution": false,
     "task": false
    }
   },
   "outputs": [],
   "source": [
    "# Do not delete this cell\n",
    "# The autograder will test the function route_circuit.\n",
    "# This test is worth most of the points for part 2\n",
    "_hardware = nx.path_graph(7)\n",
    "#_cuccaro6 = decomposed_adder_circuit(6)\n",
    "_cuccaro6 = QuantumCircuit.from_qasm_str('OPENQASM 2.0;\\ninclude \"qelib1.inc\";\\nqreg q[6];\\ncx q[1],q[3];\\ncx q[1],q[0];\\nh q[1];\\ncx q[3],q[1];\\nrz(-pi/4) q[1];\\ncx q[0],q[1];\\nrz(pi/4) q[1];\\ncx q[3],q[1];\\nrz(-pi/4) q[1];\\ncx q[0],q[1];\\nrz(-5*pi/4) q[1];\\nrx(pi/2) q[1];\\nrz(pi/2) q[1];\\nrz(pi/4) q[3];\\ncx q[0],q[3];\\nrz(pi/4) q[0];\\nrz(-pi/4) q[3];\\ncx q[0],q[3];\\nrz(2.6375741) q[3];\\nrx(pi) q[3];\\nrz(2.6375741) q[3];\\ncx q[0],q[3];\\ncx q[2],q[4];\\ncx q[2],q[1];\\nh q[2];\\ncx q[4],q[2];\\nrz(-pi/4) q[2];\\ncx q[1],q[2];\\nrz(pi/4) q[2];\\ncx q[4],q[2];\\nrz(-pi/4) q[2];\\ncx q[1],q[2];\\nrz(-5*pi/4) q[2];\\nrx(pi/2) q[2];\\nrz(pi/2) q[2];\\nrz(pi/4) q[4];\\ncx q[1],q[4];\\nrz(pi/4) q[1];\\nrz(-pi/4) q[4];\\ncx q[1],q[4];\\nrz(2.6375741) q[4];\\nrx(pi) q[4];\\nrz(2.6375741) q[4];\\ncx q[1],q[4];\\ncx q[2],q[5];\\nh q[2];\\ncx q[4],q[2];\\nrz(-pi/4) q[2];\\ncx q[1],q[2];\\nrz(pi/4) q[2];\\ncx q[4],q[2];\\nrz(-pi/4) q[2];\\ncx q[1],q[2];\\nrz(-5*pi/4) q[2];\\nrx(pi/2) q[2];\\nrz(pi/2) q[2];\\nrz(pi/4) q[4];\\ncx q[1],q[4];\\nrz(pi/4) q[1];\\nrz(-pi/4) q[4];\\ncx q[1],q[4];\\ncx q[2],q[1];\\nh q[1];\\ncx q[3],q[1];\\nrz(-pi/4) q[1];\\ncx q[0],q[1];\\nrz(pi/4) q[1];\\ncx q[3],q[1];\\nrz(-pi/4) q[1];\\ncx q[0],q[1];\\nrz(-5*pi/4) q[1];\\nrx(pi/2) q[1];\\nrz(pi/2) q[1];\\nrz(pi/4) q[3];\\ncx q[0],q[3];\\nrz(pi/4) q[0];\\nrz(-pi/4) q[3];\\ncx q[0],q[3];\\ncx q[1],q[0];\\nrz(2.6375741) q[3];\\nrx(pi) q[3];\\nrz(2.6375741) q[3];\\ncx q[1],q[3];\\nrz(2.6375741) q[4];\\nrx(pi) q[4];\\nrz(2.6375741) q[4];\\ncx q[2],q[4];\\n')\n",
    "# Give a fixed mapping so we only test your router\n",
    "_mapping = {Qubit(QuantumRegister(6, 'q'), 1): 0,\n",
    "            Qubit(QuantumRegister(6, 'q'), 3): 1,\n",
    "            Qubit(QuantumRegister(6, 'q'), 0): 2,\n",
    "            Qubit(QuantumRegister(6, 'q'), 2): 3,\n",
    "            Qubit(QuantumRegister(6, 'q'), 4): 4,\n",
    "            Qubit(QuantumRegister(6, 'q'), 5): 5}\n",
    "validate_mapping(_cuccaro6, _hardware, _mapping)\n",
    "_routing = route_circuit(_cuccaro6, _hardware, _mapping)  # Run your code\n",
    "validate_routing(_cuccaro6, _hardware, _mapping, _routing)\n",
    "score_routing(_cuccaro6, _hardware, _mapping, _routing)\n",
    "print('PASS: Valid circuit routing')"
   ]
  },
  {
   "cell_type": "code",
   "execution_count": null,
   "metadata": {
    "deletable": false,
    "editable": false,
    "id": "8IS_DibVknjl",
    "nbgrader": {
     "cell_type": "code",
     "checksum": "85ca09602d1df0f3662be4ef6ef623ec",
     "grade": true,
     "grade_id": "2b-test",
     "locked": true,
     "points": 5,
     "schema_version": 3,
     "solution": false,
     "task": false
    }
   },
   "outputs": [],
   "source": [
    "# Do not delete this cell\n",
    "# The autograder will test the function route_circuit.\n",
    "_hardware = nx.grid_2d_graph(6, 7)\n",
    "_hardware = nx.relabel_nodes(_hardware,\n",
    "    {n: i for i, n in enumerate(_hardware.nodes)})\n",
    "#_cuccaro38 = decomposed_adder_circuit(38)\n",
    "_cuccaro38 = QuantumCircuit.from_qasm_str('OPENQASM 2.0;\\ninclude \"qelib1.inc\";\\nqreg q[38];\\ncx q[1],q[19];\\ncx q[1],q[0];\\nh q[1];\\ncx q[19],q[1];\\nrz(-pi/4) q[1];\\ncx q[0],q[1];\\nrz(pi/4) q[1];\\ncx q[19],q[1];\\nrz(-pi/4) q[1];\\ncx q[0],q[1];\\nrz(-5*pi/4) q[1];\\nrx(pi/2) q[1];\\nrz(pi/2) q[1];\\nrz(pi/4) q[19];\\ncx q[0],q[19];\\nrz(pi/4) q[0];\\nrz(-pi/4) q[19];\\ncx q[0],q[19];\\nrz(2.6375741) q[19];\\nrx(pi) q[19];\\nrz(2.6375741) q[19];\\ncx q[0],q[19];\\ncx q[2],q[20];\\ncx q[2],q[1];\\nh q[2];\\ncx q[20],q[2];\\nrz(-pi/4) q[2];\\ncx q[1],q[2];\\nrz(pi/4) q[2];\\ncx q[20],q[2];\\nrz(-pi/4) q[2];\\ncx q[1],q[2];\\nrz(-5*pi/4) q[2];\\nrx(pi/2) q[2];\\nrz(pi/2) q[2];\\nrz(pi/4) q[20];\\ncx q[1],q[20];\\nrz(pi/4) q[1];\\nrz(-pi/4) q[20];\\ncx q[1],q[20];\\nrz(2.6375741) q[20];\\nrx(pi) q[20];\\nrz(2.6375741) q[20];\\ncx q[1],q[20];\\ncx q[3],q[21];\\ncx q[3],q[2];\\nh q[3];\\ncx q[21],q[3];\\nrz(-pi/4) q[3];\\ncx q[2],q[3];\\nrz(pi/4) q[3];\\ncx q[21],q[3];\\nrz(pi/4) q[21];\\nrz(-pi/4) q[3];\\ncx q[2],q[3];\\ncx q[2],q[21];\\nrz(pi/4) q[2];\\nrz(-pi/4) q[21];\\ncx q[2],q[21];\\nrz(2.6375741) q[21];\\nrx(pi) q[21];\\nrz(2.6375741) q[21];\\ncx q[2],q[21];\\nrz(-5*pi/4) q[3];\\nrx(pi/2) q[3];\\nrz(pi/2) q[3];\\ncx q[4],q[22];\\ncx q[4],q[3];\\nh q[4];\\ncx q[22],q[4];\\nrz(-pi/4) q[4];\\ncx q[3],q[4];\\nrz(pi/4) q[4];\\ncx q[22],q[4];\\nrz(pi/4) q[22];\\nrz(-pi/4) q[4];\\ncx q[3],q[4];\\ncx q[3],q[22];\\nrz(-pi/4) q[22];\\nrz(pi/4) q[3];\\ncx q[3],q[22];\\nrz(2.6375741) q[22];\\nrx(pi) q[22];\\nrz(2.6375741) q[22];\\ncx q[3],q[22];\\nrz(-5*pi/4) q[4];\\nrx(pi/2) q[4];\\nrz(pi/2) q[4];\\ncx q[5],q[23];\\ncx q[5],q[4];\\nh q[5];\\ncx q[23],q[5];\\nrz(-pi/4) q[5];\\ncx q[4],q[5];\\nrz(pi/4) q[5];\\ncx q[23],q[5];\\nrz(pi/4) q[23];\\nrz(-pi/4) q[5];\\ncx q[4],q[5];\\ncx q[4],q[23];\\nrz(-pi/4) q[23];\\nrz(pi/4) q[4];\\ncx q[4],q[23];\\nrz(2.6375741) q[23];\\nrx(pi) q[23];\\nrz(2.6375741) q[23];\\ncx q[4],q[23];\\nrz(-5*pi/4) q[5];\\nrx(pi/2) q[5];\\nrz(pi/2) q[5];\\ncx q[6],q[24];\\ncx q[6],q[5];\\nh q[6];\\ncx q[24],q[6];\\nrz(-pi/4) q[6];\\ncx q[5],q[6];\\nrz(pi/4) q[6];\\ncx q[24],q[6];\\nrz(pi/4) q[24];\\nrz(-pi/4) q[6];\\ncx q[5],q[6];\\ncx q[5],q[24];\\nrz(-pi/4) q[24];\\nrz(pi/4) q[5];\\ncx q[5],q[24];\\nrz(2.6375741) q[24];\\nrx(pi) q[24];\\nrz(2.6375741) q[24];\\ncx q[5],q[24];\\nrz(-5*pi/4) q[6];\\nrx(pi/2) q[6];\\nrz(pi/2) q[6];\\ncx q[7],q[25];\\ncx q[7],q[6];\\nh q[7];\\ncx q[25],q[7];\\nrz(-pi/4) q[7];\\ncx q[6],q[7];\\nrz(pi/4) q[7];\\ncx q[25],q[7];\\nrz(pi/4) q[25];\\nrz(-pi/4) q[7];\\ncx q[6],q[7];\\ncx q[6],q[25];\\nrz(-pi/4) q[25];\\nrz(pi/4) q[6];\\ncx q[6],q[25];\\nrz(2.6375741) q[25];\\nrx(pi) q[25];\\nrz(2.6375741) q[25];\\ncx q[6],q[25];\\nrz(-5*pi/4) q[7];\\nrx(pi/2) q[7];\\nrz(pi/2) q[7];\\ncx q[8],q[26];\\ncx q[8],q[7];\\nh q[8];\\ncx q[26],q[8];\\nrz(-pi/4) q[8];\\ncx q[7],q[8];\\nrz(pi/4) q[8];\\ncx q[26],q[8];\\nrz(pi/4) q[26];\\nrz(-pi/4) q[8];\\ncx q[7],q[8];\\ncx q[7],q[26];\\nrz(-pi/4) q[26];\\nrz(pi/4) q[7];\\ncx q[7],q[26];\\nrz(2.6375741) q[26];\\nrx(pi) q[26];\\nrz(2.6375741) q[26];\\ncx q[7],q[26];\\nrz(-5*pi/4) q[8];\\nrx(pi/2) q[8];\\nrz(pi/2) q[8];\\ncx q[9],q[27];\\ncx q[9],q[8];\\nh q[9];\\ncx q[27],q[9];\\nrz(-pi/4) q[9];\\ncx q[8],q[9];\\nrz(pi/4) q[9];\\ncx q[27],q[9];\\nrz(pi/4) q[27];\\nrz(-pi/4) q[9];\\ncx q[8],q[9];\\ncx q[8],q[27];\\nrz(-pi/4) q[27];\\nrz(pi/4) q[8];\\ncx q[8],q[27];\\nrz(2.6375741) q[27];\\nrx(pi) q[27];\\nrz(2.6375741) q[27];\\ncx q[8],q[27];\\nrz(-5*pi/4) q[9];\\nrx(pi/2) q[9];\\nrz(pi/2) q[9];\\ncx q[10],q[28];\\ncx q[10],q[9];\\nh q[10];\\ncx q[28],q[10];\\nrz(-pi/4) q[10];\\ncx q[9],q[10];\\nrz(pi/4) q[10];\\ncx q[28],q[10];\\nrz(-pi/4) q[10];\\nrz(pi/4) q[28];\\ncx q[9],q[10];\\nrz(-5*pi/4) q[10];\\nrx(pi/2) q[10];\\nrz(pi/2) q[10];\\ncx q[9],q[28];\\nrz(-pi/4) q[28];\\nrz(pi/4) q[9];\\ncx q[9],q[28];\\nrz(2.6375741) q[28];\\nrx(pi) q[28];\\nrz(2.6375741) q[28];\\ncx q[9],q[28];\\ncx q[11],q[29];\\ncx q[11],q[10];\\nh q[11];\\ncx q[29],q[11];\\nrz(-pi/4) q[11];\\ncx q[10],q[11];\\nrz(pi/4) q[11];\\ncx q[29],q[11];\\nrz(-pi/4) q[11];\\ncx q[10],q[11];\\nrz(-5*pi/4) q[11];\\nrx(pi/2) q[11];\\nrz(pi/2) q[11];\\nrz(pi/4) q[29];\\ncx q[10],q[29];\\nrz(pi/4) q[10];\\nrz(-pi/4) q[29];\\ncx q[10],q[29];\\nrz(2.6375741) q[29];\\nrx(pi) q[29];\\nrz(2.6375741) q[29];\\ncx q[10],q[29];\\ncx q[12],q[30];\\ncx q[12],q[11];\\nh q[12];\\ncx q[30],q[12];\\nrz(-pi/4) q[12];\\ncx q[11],q[12];\\nrz(pi/4) q[12];\\ncx q[30],q[12];\\nrz(-pi/4) q[12];\\ncx q[11],q[12];\\nrz(-5*pi/4) q[12];\\nrx(pi/2) q[12];\\nrz(pi/2) q[12];\\nrz(pi/4) q[30];\\ncx q[11],q[30];\\nrz(pi/4) q[11];\\nrz(-pi/4) q[30];\\ncx q[11],q[30];\\nrz(2.6375741) q[30];\\nrx(pi) q[30];\\nrz(2.6375741) q[30];\\ncx q[11],q[30];\\ncx q[13],q[31];\\ncx q[13],q[12];\\nh q[13];\\ncx q[31],q[13];\\nrz(-pi/4) q[13];\\ncx q[12],q[13];\\nrz(pi/4) q[13];\\ncx q[31],q[13];\\nrz(-pi/4) q[13];\\ncx q[12],q[13];\\nrz(-5*pi/4) q[13];\\nrx(pi/2) q[13];\\nrz(pi/2) q[13];\\nrz(pi/4) q[31];\\ncx q[12],q[31];\\nrz(pi/4) q[12];\\nrz(-pi/4) q[31];\\ncx q[12],q[31];\\nrz(2.6375741) q[31];\\nrx(pi) q[31];\\nrz(2.6375741) q[31];\\ncx q[12],q[31];\\ncx q[14],q[32];\\ncx q[14],q[13];\\nh q[14];\\ncx q[32],q[14];\\nrz(-pi/4) q[14];\\ncx q[13],q[14];\\nrz(pi/4) q[14];\\ncx q[32],q[14];\\nrz(-pi/4) q[14];\\ncx q[13],q[14];\\nrz(-5*pi/4) q[14];\\nrx(pi/2) q[14];\\nrz(pi/2) q[14];\\nrz(pi/4) q[32];\\ncx q[13],q[32];\\nrz(pi/4) q[13];\\nrz(-pi/4) q[32];\\ncx q[13],q[32];\\nrz(2.6375741) q[32];\\nrx(pi) q[32];\\nrz(2.6375741) q[32];\\ncx q[13],q[32];\\ncx q[15],q[33];\\ncx q[15],q[14];\\nh q[15];\\ncx q[33],q[15];\\nrz(-pi/4) q[15];\\ncx q[14],q[15];\\nrz(pi/4) q[15];\\ncx q[33],q[15];\\nrz(-pi/4) q[15];\\ncx q[14],q[15];\\nrz(-5*pi/4) q[15];\\nrx(pi/2) q[15];\\nrz(pi/2) q[15];\\nrz(pi/4) q[33];\\ncx q[14],q[33];\\nrz(pi/4) q[14];\\nrz(-pi/4) q[33];\\ncx q[14],q[33];\\nrz(2.6375741) q[33];\\nrx(pi) q[33];\\nrz(2.6375741) q[33];\\ncx q[14],q[33];\\ncx q[16],q[34];\\ncx q[16],q[15];\\nh q[16];\\ncx q[34],q[16];\\nrz(-pi/4) q[16];\\ncx q[15],q[16];\\nrz(pi/4) q[16];\\ncx q[34],q[16];\\nrz(-pi/4) q[16];\\ncx q[15],q[16];\\nrz(-5*pi/4) q[16];\\nrx(pi/2) q[16];\\nrz(pi/2) q[16];\\nrz(pi/4) q[34];\\ncx q[15],q[34];\\nrz(pi/4) q[15];\\nrz(-pi/4) q[34];\\ncx q[15],q[34];\\nrz(2.6375741) q[34];\\nrx(pi) q[34];\\nrz(2.6375741) q[34];\\ncx q[15],q[34];\\ncx q[17],q[35];\\ncx q[17],q[16];\\nh q[17];\\ncx q[35],q[17];\\nrz(-pi/4) q[17];\\ncx q[16],q[17];\\nrz(pi/4) q[17];\\ncx q[35],q[17];\\nrz(-pi/4) q[17];\\ncx q[16],q[17];\\nrz(-5*pi/4) q[17];\\nrx(pi/2) q[17];\\nrz(pi/2) q[17];\\nrz(pi/4) q[35];\\ncx q[16],q[35];\\nrz(pi/4) q[16];\\nrz(-pi/4) q[35];\\ncx q[16],q[35];\\nrz(2.6375741) q[35];\\nrx(pi) q[35];\\nrz(2.6375741) q[35];\\ncx q[16],q[35];\\ncx q[18],q[36];\\ncx q[18],q[17];\\nh q[18];\\ncx q[36],q[18];\\nrz(-pi/4) q[18];\\ncx q[17],q[18];\\nrz(pi/4) q[18];\\ncx q[36],q[18];\\nrz(-pi/4) q[18];\\ncx q[17],q[18];\\nrz(-5*pi/4) q[18];\\nrx(pi/2) q[18];\\nrz(pi/2) q[18];\\nrz(pi/4) q[36];\\ncx q[17],q[36];\\nrz(pi/4) q[17];\\nrz(-pi/4) q[36];\\ncx q[17],q[36];\\nrz(2.6375741) q[36];\\nrx(pi) q[36];\\nrz(2.6375741) q[36];\\ncx q[17],q[36];\\ncx q[18],q[37];\\nh q[18];\\ncx q[36],q[18];\\nrz(-pi/4) q[18];\\ncx q[17],q[18];\\nrz(pi/4) q[18];\\ncx q[36],q[18];\\nrz(-pi/4) q[18];\\ncx q[17],q[18];\\nrz(-5*pi/4) q[18];\\nrx(pi/2) q[18];\\nrz(pi/2) q[18];\\nrz(pi/4) q[36];\\ncx q[17],q[36];\\nrz(pi/4) q[17];\\nrz(-pi/4) q[36];\\ncx q[17],q[36];\\ncx q[18],q[17];\\nh q[17];\\ncx q[35],q[17];\\nrz(-pi/4) q[17];\\ncx q[16],q[17];\\nrz(pi/4) q[17];\\ncx q[35],q[17];\\nrz(-pi/4) q[17];\\ncx q[16],q[17];\\nrz(-5*pi/4) q[17];\\nrx(pi/2) q[17];\\nrz(pi/2) q[17];\\nrz(pi/4) q[35];\\ncx q[16],q[35];\\nrz(pi/4) q[16];\\nrz(-pi/4) q[35];\\ncx q[16],q[35];\\ncx q[17],q[16];\\nh q[16];\\ncx q[34],q[16];\\nrz(-pi/4) q[16];\\ncx q[15],q[16];\\nrz(pi/4) q[16];\\ncx q[34],q[16];\\nrz(-pi/4) q[16];\\ncx q[15],q[16];\\nrz(-5*pi/4) q[16];\\nrx(pi/2) q[16];\\nrz(pi/2) q[16];\\nrz(pi/4) q[34];\\ncx q[15],q[34];\\nrz(pi/4) q[15];\\nrz(-pi/4) q[34];\\ncx q[15],q[34];\\ncx q[16],q[15];\\nh q[15];\\ncx q[33],q[15];\\nrz(-pi/4) q[15];\\ncx q[14],q[15];\\nrz(pi/4) q[15];\\ncx q[33],q[15];\\nrz(-pi/4) q[15];\\ncx q[14],q[15];\\nrz(-5*pi/4) q[15];\\nrx(pi/2) q[15];\\nrz(pi/2) q[15];\\nrz(pi/4) q[33];\\ncx q[14],q[33];\\nrz(pi/4) q[14];\\nrz(-pi/4) q[33];\\ncx q[14],q[33];\\ncx q[15],q[14];\\nh q[14];\\ncx q[32],q[14];\\nrz(-pi/4) q[14];\\ncx q[13],q[14];\\nrz(pi/4) q[14];\\ncx q[32],q[14];\\nrz(-pi/4) q[14];\\ncx q[13],q[14];\\nrz(-5*pi/4) q[14];\\nrx(pi/2) q[14];\\nrz(pi/2) q[14];\\nrz(pi/4) q[32];\\ncx q[13],q[32];\\nrz(pi/4) q[13];\\nrz(-pi/4) q[32];\\ncx q[13],q[32];\\ncx q[14],q[13];\\nh q[13];\\ncx q[31],q[13];\\nrz(-pi/4) q[13];\\ncx q[12],q[13];\\nrz(pi/4) q[13];\\ncx q[31],q[13];\\nrz(-pi/4) q[13];\\ncx q[12],q[13];\\nrz(-5*pi/4) q[13];\\nrx(pi/2) q[13];\\nrz(pi/2) q[13];\\nrz(pi/4) q[31];\\ncx q[12],q[31];\\nrz(pi/4) q[12];\\nrz(-pi/4) q[31];\\ncx q[12],q[31];\\ncx q[13],q[12];\\nh q[12];\\ncx q[30],q[12];\\nrz(-pi/4) q[12];\\ncx q[11],q[12];\\nrz(pi/4) q[12];\\ncx q[30],q[12];\\nrz(-pi/4) q[12];\\ncx q[11],q[12];\\nrz(-5*pi/4) q[12];\\nrx(pi/2) q[12];\\nrz(pi/2) q[12];\\nrz(pi/4) q[30];\\ncx q[11],q[30];\\nrz(pi/4) q[11];\\nrz(-pi/4) q[30];\\ncx q[11],q[30];\\ncx q[12],q[11];\\nh q[11];\\ncx q[29],q[11];\\nrz(-pi/4) q[11];\\ncx q[10],q[11];\\nrz(pi/4) q[11];\\ncx q[29],q[11];\\nrz(-pi/4) q[11];\\ncx q[10],q[11];\\nrz(-5*pi/4) q[11];\\nrx(pi/2) q[11];\\nrz(pi/2) q[11];\\nrz(pi/4) q[29];\\ncx q[10],q[29];\\nrz(pi/4) q[10];\\nrz(-pi/4) q[29];\\ncx q[10],q[29];\\ncx q[11],q[10];\\nh q[10];\\ncx q[28],q[10];\\nrz(-pi/4) q[10];\\nrz(2.6375741) q[29];\\nrx(pi) q[29];\\nrz(2.6375741) q[29];\\ncx q[11],q[29];\\nrz(2.6375741) q[30];\\nrx(pi) q[30];\\nrz(2.6375741) q[30];\\ncx q[12],q[30];\\nrz(2.6375741) q[31];\\nrx(pi) q[31];\\nrz(2.6375741) q[31];\\ncx q[13],q[31];\\nrz(2.6375741) q[32];\\nrx(pi) q[32];\\nrz(2.6375741) q[32];\\ncx q[14],q[32];\\nrz(2.6375741) q[33];\\nrx(pi) q[33];\\nrz(2.6375741) q[33];\\ncx q[15],q[33];\\nrz(2.6375741) q[34];\\nrx(pi) q[34];\\nrz(2.6375741) q[34];\\ncx q[16],q[34];\\nrz(2.6375741) q[35];\\nrx(pi) q[35];\\nrz(2.6375741) q[35];\\ncx q[17],q[35];\\nrz(2.6375741) q[36];\\nrx(pi) q[36];\\nrz(2.6375741) q[36];\\ncx q[18],q[36];\\ncx q[9],q[10];\\nrz(pi/4) q[10];\\ncx q[28],q[10];\\nrz(-pi/4) q[10];\\nrz(pi/4) q[28];\\ncx q[9],q[10];\\nrz(-5*pi/4) q[10];\\nrx(pi/2) q[10];\\nrz(pi/2) q[10];\\ncx q[9],q[28];\\nrz(-pi/4) q[28];\\nrz(pi/4) q[9];\\ncx q[9],q[28];\\ncx q[10],q[9];\\nrz(2.6375741) q[28];\\nrx(pi) q[28];\\nrz(2.6375741) q[28];\\ncx q[10],q[28];\\nh q[9];\\ncx q[27],q[9];\\nrz(-pi/4) q[9];\\ncx q[8],q[9];\\nrz(pi/4) q[9];\\ncx q[27],q[9];\\nrz(pi/4) q[27];\\nrz(-pi/4) q[9];\\ncx q[8],q[9];\\ncx q[8],q[27];\\nrz(-pi/4) q[27];\\nrz(pi/4) q[8];\\ncx q[8],q[27];\\nrz(2.6375741) q[27];\\nrx(pi) q[27];\\nrz(2.6375741) q[27];\\nrz(-5*pi/4) q[9];\\nrx(pi/2) q[9];\\nrz(pi/2) q[9];\\ncx q[9],q[8];\\nh q[8];\\ncx q[26],q[8];\\nrz(-pi/4) q[8];\\ncx q[7],q[8];\\nrz(pi/4) q[8];\\ncx q[26],q[8];\\nrz(pi/4) q[26];\\nrz(-pi/4) q[8];\\ncx q[7],q[8];\\ncx q[7],q[26];\\nrz(-pi/4) q[26];\\nrz(pi/4) q[7];\\ncx q[7],q[26];\\nrz(2.6375741) q[26];\\nrx(pi) q[26];\\nrz(2.6375741) q[26];\\nrz(-5*pi/4) q[8];\\nrx(pi/2) q[8];\\nrz(pi/2) q[8];\\ncx q[8],q[7];\\nh q[7];\\ncx q[25],q[7];\\nrz(-pi/4) q[7];\\ncx q[6],q[7];\\nrz(pi/4) q[7];\\ncx q[25],q[7];\\nrz(pi/4) q[25];\\nrz(-pi/4) q[7];\\ncx q[6],q[7];\\ncx q[6],q[25];\\nrz(-pi/4) q[25];\\nrz(pi/4) q[6];\\ncx q[6],q[25];\\nrz(2.6375741) q[25];\\nrx(pi) q[25];\\nrz(2.6375741) q[25];\\nrz(-5*pi/4) q[7];\\nrx(pi/2) q[7];\\nrz(pi/2) q[7];\\ncx q[7],q[6];\\nh q[6];\\ncx q[24],q[6];\\nrz(-pi/4) q[6];\\ncx q[5],q[6];\\nrz(pi/4) q[6];\\ncx q[24],q[6];\\nrz(pi/4) q[24];\\nrz(-pi/4) q[6];\\ncx q[5],q[6];\\ncx q[5],q[24];\\nrz(-pi/4) q[24];\\nrz(pi/4) q[5];\\ncx q[5],q[24];\\nrz(2.6375741) q[24];\\nrx(pi) q[24];\\nrz(2.6375741) q[24];\\nrz(-5*pi/4) q[6];\\nrx(pi/2) q[6];\\nrz(pi/2) q[6];\\ncx q[6],q[5];\\nh q[5];\\ncx q[23],q[5];\\nrz(-pi/4) q[5];\\ncx q[4],q[5];\\nrz(pi/4) q[5];\\ncx q[23],q[5];\\nrz(pi/4) q[23];\\nrz(-pi/4) q[5];\\ncx q[4],q[5];\\ncx q[4],q[23];\\nrz(-pi/4) q[23];\\nrz(pi/4) q[4];\\ncx q[4],q[23];\\nrz(2.6375741) q[23];\\nrx(pi) q[23];\\nrz(2.6375741) q[23];\\nrz(-5*pi/4) q[5];\\nrx(pi/2) q[5];\\nrz(pi/2) q[5];\\ncx q[5],q[4];\\nh q[4];\\ncx q[22],q[4];\\nrz(-pi/4) q[4];\\ncx q[3],q[4];\\nrz(pi/4) q[4];\\ncx q[22],q[4];\\nrz(pi/4) q[22];\\nrz(-pi/4) q[4];\\ncx q[3],q[4];\\ncx q[3],q[22];\\nrz(-pi/4) q[22];\\nrz(pi/4) q[3];\\ncx q[3],q[22];\\nrz(2.6375741) q[22];\\nrx(pi) q[22];\\nrz(2.6375741) q[22];\\nrz(-5*pi/4) q[4];\\nrx(pi/2) q[4];\\nrz(pi/2) q[4];\\ncx q[4],q[3];\\nh q[3];\\ncx q[21],q[3];\\nrz(-pi/4) q[3];\\ncx q[2],q[3];\\nrz(pi/4) q[3];\\ncx q[21],q[3];\\nrz(pi/4) q[21];\\nrz(-pi/4) q[3];\\ncx q[2],q[3];\\ncx q[2],q[21];\\nrz(pi/4) q[2];\\nrz(-pi/4) q[21];\\ncx q[2],q[21];\\nrz(2.6375741) q[21];\\nrx(pi) q[21];\\nrz(2.6375741) q[21];\\nrz(-5*pi/4) q[3];\\nrx(pi/2) q[3];\\nrz(pi/2) q[3];\\ncx q[3],q[2];\\nh q[2];\\ncx q[20],q[2];\\nrz(-pi/4) q[2];\\ncx q[1],q[2];\\nrz(pi/4) q[2];\\ncx q[20],q[2];\\nrz(-pi/4) q[2];\\ncx q[1],q[2];\\nrz(-5*pi/4) q[2];\\nrx(pi/2) q[2];\\nrz(pi/2) q[2];\\nrz(pi/4) q[20];\\ncx q[1],q[20];\\nrz(pi/4) q[1];\\nrz(-pi/4) q[20];\\ncx q[1],q[20];\\ncx q[2],q[1];\\nh q[1];\\ncx q[19],q[1];\\nrz(-pi/4) q[1];\\ncx q[0],q[1];\\nrz(pi/4) q[1];\\ncx q[19],q[1];\\nrz(-pi/4) q[1];\\ncx q[0],q[1];\\nrz(-5*pi/4) q[1];\\nrx(pi/2) q[1];\\nrz(pi/2) q[1];\\nrz(pi/4) q[19];\\ncx q[0],q[19];\\nrz(pi/4) q[0];\\nrz(-pi/4) q[19];\\ncx q[0],q[19];\\ncx q[1],q[0];\\nrz(2.6375741) q[19];\\nrx(pi) q[19];\\nrz(2.6375741) q[19];\\ncx q[1],q[19];\\nrz(2.6375741) q[20];\\nrx(pi) q[20];\\nrz(2.6375741) q[20];\\ncx q[2],q[20];\\ncx q[3],q[21];\\ncx q[4],q[22];\\ncx q[5],q[23];\\ncx q[6],q[24];\\ncx q[7],q[25];\\ncx q[8],q[26];\\ncx q[9],q[27];\\n')\n",
    "# Give a fixed mapping so we only test your router\n",
    "_mapping = {Qubit(QuantumRegister(38, 'q'), 1): 0, Qubit(QuantumRegister(38, 'q'), 19): 1, Qubit(QuantumRegister(38, 'q'), 0): 7, Qubit(QuantumRegister(38, 'q'), 2): 2, Qubit(QuantumRegister(38, 'q'), 20): 3, Qubit(QuantumRegister(38, 'q'), 3): 9, Qubit(QuantumRegister(38, 'q'), 21): 8, Qubit(QuantumRegister(38, 'q'), 4): 10, Qubit(QuantumRegister(38, 'q'), 22): 11, Qubit(QuantumRegister(38, 'q'), 5): 17, Qubit(QuantumRegister(38, 'q'), 23): 16, Qubit(QuantumRegister(38, 'q'), 6): 18, Qubit(QuantumRegister(38, 'q'), 24): 19, Qubit(QuantumRegister(38, 'q'), 7): 25, Qubit(QuantumRegister(38, 'q'), 25): 24, Qubit(QuantumRegister(38, 'q'), 8): 26, Qubit(QuantumRegister(38, 'q'), 26): 27, Qubit(QuantumRegister(38, 'q'), 9): 33, Qubit(QuantumRegister(38, 'q'), 27): 32, Qubit(QuantumRegister(38, 'q'), 10): 34, Qubit(QuantumRegister(38, 'q'), 28): 41, Qubit(QuantumRegister(38, 'q'), 11): 20, Qubit(QuantumRegister(38, 'q'), 29): 13, Qubit(QuantumRegister(38, 'q'), 12): 6, Qubit(QuantumRegister(38, 'q'), 30): 5, Qubit(QuantumRegister(38, 'q'), 13): 4, Qubit(QuantumRegister(38, 'q'), 31): 12, Qubit(QuantumRegister(38, 'q'), 14): 15, Qubit(QuantumRegister(38, 'q'), 32): 14, Qubit(QuantumRegister(38, 'q'), 15): 22, Qubit(QuantumRegister(38, 'q'), 33): 21, Qubit(QuantumRegister(38, 'q'), 16): 23, Qubit(QuantumRegister(38, 'q'), 34): 30, Qubit(QuantumRegister(38, 'q'), 17): 29, Qubit(QuantumRegister(38, 'q'), 35): 28, Qubit(QuantumRegister(38, 'q'), 18): 36, Qubit(QuantumRegister(38, 'q'), 36): 35, Qubit(QuantumRegister(38, 'q'), 37): 37}\n",
    "validate_mapping(_cuccaro38, _hardware, _mapping)\n",
    "_routing = route_circuit(_cuccaro38, _hardware, _mapping)  # Run your code\n",
    "validate_routing(_cuccaro38, _hardware, _mapping, _routing, check_unitary=False)\n",
    "_score, _target = score_routing(_cuccaro38, _hardware, _mapping, _routing)\n",
    "assert _target == 380, 'internal error'\n",
    "assert _score <= 380, 'score is above 380, try improving the mapping by placing pairs of qubits with many CNOTs close together'\n",
    "print('PASS: Score is under 380 (see if you can beat our solution of 380)')"
   ]
  },
  {
   "cell_type": "code",
   "execution_count": null,
   "metadata": {
    "deletable": false,
    "editable": false,
    "id": "Pfg_Jx3xknjl",
    "nbgrader": {
     "cell_type": "code",
     "checksum": "b2ba22dba8cde854e069a7f11e1d66e2",
     "grade": true,
     "grade_id": "2c-test",
     "locked": true,
     "points": 5,
     "schema_version": 3,
     "solution": false,
     "task": false
    }
   },
   "outputs": [],
   "source": [
    "# Do not delete this cell\n",
    "# The autograder will test the function route_circuit.\n",
    "# Hidden tests"
   ]
  },
  {
   "cell_type": "markdown",
   "metadata": {
    "id": "9hEJzdRMknjl"
   },
   "source": [
    "# 3. Scheduling Gates\n",
    "\n",
    "Your final task is to schedule gates. Gates are quantum hardware typically have different execution times. We want to schedule our gates to minimize total execution time (a heursitic is fine). Write some code to determine appropriate start times for each gate given execution times for gates.\n",
    "\n",
    "Make sure your code runs quickly.  Each test shouldn't run longer than a few seconds and 30 seconds will timeout the grader."
   ]
  },
  {
   "cell_type": "code",
   "execution_count": null,
   "metadata": {
    "deletable": false,
    "id": "zp0nxIytknjl",
    "nbgrader": {
     "cell_type": "code",
     "checksum": "a4acceade167fa8da6d5fc1e52c914ad",
     "grade": false,
     "grade_id": "3",
     "locked": false,
     "schema_version": 3,
     "solution": true,
     "task": false
    }
   },
   "outputs": [],
   "source": [
    "# For simplicity, assume all 1 qubit gates have the same execution duration\n",
    "# Except, assume Z gates are free, i.e. take no time to execute\n",
    "# but you should still schedule Z gates at the appropriate time between other gates\n",
    "\n",
    "# here are some sample gate times.\n",
    "sample_gate_times = {\n",
    "    '1' : 10.0,\n",
    "    'rz' : 0.0,  # Free\n",
    "    'cx' : 100.0,\n",
    "}\n",
    "\n",
    "def schedule_circuit(routed_circuit:QuantumCircuit, gate_times:Dict[str, float]\n",
    "                    ) -> Dict[GateWrapper, float]:\n",
    "    '''\n",
    "    This function should take an input program given as a qiskit.QuantumCircuit,\n",
    "    This circuit should be routed already!\n",
    "\n",
    "    You should return the start time for every gate in the circuit as a\n",
    "    dictionary: {GateWrapper(...) : start_time}, where GateWrapper is our above\n",
    "    implementation which wraps qiskit Gates.\n",
    "\n",
    "    Hints:\n",
    "        - It may be helpful to build a dependency graph weighted using these gate\n",
    "        times and use nx.all_pairs_dijkstra_path_length.\n",
    "        - Create the schedule keys out of qiskit gates with:\n",
    "            GateWrapper(gate[0], gate[1], gate[2], label=i)  # Unique values of i\n",
    "    '''\n",
    "    ### YOUR SOLUTION IN THIS FUNCTION\n",
    "\n",
    "    # Convert SWAP gates to 3 CNOT gates\n",
    "    pm = qiskit.transpiler.PassManager([\n",
    "        qiskit.transpiler.passes.BasisTranslator(qiskit.circuit.equivalence_library.SessionEquivalenceLibrary, ['rz', 'rx', 'h', 'u3', 'cx'])\n",
    "        ])\n",
    "    routed_circuit = pm.run(routed_circuit)\n",
    "\n",
    "    # May be useful but not required\n",
    "    dep_graph = build_program_dependency_graph(routed_circuit)\n",
    "\n",
    "    # A dictionary of gate->start_time\n",
    "    gate_start_times:Dict[GateWrapper, float] = {}\n",
    "\n",
    "    # YOUR CODE HERE\n",
    "\n",
    "    return gate_start_times"
   ]
  },
  {
   "cell_type": "code",
   "execution_count": null,
   "metadata": {
    "id": "0I2ccfFGknjm"
   },
   "outputs": [],
   "source": [
    "# You may modify this cell to test scores for your mapper on various circuits\n",
    "\n",
    "mapping = map_circuit(cuccaro, grid_hardware)\n",
    "routed = route_circuit(cuccaro, grid_hardware, mapping)\n",
    "schedule = schedule_circuit(routed, sample_gate_times)\n",
    "schedule"
   ]
  },
  {
   "cell_type": "code",
   "execution_count": null,
   "metadata": {
    "id": "SZCtyKnCknjm"
   },
   "outputs": [],
   "source": [
    "# Do not modify this function\n",
    "def schedule_to_circuit(schedule):\n",
    "    qubits = set()\n",
    "    for gate in schedule.keys():\n",
    "        qubits.update(gate.qubits)\n",
    "    n = len(qubits)\n",
    "    circuit = QuantumCircuit(next(iter(qubits))._register)\n",
    "    ordered = sorted(((time, gate)\n",
    "                      for gate, time in schedule.items()),\n",
    "                     key=lambda x:(x[0], x[1].gate.name!='rz'))\n",
    "    for time, gate in ordered:\n",
    "        new_qubits = [circuit.qubits[q._index] for q in gate.qubits]\n",
    "        circuit.append(gate.gate, new_qubits, [])\n",
    "    return circuit\n",
    "\n",
    "# Make sure the schedule still represents the original circuit\n",
    "schedule_to_circuit(schedule).draw(fold=-1)"
   ]
  },
  {
   "cell_type": "code",
   "execution_count": null,
   "metadata": {
    "deletable": false,
    "editable": false,
    "id": "8GnUqUqfknjm",
    "nbgrader": {
     "cell_type": "code",
     "checksum": "5c59b7c5cc0ca8d975ac531423111ccb",
     "grade": true,
     "grade_id": "3-helpers",
     "locked": true,
     "points": 0,
     "schema_version": 3,
     "solution": false,
     "task": false
    }
   },
   "outputs": [],
   "source": [
    "# Do not delete this cell\n",
    "def validate_schedule(routed_circuit, gate_times, schedule, check_unitary=True):\n",
    "    '''Set check_unitary=False for circuits with over 10 qubits.'''\n",
    "    # Check other arguments\n",
    "    assert isinstance(routed_circuit, QuantumCircuit)\n",
    "    assert isinstance(gate_times, dict)\n",
    "    assert isinstance(schedule, dict)\n",
    "    assert (len(routed_circuit.qubits)\n",
    "            == len(frozenset(q._index for q in routed_circuit.qubits))), (\n",
    "        'Unsupported: circuits with multiple registers')\n",
    "    # Convert schedule back to a circuit\n",
    "    s_circuit = schedule_to_circuit(schedule)\n",
    "    r_qubits = frozenset(q for q in routed_circuit.qubits)\n",
    "    s_qubits = frozenset(q for q in routed_circuit.qubits)\n",
    "    assert r_qubits == s_qubits, 'schedule has different qubits than the circuit'\n",
    "    # Check allowed gates\n",
    "    for gate in schedule.keys():\n",
    "        if len(gate.qubits) < 2: continue\n",
    "        assert len(gate.qubits) <= 2, (\n",
    "            'Only one- and two-qubit gates are allowed in the schedule')\n",
    "        assert isinstance(gate.gate, qiskit.circuit.library.standard_gates.x.CXGate), (\n",
    "            'Two-qubit gates other than CNOT are not allwed in the schedule')\n",
    "    # Check for overlapping gates\n",
    "    sorted_schedule = sorted(schedule.items(), key=lambda x:x[1])\n",
    "    for i, (gate, time) in enumerate(sorted_schedule):\n",
    "        end_time = time + gate_times.get(gate.gate.name, gate_times['1'])\n",
    "        j = 0\n",
    "        for j in range(i+1, len(sorted_schedule)):\n",
    "            if sorted_schedule[j][1] >= end_time: break\n",
    "        nearby_gates = sorted_schedule[i+1:j]\n",
    "        left = max((\n",
    "            t2 + gate_times.get(g2.gate.name, gate_times['1'])\n",
    "            for g2, t2 in nearby_gates\n",
    "            if (t2 + gate_times.get(g2.gate.name, gate_times['1']) < end_time\n",
    "                and len(set(gate.qubits).intersection(g2.qubits)) > 0)\n",
    "                and g2 != gate),\n",
    "            default=0\n",
    "        )\n",
    "        right = min((\n",
    "            t2\n",
    "            for g2, t2 in nearby_gates\n",
    "            if ((t2 > time or (\n",
    "                    gate_times.get(g2.gate.name, gate_times['1']) != 0\n",
    "                    and t2 >= time))\n",
    "                and len(set(gate.qubits).intersection(g2.qubits)) > 0)\n",
    "                and g2 != gate),\n",
    "            default=float('inf')\n",
    "        )\n",
    "        #print(left, right)\n",
    "        assert left <= time+1e-8 and right >= end_time-1e-8, (\n",
    "            'At least one gate is scheduled during the same time on the same qubits '\n",
    "            f'(at time {time} - {end_time}, gate={gate})')\n",
    "\n",
    "    # Check unitary\n",
    "    if check_unitary:  # Slow for circuits with more than 10 qubits\n",
    "        from qiskit.quantum_info.operators.predicates import matrix_equal\n",
    "        unitary = lambda c: qiskit.quantum_info.Operator(c).data\n",
    "        assert matrix_equal(unitary(s_circuit), unitary(routed_circuit)), (\n",
    "            'schedule is not equivalent to the input circuit')\n",
    "\n",
    "def score_schedule(routed_circuit, gate_times, schedule):\n",
    "    '''\n",
    "    Computes the active qubit time of the schedule.\n",
    "\n",
    "    Returns the tuple (your score, worst-case serial score).  Lower values are better.\n",
    "    '''\n",
    "    validate_schedule(routed_circuit, gate_times, schedule, check_unitary=False)\n",
    "\n",
    "    total_duration = max((\n",
    "        time + gate_times.get(gate.gate.name, gate_times['1'])\n",
    "        for gate, time in schedule.items()),\n",
    "        default=0\n",
    "    )\n",
    "    first_use_each_qubit = {\n",
    "        q: min((time for gate, time in schedule.items()\n",
    "                     if q in gate.qubits),\n",
    "               default=total_duration)\n",
    "        for q in routed_circuit.qubits\n",
    "    }\n",
    "    qubit_usage_times = {\n",
    "        q: total_duration - first_use\n",
    "        for q, first_use in first_use_each_qubit.items()\n",
    "    }\n",
    "    total_active = sum(qubit_usage_times.values())\n",
    "\n",
    "    num_used_qubits = sum(t > 0 for t in qubit_usage_times.values())\n",
    "    worst_serial_score = num_used_qubits * sum(\n",
    "        gate_times.get(gate.gate.name, gate_times['1'])\n",
    "        for gate in schedule.keys()\n",
    "    )\n",
    "    print(f'(Total circuit duration is {total_duration})')\n",
    "    #print(f'Qubit active durations:\\n{qubit_usage_times}')\n",
    "    print(f'Your scheduling score is {total_active} ns, better than the worst '\n",
    "          f'case score of {worst_serial_score}.')\n",
    "    return total_active, worst_serial_score"
   ]
  },
  {
   "cell_type": "code",
   "execution_count": null,
   "metadata": {
    "id": "0b_vRzKKknjm"
   },
   "outputs": [],
   "source": [
    "# You may modify this cell to test scores for your mapper on various circuits\n",
    "\n",
    "mapping = map_circuit(cuccaro, grid_hardware)\n",
    "routed = route_circuit(cuccaro, grid_hardware, mapping)\n",
    "schedule = schedule_circuit(routed, sample_gate_times)\n",
    "display(schedule)\n",
    "score_schedule(routed, sample_gate_times, schedule)"
   ]
  },
  {
   "cell_type": "code",
   "execution_count": null,
   "metadata": {
    "deletable": false,
    "editable": false,
    "id": "FSsjVKFUknjm",
    "nbgrader": {
     "cell_type": "code",
     "checksum": "2109f70004debf6a2f494ec048169af7",
     "grade": true,
     "grade_id": "3a-test",
     "locked": true,
     "points": 20,
     "schema_version": 3,
     "solution": false,
     "task": false
    }
   },
   "outputs": [],
   "source": [
    "# Do not delete this cell\n",
    "# The autograder will test the function schedule_circuit.\n",
    "# This test is worth most of the points for part 1\n",
    "# Give a fixed routing so we only test your scheduler\n",
    "_routed = QuantumCircuit.from_qasm_str('OPENQASM 2.0;\\ninclude \"qelib1.inc\";\\nqreg q[5];\\ncx q[0],q[1];\\nswap q[1],q[0];\\ncx q[1],q[2];\\nswap q[1],q[0];\\nh q[0];\\ncx q[1],q[0];\\nrz(-pi/4) q[0];\\nswap q[1],q[2];\\ncx q[1],q[0];\\nswap q[1],q[2];\\nrz(pi/4) q[0];\\ncx q[1],q[0];\\nrz(-pi/4) q[0];\\nswap q[1],q[2];\\ncx q[1],q[0];\\nswap q[1],q[2];\\nrz(-5*pi/4) q[0];\\nrx(pi/2) q[0];\\nrz(pi/2) q[0];\\nrz(pi/4) q[1];\\ncx q[2],q[1];\\nrz(pi/4) q[2];\\nrz(-pi/4) q[1];\\ncx q[2],q[1];\\nrz(2.6375741) q[1];\\nrx(pi) q[1];\\nrz(2.6375741) q[1];\\ncx q[2],q[1];\\nswap q[1],q[0];\\nswap q[2],q[1];\\ncx q[2],q[3];\\nswap q[2],q[1];\\nswap q[1],q[0];\\nh q[0];\\ncx q[1],q[0];\\nrz(-pi/4) q[0];\\nswap q[1],q[2];\\ncx q[1],q[0];\\nswap q[1],q[2];\\nrz(pi/4) q[0];\\ncx q[1],q[0];\\nrz(-pi/4) q[0];\\nswap q[1],q[2];\\ncx q[1],q[0];\\nswap q[1],q[2];\\nrz(-5*pi/4) q[0];\\nrx(pi/2) q[0];\\nrz(pi/2) q[0];\\nrz(pi/4) q[1];\\ncx q[2],q[1];\\nrz(pi/4) q[2];\\nrz(-pi/4) q[1];\\ncx q[2],q[1];\\nswap q[1],q[0];\\ncx q[1],q[2];\\nswap q[1],q[0];\\nrz(2.6375741) q[1];\\nrx(pi) q[1];\\nrz(2.6375741) q[1];\\ncx q[0],q[1];\\n')\n",
    "_gate_times = {\n",
    "    '1' : 12.0,\n",
    "    'rz' : 0.0,  # Free\n",
    "    'cx' : 80.0,\n",
    "}\n",
    "_schedule = schedule_circuit(_routed, _gate_times)\n",
    "validate_schedule(_routed, _gate_times, _schedule)\n",
    "score_schedule(_routed, _gate_times, _schedule)\n",
    "print('PASS: Valid circuit schedule')"
   ]
  },
  {
   "cell_type": "code",
   "execution_count": null,
   "metadata": {
    "colab": {
     "base_uri": "https://localhost:8080/",
     "height": 360
    },
    "deletable": false,
    "editable": false,
    "id": "D-J9hn7wknjn",
    "nbgrader": {
     "cell_type": "code",
     "checksum": "b48585ae2dfe00debec005ba794e4b76",
     "grade": true,
     "grade_id": "3b-test",
     "locked": true,
     "points": 5,
     "schema_version": 3,
     "solution": false,
     "task": false
    },
    "outputId": "37db12f9-36e5-434b-9155-d71a65401ec2"
   },
   "outputs": [],
   "source": [
    "# Do not delete this cell\n",
    "# The autograder will test the function schedule_circuit.\n",
    "# Give a fixed routing so we only test your scheduler\n",
    "_routed = QuantumCircuit.from_qasm_str('OPENQASM 2.0;\\ninclude \"qelib1.inc\";\\nqreg q[36];\\ncx q[0],q[1];\\ncx q[0],q[6];\\nh q[0];\\ncx q[1],q[0];\\nrz(-pi/4) q[0];\\ncx q[6],q[0];\\nrz(pi/4) q[0];\\ncx q[1],q[0];\\nrz(-pi/4) q[0];\\ncx q[6],q[0];\\nrz(-5*pi/4) q[0];\\nrx(pi/2) q[0];\\nrz(pi/2) q[0];\\nrz(pi/4) q[1];\\nswap q[0],q[6];\\ncx q[0],q[1];\\nswap q[0],q[6];\\nrz(pi/4) q[6];\\nrz(-pi/4) q[1];\\nswap q[0],q[6];\\ncx q[0],q[1];\\nswap q[0],q[6];\\nrz(2.6375741) q[1];\\nrx(pi) q[1];\\nrz(2.6375741) q[1];\\nswap q[0],q[6];\\ncx q[0],q[1];\\nswap q[0],q[6];\\ncx q[2],q[3];\\nswap q[1],q[2];\\ncx q[1],q[0];\\nswap q[1],q[2];\\nh q[2];\\ncx q[3],q[2];\\nrz(-pi/4) q[2];\\nswap q[1],q[0];\\ncx q[1],q[2];\\nswap q[1],q[0];\\nrz(pi/4) q[2];\\ncx q[3],q[2];\\nrz(pi/4) q[3];\\nrz(-pi/4) q[2];\\nswap q[1],q[0];\\ncx q[1],q[2];\\nswap q[1],q[0];\\nswap q[1],q[0];\\nswap q[2],q[1];\\ncx q[2],q[3];\\nswap q[2],q[1];\\nswap q[1],q[0];\\nrz(pi/4) q[0];\\nrz(-pi/4) q[3];\\nswap q[1],q[0];\\nswap q[2],q[1];\\ncx q[2],q[3];\\nswap q[2],q[1];\\nswap q[1],q[0];\\nrz(2.6375741) q[3];\\nrx(pi) q[3];\\nrz(2.6375741) q[3];\\nswap q[1],q[0];\\nswap q[2],q[1];\\ncx q[2],q[3];\\nswap q[2],q[1];\\nswap q[1],q[0];\\nrz(-5*pi/4) q[2];\\nrx(pi/2) q[2];\\nrz(pi/2) q[2];\\ncx q[8],q[7];\\ncx q[8],q[2];\\nh q[8];\\ncx q[7],q[8];\\nrz(-pi/4) q[8];\\ncx q[2],q[8];\\nrz(pi/4) q[8];\\ncx q[7],q[8];\\nrz(pi/4) q[7];\\nrz(-pi/4) q[8];\\ncx q[2],q[8];\\nswap q[1],q[2];\\ncx q[1],q[7];\\nswap q[1],q[2];\\nrz(pi/4) q[2];\\nrz(-pi/4) q[7];\\nswap q[1],q[2];\\ncx q[1],q[7];\\nswap q[1],q[2];\\nrz(2.6375741) q[7];\\nrx(pi) q[7];\\nrz(2.6375741) q[7];\\nswap q[1],q[2];\\ncx q[1],q[7];\\nswap q[1],q[2];\\nrz(-5*pi/4) q[8];\\nrx(pi/2) q[8];\\nrz(pi/2) q[8];\\ncx q[9],q[10];\\ncx q[9],q[8];\\nh q[9];\\ncx q[10],q[9];\\nrz(-pi/4) q[9];\\ncx q[8],q[9];\\nrz(pi/4) q[9];\\ncx q[10],q[9];\\nrz(pi/4) q[10];\\nrz(-pi/4) q[9];\\ncx q[8],q[9];\\nswap q[9],q[8];\\ncx q[9],q[10];\\nswap q[9],q[8];\\nrz(-pi/4) q[10];\\nrz(pi/4) q[8];\\nswap q[9],q[8];\\ncx q[9],q[10];\\nswap q[9],q[8];\\nrz(2.6375741) q[10];\\nrx(pi) q[10];\\nrz(2.6375741) q[10];\\nswap q[9],q[8];\\ncx q[9],q[10];\\nswap q[9],q[8];\\nrz(-5*pi/4) q[9];\\nrx(pi/2) q[9];\\nrz(pi/2) q[9];\\ncx q[15],q[14];\\ncx q[15],q[9];\\nh q[15];\\ncx q[14],q[15];\\nrz(-pi/4) q[15];\\ncx q[9],q[15];\\nrz(pi/4) q[15];\\ncx q[14],q[15];\\nrz(pi/4) q[14];\\nrz(-pi/4) q[15];\\ncx q[9],q[15];\\nswap q[8],q[9];\\ncx q[8],q[14];\\nswap q[8],q[9];\\nrz(-pi/4) q[14];\\nrz(pi/4) q[9];\\nswap q[8],q[9];\\ncx q[8],q[14];\\nswap q[8],q[9];\\nrz(2.6375741) q[14];\\nrx(pi) q[14];\\nrz(2.6375741) q[14];\\nswap q[8],q[9];\\ncx q[8],q[14];\\nswap q[8],q[9];\\nrz(-5*pi/4) q[15];\\nrx(pi/2) q[15];\\nrz(pi/2) q[15];\\ncx q[16],q[17];\\ncx q[16],q[15];\\nh q[16];\\ncx q[17],q[16];\\nrz(-pi/4) q[16];\\ncx q[15],q[16];\\nrz(pi/4) q[16];\\ncx q[17],q[16];\\nrz(pi/4) q[17];\\nrz(-pi/4) q[16];\\ncx q[15],q[16];\\nswap q[16],q[15];\\ncx q[16],q[17];\\nswap q[16],q[15];\\nrz(-pi/4) q[17];\\nrz(pi/4) q[15];\\nswap q[16],q[15];\\ncx q[16],q[17];\\nswap q[16],q[15];\\nrz(2.6375741) q[17];\\nrx(pi) q[17];\\nrz(2.6375741) q[17];\\nswap q[16],q[15];\\ncx q[16],q[17];\\nswap q[16],q[15];\\nrz(-5*pi/4) q[16];\\nrx(pi/2) q[16];\\nrz(pi/2) q[16];\\ncx q[22],q[21];\\ncx q[22],q[16];\\nh q[22];\\ncx q[21],q[22];\\nrz(-pi/4) q[22];\\ncx q[16],q[22];\\nrz(pi/4) q[22];\\ncx q[21],q[22];\\nrz(pi/4) q[21];\\nrz(-pi/4) q[22];\\ncx q[16],q[22];\\nswap q[15],q[16];\\ncx q[15],q[21];\\nswap q[15],q[16];\\nrz(-pi/4) q[21];\\nrz(pi/4) q[16];\\nswap q[15],q[16];\\ncx q[15],q[21];\\nswap q[15],q[16];\\nrz(2.6375741) q[21];\\nrx(pi) q[21];\\nrz(2.6375741) q[21];\\nswap q[15],q[16];\\ncx q[15],q[21];\\nswap q[15],q[16];\\nrz(-5*pi/4) q[22];\\nrx(pi/2) q[22];\\nrz(pi/2) q[22];\\ncx q[23],q[29];\\ncx q[23],q[22];\\nh q[23];\\ncx q[29],q[23];\\nrz(-pi/4) q[23];\\ncx q[22],q[23];\\nrz(pi/4) q[23];\\ncx q[29],q[23];\\nrz(pi/4) q[29];\\nrz(-pi/4) q[23];\\ncx q[22],q[23];\\nswap q[28],q[22];\\ncx q[28],q[29];\\nswap q[28],q[22];\\nrz(-pi/4) q[29];\\nrz(pi/4) q[22];\\nswap q[28],q[22];\\ncx q[28],q[29];\\nswap q[28],q[22];\\nrz(2.6375741) q[29];\\nrx(pi) q[29];\\nrz(2.6375741) q[29];\\nswap q[28],q[22];\\ncx q[28],q[29];\\nswap q[28],q[22];\\nrz(-5*pi/4) q[23];\\nrx(pi/2) q[23];\\nrz(pi/2) q[23];\\ncx q[11],q[5];\\nswap q[17],q[11];\\ncx q[17],q[23];\\nswap q[17],q[11];\\nh q[11];\\ncx q[5],q[11];\\nrz(-pi/4) q[11];\\nswap q[17],q[23];\\ncx q[17],q[11];\\nswap q[17],q[23];\\nrz(pi/4) q[11];\\ncx q[5],q[11];\\nrz(pi/4) q[5];\\nrz(-pi/4) q[11];\\nswap q[17],q[23];\\ncx q[17],q[11];\\nswap q[17],q[23];\\nswap q[17],q[23];\\nswap q[11],q[17];\\ncx q[11],q[5];\\nswap q[11],q[17];\\nswap q[17],q[23];\\nrz(-pi/4) q[5];\\nrz(pi/4) q[23];\\nswap q[17],q[23];\\nswap q[11],q[17];\\ncx q[11],q[5];\\nswap q[11],q[17];\\nswap q[17],q[23];\\nrz(2.6375741) q[5];\\nrx(pi) q[5];\\nrz(2.6375741) q[5];\\nswap q[17],q[23];\\nswap q[11],q[17];\\ncx q[11],q[5];\\nswap q[11],q[17];\\nswap q[17],q[23];\\nrz(-5*pi/4) q[11];\\nrx(pi/2) q[11];\\nrz(pi/2) q[11];\\nswap q[10],q[4];\\nswap q[16],q[10];\\nswap q[22],q[16];\\ncx q[22],q[28];\\nswap q[22],q[16];\\nswap q[16],q[10];\\nswap q[10],q[4];\\nswap q[10],q[4];\\ncx q[10],q[11];\\nswap q[10],q[4];\\nh q[4];\\nswap q[22],q[28];\\nswap q[16],q[22];\\nswap q[10],q[16];\\ncx q[10],q[4];\\nswap q[10],q[16];\\nswap q[16],q[22];\\nswap q[22],q[28];\\nrz(-pi/4) q[4];\\nswap q[5],q[11];\\ncx q[5],q[4];\\nswap q[5],q[11];\\nrz(pi/4) q[4];\\nswap q[22],q[28];\\nswap q[16],q[22];\\nswap q[10],q[16];\\ncx q[10],q[4];\\nswap q[10],q[16];\\nswap q[16],q[22];\\nswap q[22],q[28];\\nrz(-pi/4) q[4];\\nrz(pi/4) q[28];\\nswap q[5],q[11];\\ncx q[5],q[4];\\nswap q[5],q[11];\\nrz(-5*pi/4) q[4];\\nrx(pi/2) q[4];\\nrz(pi/2) q[4];\\nswap q[10],q[11];\\nswap q[16],q[10];\\nswap q[22],q[16];\\ncx q[22],q[28];\\nswap q[22],q[16];\\nswap q[16],q[10];\\nswap q[10],q[11];\\nrz(-pi/4) q[28];\\nrz(pi/4) q[11];\\nswap q[10],q[11];\\nswap q[16],q[10];\\nswap q[22],q[16];\\ncx q[22],q[28];\\nswap q[22],q[16];\\nswap q[16],q[10];\\nswap q[10],q[11];\\nrz(2.6375741) q[28];\\nrx(pi) q[28];\\nrz(2.6375741) q[28];\\nswap q[10],q[11];\\nswap q[16],q[10];\\nswap q[22],q[16];\\ncx q[22],q[28];\\nswap q[22],q[16];\\nswap q[16],q[10];\\nswap q[10],q[11];\\ncx q[13],q[12];\\nswap q[7],q[13];\\nswap q[1],q[7];\\nswap q[2],q[1];\\nswap q[3],q[2];\\ncx q[3],q[4];\\nswap q[3],q[2];\\nswap q[2],q[1];\\nswap q[1],q[7];\\nswap q[7],q[13];\\nh q[13];\\ncx q[12],q[13];\\nrz(-pi/4) q[13];\\nswap q[3],q[4];\\nswap q[2],q[3];\\nswap q[1],q[2];\\nswap q[7],q[1];\\ncx q[7],q[13];\\nswap q[7],q[1];\\nswap q[1],q[2];\\nswap q[2],q[3];\\nswap q[3],q[4];\\nrz(pi/4) q[13];\\ncx q[12],q[13];\\nrz(-pi/4) q[13];\\nswap q[3],q[4];\\nswap q[2],q[3];\\nswap q[1],q[2];\\nswap q[7],q[1];\\ncx q[7],q[13];\\nswap q[7],q[1];\\nswap q[1],q[2];\\nswap q[2],q[3];\\nswap q[3],q[4];\\nrz(-5*pi/4) q[13];\\nrx(pi/2) q[13];\\nrz(pi/2) q[13];\\nrz(pi/4) q[12];\\nswap q[3],q[4];\\nswap q[2],q[3];\\nswap q[1],q[2];\\nswap q[0],q[1];\\nswap q[6],q[0];\\ncx q[6],q[12];\\nswap q[6],q[0];\\nswap q[0],q[1];\\nswap q[1],q[2];\\nswap q[2],q[3];\\nswap q[3],q[4];\\nrz(pi/4) q[4];\\nrz(-pi/4) q[12];\\nswap q[3],q[4];\\nswap q[2],q[3];\\nswap q[1],q[2];\\nswap q[0],q[1];\\nswap q[6],q[0];\\ncx q[6],q[12];\\nswap q[6],q[0];\\nswap q[0],q[1];\\nswap q[1],q[2];\\nswap q[2],q[3];\\nswap q[3],q[4];\\nrz(2.6375741) q[12];\\nrx(pi) q[12];\\nrz(2.6375741) q[12];\\nswap q[3],q[4];\\nswap q[2],q[3];\\nswap q[1],q[2];\\nswap q[0],q[1];\\nswap q[6],q[0];\\ncx q[6],q[12];\\nswap q[6],q[0];\\nswap q[0],q[1];\\nswap q[1],q[2];\\nswap q[2],q[3];\\nswap q[3],q[4];\\ncx q[19],q[18];\\ncx q[19],q[13];\\nh q[19];\\ncx q[18],q[19];\\nrz(-pi/4) q[19];\\ncx q[13],q[19];\\nrz(pi/4) q[19];\\ncx q[18],q[19];\\nrz(-pi/4) q[19];\\ncx q[13],q[19];\\nrz(-5*pi/4) q[19];\\nrx(pi/2) q[19];\\nrz(pi/2) q[19];\\nrz(pi/4) q[18];\\nswap q[12],q[13];\\ncx q[12],q[18];\\nswap q[12],q[13];\\nrz(pi/4) q[13];\\nrz(-pi/4) q[18];\\nswap q[12],q[13];\\ncx q[12],q[18];\\nswap q[12],q[13];\\nrz(2.6375741) q[18];\\nrx(pi) q[18];\\nrz(2.6375741) q[18];\\nswap q[12],q[13];\\ncx q[12],q[18];\\nswap q[12],q[13];\\ncx q[20],q[26];\\ncx q[20],q[19];\\nh q[20];\\ncx q[26],q[20];\\nrz(-pi/4) q[20];\\ncx q[19],q[20];\\nrz(pi/4) q[20];\\ncx q[26],q[20];\\nrz(-pi/4) q[20];\\ncx q[19],q[20];\\nrz(-5*pi/4) q[20];\\nrx(pi/2) q[20];\\nrz(pi/2) q[20];\\nrz(pi/4) q[26];\\nswap q[25],q[19];\\ncx q[25],q[26];\\nswap q[25],q[19];\\nrz(pi/4) q[19];\\nrz(-pi/4) q[26];\\nswap q[25],q[19];\\ncx q[25],q[26];\\nswap q[25],q[19];\\nrz(2.6375741) q[26];\\nrx(pi) q[26];\\nrz(2.6375741) q[26];\\nswap q[25],q[19];\\ncx q[25],q[26];\\nswap q[25],q[19];\\ncx q[25],q[24];\\nswap q[19],q[25];\\ncx q[19],q[20];\\nswap q[19],q[25];\\nh q[25];\\ncx q[24],q[25];\\nrz(-pi/4) q[25];\\nswap q[19],q[20];\\ncx q[19],q[25];\\nswap q[19],q[20];\\nrz(pi/4) q[25];\\ncx q[24],q[25];\\nrz(-pi/4) q[25];\\nswap q[19],q[20];\\ncx q[19],q[25];\\nswap q[19],q[20];\\nrz(-5*pi/4) q[25];\\nrx(pi/2) q[25];\\nrz(pi/2) q[25];\\nrz(pi/4) q[24];\\nswap q[19],q[20];\\nswap q[18],q[19];\\ncx q[18],q[24];\\nswap q[18],q[19];\\nswap q[19],q[20];\\nrz(pi/4) q[20];\\nrz(-pi/4) q[24];\\nswap q[19],q[20];\\nswap q[18],q[19];\\ncx q[18],q[24];\\nswap q[18],q[19];\\nswap q[19],q[20];\\nrz(2.6375741) q[24];\\nrx(pi) q[24];\\nrz(2.6375741) q[24];\\nswap q[19],q[20];\\nswap q[18],q[19];\\ncx q[18],q[24];\\nswap q[18],q[19];\\nswap q[19],q[20];\\ncx q[31],q[30];\\ncx q[31],q[25];\\nh q[31];\\ncx q[30],q[31];\\nrz(-pi/4) q[31];\\ncx q[25],q[31];\\nrz(pi/4) q[31];\\ncx q[30],q[31];\\nrz(-pi/4) q[31];\\ncx q[25],q[31];\\nrz(-5*pi/4) q[31];\\nrx(pi/2) q[31];\\nrz(pi/2) q[31];\\nrz(pi/4) q[30];\\nswap q[24],q[25];\\ncx q[24],q[30];\\nswap q[24],q[25];\\nrz(pi/4) q[25];\\nrz(-pi/4) q[30];\\nswap q[24],q[25];\\ncx q[24],q[30];\\nswap q[24],q[25];\\nrz(2.6375741) q[30];\\nrx(pi) q[30];\\nrz(2.6375741) q[30];\\nswap q[24],q[25];\\ncx q[24],q[30];\\nswap q[24],q[25];\\ncx q[32],q[33];\\ncx q[32],q[31];\\nh q[32];\\ncx q[33],q[32];\\nrz(-pi/4) q[32];\\ncx q[31],q[32];\\nrz(pi/4) q[32];\\ncx q[33],q[32];\\nrz(-pi/4) q[32];\\ncx q[31],q[32];\\nrz(-5*pi/4) q[32];\\nrx(pi/2) q[32];\\nrz(pi/2) q[32];\\nrz(pi/4) q[33];\\nswap q[32],q[31];\\ncx q[32],q[33];\\nswap q[32],q[31];\\nrz(pi/4) q[31];\\nrz(-pi/4) q[33];\\nswap q[32],q[31];\\ncx q[32],q[33];\\nswap q[32],q[31];\\nrz(2.6375741) q[33];\\nrx(pi) q[33];\\nrz(2.6375741) q[33];\\nswap q[32],q[31];\\ncx q[32],q[33];\\nswap q[32],q[31];\\nswap q[33],q[27];\\ncx q[33],q[34];\\nswap q[33],q[27];\\nswap q[26],q[27];\\ncx q[26],q[32];\\nswap q[26],q[27];\\nh q[27];\\nswap q[28],q[34];\\ncx q[28],q[27];\\nswap q[28],q[34];\\nrz(-pi/4) q[27];\\nswap q[26],q[32];\\ncx q[26],q[27];\\nswap q[26],q[32];\\nrz(pi/4) q[27];\\nswap q[28],q[34];\\ncx q[28],q[27];\\nswap q[28],q[34];\\nrz(-pi/4) q[27];\\nswap q[26],q[32];\\ncx q[26],q[27];\\nswap q[26],q[32];\\nrz(-5*pi/4) q[27];\\nrx(pi/2) q[27];\\nrz(pi/2) q[27];\\nrz(pi/4) q[34];\\nswap q[33],q[32];\\ncx q[33],q[34];\\nswap q[33],q[32];\\nrz(pi/4) q[32];\\nrz(-pi/4) q[34];\\nswap q[33],q[32];\\ncx q[33],q[34];\\nswap q[33],q[32];\\nrz(2.6375741) q[34];\\nrx(pi) q[34];\\nrz(2.6375741) q[34];\\nswap q[33],q[32];\\ncx q[33],q[34];\\nswap q[33],q[32];\\nswap q[33],q[27];\\nswap q[34],q[33];\\ncx q[34],q[35];\\nswap q[34],q[33];\\nswap q[33],q[27];\\nh q[27];\\nswap q[28],q[34];\\ncx q[28],q[27];\\nswap q[28],q[34];\\nrz(-pi/4) q[27];\\nswap q[26],q[32];\\ncx q[26],q[27];\\nswap q[26],q[32];\\nrz(pi/4) q[27];\\nswap q[28],q[34];\\ncx q[28],q[27];\\nswap q[28],q[34];\\nrz(-pi/4) q[27];\\nswap q[26],q[32];\\ncx q[26],q[27];\\nswap q[26],q[32];\\nrz(-5*pi/4) q[27];\\nrx(pi/2) q[27];\\nrz(pi/2) q[27];\\nrz(pi/4) q[34];\\nswap q[33],q[32];\\ncx q[33],q[34];\\nswap q[33],q[32];\\nrz(pi/4) q[32];\\nrz(-pi/4) q[34];\\nswap q[33],q[32];\\ncx q[33],q[34];\\nswap q[33],q[32];\\nswap q[26],q[27];\\ncx q[26],q[32];\\nswap q[26],q[27];\\nh q[32];\\ncx q[33],q[32];\\nrz(-pi/4) q[32];\\ncx q[31],q[32];\\nrz(pi/4) q[32];\\ncx q[33],q[32];\\nrz(-pi/4) q[32];\\ncx q[31],q[32];\\nrz(-5*pi/4) q[32];\\nrx(pi/2) q[32];\\nrz(pi/2) q[32];\\nrz(pi/4) q[33];\\nswap q[32],q[31];\\ncx q[32],q[33];\\nswap q[32],q[31];\\nrz(pi/4) q[31];\\nrz(-pi/4) q[33];\\nswap q[32],q[31];\\ncx q[32],q[33];\\nswap q[32],q[31];\\ncx q[32],q[31];\\nh q[31];\\ncx q[30],q[31];\\nrz(-pi/4) q[31];\\ncx q[25],q[31];\\nrz(pi/4) q[31];\\ncx q[30],q[31];\\nrz(-pi/4) q[31];\\ncx q[25],q[31];\\nrz(-5*pi/4) q[31];\\nrx(pi/2) q[31];\\nrz(pi/2) q[31];\\nrz(pi/4) q[30];\\nswap q[24],q[25];\\ncx q[24],q[30];\\nswap q[24],q[25];\\nrz(pi/4) q[25];\\nrz(-pi/4) q[30];\\nswap q[24],q[25];\\ncx q[24],q[30];\\nswap q[24],q[25];\\ncx q[31],q[25];\\nh q[25];\\ncx q[24],q[25];\\nrz(-pi/4) q[25];\\nswap q[19],q[20];\\ncx q[19],q[25];\\nswap q[19],q[20];\\nrz(pi/4) q[25];\\ncx q[24],q[25];\\nrz(-pi/4) q[25];\\nswap q[19],q[20];\\ncx q[19],q[25];\\nswap q[19],q[20];\\nrz(-5*pi/4) q[25];\\nrx(pi/2) q[25];\\nrz(pi/2) q[25];\\nrz(pi/4) q[24];\\nswap q[19],q[20];\\nswap q[18],q[19];\\ncx q[18],q[24];\\nswap q[18],q[19];\\nswap q[19],q[20];\\nrz(pi/4) q[20];\\nrz(-pi/4) q[24];\\nswap q[19],q[20];\\nswap q[18],q[19];\\ncx q[18],q[24];\\nswap q[18],q[19];\\nswap q[19],q[20];\\nswap q[19],q[25];\\ncx q[19],q[20];\\nswap q[19],q[25];\\nh q[20];\\ncx q[26],q[20];\\nrz(-pi/4) q[20];\\ncx q[19],q[20];\\nrz(pi/4) q[20];\\ncx q[26],q[20];\\nrz(-pi/4) q[20];\\ncx q[19],q[20];\\nrz(-5*pi/4) q[20];\\nrx(pi/2) q[20];\\nrz(pi/2) q[20];\\nrz(pi/4) q[26];\\nswap q[25],q[19];\\ncx q[25],q[26];\\nswap q[25],q[19];\\nrz(pi/4) q[19];\\nrz(-pi/4) q[26];\\nswap q[25],q[19];\\ncx q[25],q[26];\\nswap q[25],q[19];\\ncx q[20],q[19];\\nh q[19];\\ncx q[18],q[19];\\nrz(-pi/4) q[19];\\ncx q[13],q[19];\\nrz(pi/4) q[19];\\ncx q[18],q[19];\\nrz(-pi/4) q[19];\\ncx q[13],q[19];\\nrz(-5*pi/4) q[19];\\nrx(pi/2) q[19];\\nrz(pi/2) q[19];\\nrz(pi/4) q[18];\\nswap q[12],q[13];\\ncx q[12],q[18];\\nswap q[12],q[13];\\nrz(pi/4) q[13];\\nrz(-pi/4) q[18];\\nswap q[12],q[13];\\ncx q[12],q[18];\\nswap q[12],q[13];\\ncx q[19],q[13];\\nh q[13];\\ncx q[12],q[13];\\nrz(-pi/4) q[13];\\nswap q[3],q[4];\\nswap q[2],q[3];\\nswap q[1],q[2];\\nswap q[7],q[1];\\ncx q[7],q[13];\\nswap q[7],q[1];\\nswap q[1],q[2];\\nswap q[2],q[3];\\nswap q[3],q[4];\\nrz(pi/4) q[13];\\ncx q[12],q[13];\\nrz(-pi/4) q[13];\\nswap q[3],q[4];\\nswap q[2],q[3];\\nswap q[1],q[2];\\nswap q[7],q[1];\\ncx q[7],q[13];\\nswap q[7],q[1];\\nswap q[1],q[2];\\nswap q[2],q[3];\\nswap q[3],q[4];\\nrz(-5*pi/4) q[13];\\nrx(pi/2) q[13];\\nrz(pi/2) q[13];\\nrz(pi/4) q[12];\\nswap q[3],q[4];\\nswap q[2],q[3];\\nswap q[1],q[2];\\nswap q[0],q[1];\\nswap q[6],q[0];\\ncx q[6],q[12];\\nswap q[6],q[0];\\nswap q[0],q[1];\\nswap q[1],q[2];\\nswap q[2],q[3];\\nswap q[3],q[4];\\nrz(pi/4) q[4];\\nrz(-pi/4) q[12];\\nswap q[3],q[4];\\nswap q[2],q[3];\\nswap q[1],q[2];\\nswap q[0],q[1];\\nswap q[6],q[0];\\ncx q[6],q[12];\\nswap q[6],q[0];\\nswap q[0],q[1];\\nswap q[1],q[2];\\nswap q[2],q[3];\\nswap q[3],q[4];\\nswap q[7],q[13];\\nswap q[1],q[7];\\nswap q[2],q[1];\\nswap q[3],q[2];\\ncx q[3],q[4];\\nswap q[3],q[2];\\nswap q[2],q[1];\\nswap q[1],q[7];\\nswap q[7],q[13];\\nh q[4];\\nswap q[22],q[28];\\nswap q[16],q[22];\\nswap q[10],q[16];\\ncx q[10],q[4];\\nswap q[10],q[16];\\nswap q[16],q[22];\\nswap q[22],q[28];\\nrz(-pi/4) q[4];\\nrz(2.6375741) q[12];\\nrx(pi) q[12];\\nrz(2.6375741) q[12];\\ncx q[13],q[12];\\nrz(2.6375741) q[18];\\nrx(pi) q[18];\\nrz(2.6375741) q[18];\\ncx q[19],q[18];\\nrz(2.6375741) q[26];\\nrx(pi) q[26];\\nrz(2.6375741) q[26];\\ncx q[20],q[26];\\nrz(2.6375741) q[24];\\nrx(pi) q[24];\\nrz(2.6375741) q[24];\\ncx q[25],q[24];\\nrz(2.6375741) q[30];\\nrx(pi) q[30];\\nrz(2.6375741) q[30];\\ncx q[31],q[30];\\nrz(2.6375741) q[33];\\nrx(pi) q[33];\\nrz(2.6375741) q[33];\\ncx q[32],q[33];\\nrz(2.6375741) q[34];\\nrx(pi) q[34];\\nrz(2.6375741) q[34];\\nswap q[33],q[27];\\ncx q[33],q[34];\\nswap q[33],q[27];\\nswap q[5],q[11];\\ncx q[5],q[4];\\nswap q[5],q[11];\\nrz(pi/4) q[4];\\nswap q[22],q[28];\\nswap q[16],q[22];\\nswap q[10],q[16];\\ncx q[10],q[4];\\nswap q[10],q[16];\\nswap q[16],q[22];\\nswap q[22],q[28];\\nrz(-pi/4) q[4];\\nrz(pi/4) q[28];\\nswap q[5],q[11];\\ncx q[5],q[4];\\nswap q[5],q[11];\\nrz(-5*pi/4) q[4];\\nrx(pi/2) q[4];\\nrz(pi/2) q[4];\\nswap q[10],q[11];\\nswap q[16],q[10];\\nswap q[22],q[16];\\ncx q[22],q[28];\\nswap q[22],q[16];\\nswap q[16],q[10];\\nswap q[10],q[11];\\nrz(-pi/4) q[28];\\nrz(pi/4) q[11];\\nswap q[10],q[11];\\nswap q[16],q[10];\\nswap q[22],q[16];\\ncx q[22],q[28];\\nswap q[22],q[16];\\nswap q[16],q[10];\\nswap q[10],q[11];\\nswap q[10],q[4];\\ncx q[10],q[11];\\nswap q[10],q[4];\\nrz(2.6375741) q[28];\\nrx(pi) q[28];\\nrz(2.6375741) q[28];\\nswap q[10],q[4];\\nswap q[16],q[10];\\nswap q[22],q[16];\\ncx q[22],q[28];\\nswap q[22],q[16];\\nswap q[16],q[10];\\nswap q[10],q[4];\\nh q[11];\\ncx q[5],q[11];\\nrz(-pi/4) q[11];\\nswap q[17],q[23];\\ncx q[17],q[11];\\nswap q[17],q[23];\\nrz(pi/4) q[11];\\ncx q[5],q[11];\\nrz(pi/4) q[5];\\nrz(-pi/4) q[11];\\nswap q[17],q[23];\\ncx q[17],q[11];\\nswap q[17],q[23];\\nswap q[17],q[23];\\nswap q[11],q[17];\\ncx q[11],q[5];\\nswap q[11],q[17];\\nswap q[17],q[23];\\nrz(-pi/4) q[5];\\nrz(pi/4) q[23];\\nswap q[17],q[23];\\nswap q[11],q[17];\\ncx q[11],q[5];\\nswap q[11],q[17];\\nswap q[17],q[23];\\nrz(2.6375741) q[5];\\nrx(pi) q[5];\\nrz(2.6375741) q[5];\\nrz(-5*pi/4) q[11];\\nrx(pi/2) q[11];\\nrz(pi/2) q[11];\\nswap q[17],q[11];\\ncx q[17],q[23];\\nswap q[17],q[11];\\nh q[23];\\ncx q[29],q[23];\\nrz(-pi/4) q[23];\\ncx q[22],q[23];\\nrz(pi/4) q[23];\\ncx q[29],q[23];\\nrz(pi/4) q[29];\\nrz(-pi/4) q[23];\\ncx q[22],q[23];\\nswap q[28],q[22];\\ncx q[28],q[29];\\nswap q[28],q[22];\\nrz(-pi/4) q[29];\\nrz(pi/4) q[22];\\nswap q[28],q[22];\\ncx q[28],q[29];\\nswap q[28],q[22];\\nrz(2.6375741) q[29];\\nrx(pi) q[29];\\nrz(2.6375741) q[29];\\nrz(-5*pi/4) q[23];\\nrx(pi/2) q[23];\\nrz(pi/2) q[23];\\ncx q[23],q[22];\\nh q[22];\\ncx q[21],q[22];\\nrz(-pi/4) q[22];\\ncx q[16],q[22];\\nrz(pi/4) q[22];\\ncx q[21],q[22];\\nrz(pi/4) q[21];\\nrz(-pi/4) q[22];\\ncx q[16],q[22];\\nswap q[15],q[16];\\ncx q[15],q[21];\\nswap q[15],q[16];\\nrz(-pi/4) q[21];\\nrz(pi/4) q[16];\\nswap q[15],q[16];\\ncx q[15],q[21];\\nswap q[15],q[16];\\nrz(2.6375741) q[21];\\nrx(pi) q[21];\\nrz(2.6375741) q[21];\\nrz(-5*pi/4) q[22];\\nrx(pi/2) q[22];\\nrz(pi/2) q[22];\\ncx q[22],q[16];\\nh q[16];\\ncx q[17],q[16];\\nrz(-pi/4) q[16];\\ncx q[15],q[16];\\nrz(pi/4) q[16];\\ncx q[17],q[16];\\nrz(pi/4) q[17];\\nrz(-pi/4) q[16];\\ncx q[15],q[16];\\nswap q[16],q[15];\\ncx q[16],q[17];\\nswap q[16],q[15];\\nrz(-pi/4) q[17];\\nrz(pi/4) q[15];\\nswap q[16],q[15];\\ncx q[16],q[17];\\nswap q[16],q[15];\\nrz(2.6375741) q[17];\\nrx(pi) q[17];\\nrz(2.6375741) q[17];\\nrz(-5*pi/4) q[16];\\nrx(pi/2) q[16];\\nrz(pi/2) q[16];\\ncx q[16],q[15];\\nh q[15];\\ncx q[14],q[15];\\nrz(-pi/4) q[15];\\ncx q[9],q[15];\\nrz(pi/4) q[15];\\ncx q[14],q[15];\\nrz(pi/4) q[14];\\nrz(-pi/4) q[15];\\ncx q[9],q[15];\\nswap q[8],q[9];\\ncx q[8],q[14];\\nswap q[8],q[9];\\nrz(-pi/4) q[14];\\nrz(pi/4) q[9];\\nswap q[8],q[9];\\ncx q[8],q[14];\\nswap q[8],q[9];\\nrz(2.6375741) q[14];\\nrx(pi) q[14];\\nrz(2.6375741) q[14];\\nrz(-5*pi/4) q[15];\\nrx(pi/2) q[15];\\nrz(pi/2) q[15];\\ncx q[15],q[9];\\nh q[9];\\ncx q[10],q[9];\\nrz(-pi/4) q[9];\\ncx q[8],q[9];\\nrz(pi/4) q[9];\\ncx q[10],q[9];\\nrz(pi/4) q[10];\\nrz(-pi/4) q[9];\\ncx q[8],q[9];\\nswap q[9],q[8];\\ncx q[9],q[10];\\nswap q[9],q[8];\\nrz(-pi/4) q[10];\\nrz(pi/4) q[8];\\nswap q[9],q[8];\\ncx q[9],q[10];\\nswap q[9],q[8];\\nrz(2.6375741) q[10];\\nrx(pi) q[10];\\nrz(2.6375741) q[10];\\nrz(-5*pi/4) q[9];\\nrx(pi/2) q[9];\\nrz(pi/2) q[9];\\ncx q[9],q[8];\\nh q[8];\\ncx q[7],q[8];\\nrz(-pi/4) q[8];\\ncx q[2],q[8];\\nrz(pi/4) q[8];\\ncx q[7],q[8];\\nrz(pi/4) q[7];\\nrz(-pi/4) q[8];\\ncx q[2],q[8];\\nswap q[1],q[2];\\ncx q[1],q[7];\\nswap q[1],q[2];\\nrz(pi/4) q[2];\\nrz(-pi/4) q[7];\\nswap q[1],q[2];\\ncx q[1],q[7];\\nswap q[1],q[2];\\nrz(2.6375741) q[7];\\nrx(pi) q[7];\\nrz(2.6375741) q[7];\\nrz(-5*pi/4) q[8];\\nrx(pi/2) q[8];\\nrz(pi/2) q[8];\\ncx q[8],q[2];\\nh q[2];\\ncx q[3],q[2];\\nrz(-pi/4) q[2];\\nswap q[1],q[0];\\ncx q[1],q[2];\\nswap q[1],q[0];\\nrz(pi/4) q[2];\\ncx q[3],q[2];\\nrz(pi/4) q[3];\\nrz(-pi/4) q[2];\\nswap q[1],q[0];\\ncx q[1],q[2];\\nswap q[1],q[0];\\nswap q[1],q[0];\\nswap q[2],q[1];\\ncx q[2],q[3];\\nswap q[2],q[1];\\nswap q[1],q[0];\\nrz(pi/4) q[0];\\nrz(-pi/4) q[3];\\nswap q[1],q[0];\\nswap q[2],q[1];\\ncx q[2],q[3];\\nswap q[2],q[1];\\nswap q[1],q[0];\\nrz(2.6375741) q[3];\\nrx(pi) q[3];\\nrz(2.6375741) q[3];\\nrz(-5*pi/4) q[2];\\nrx(pi/2) q[2];\\nrz(pi/2) q[2];\\nswap q[1],q[2];\\ncx q[1],q[0];\\nswap q[1],q[2];\\nh q[0];\\ncx q[1],q[0];\\nrz(-pi/4) q[0];\\ncx q[6],q[0];\\nrz(pi/4) q[0];\\ncx q[1],q[0];\\nrz(-pi/4) q[0];\\ncx q[6],q[0];\\nrz(-5*pi/4) q[0];\\nrx(pi/2) q[0];\\nrz(pi/2) q[0];\\nrz(pi/4) q[1];\\nswap q[0],q[6];\\ncx q[0],q[1];\\nswap q[0],q[6];\\nrz(pi/4) q[6];\\nrz(-pi/4) q[1];\\nswap q[0],q[6];\\ncx q[0],q[1];\\nswap q[0],q[6];\\ncx q[0],q[6];\\nrz(2.6375741) q[1];\\nrx(pi) q[1];\\nrz(2.6375741) q[1];\\ncx q[0],q[1];\\ncx q[2],q[3];\\ncx q[8],q[7];\\ncx q[9],q[10];\\ncx q[15],q[14];\\ncx q[16],q[17];\\ncx q[22],q[21];\\ncx q[23],q[29];\\ncx q[11],q[5];\\n')\n",
    "_gate_times = {\n",
    "    '1' : 12.0,\n",
    "    'rz' : 0.0,  # Free\n",
    "    'cx' : 80.0,\n",
    "}\n",
    "_schedule = schedule_circuit(_routed, _gate_times)\n",
    "validate_schedule(_routed, _gate_times, _schedule, check_unitary=False)\n",
    "_score, _worst = score_schedule(_routed, _gate_times, _schedule)\n",
    "assert _worst == 4508064, 'internal error'\n",
    "assert _score <= 3000000, 'score is above 3000000, try improving the mapping by placing pairs of qubits with many CNOTs close together'\n",
    "print('PASS: Score is under 3000000 (see if you can beat our solution of 2615008)')"
   ]
  },
  {
   "cell_type": "code",
   "execution_count": null,
   "metadata": {
    "deletable": false,
    "editable": false,
    "id": "egA7XQ88knjn",
    "nbgrader": {
     "cell_type": "code",
     "checksum": "0e06f1553987dbe890a2951d9b93f051",
     "grade": true,
     "grade_id": "3c-test",
     "locked": true,
     "points": 5,
     "schema_version": 3,
     "solution": false,
     "task": false
    }
   },
   "outputs": [],
   "source": [
    "# Do not delete this cell\n",
    "# The autograder will test the function schedule_circuit.\n",
    "# Give a fixed routing so we only test your scheduler\n",
    "_routed = QuantumCircuit.from_qasm_str('OPENQASM 2.0;\\ninclude \"qelib1.inc\";\\nqreg q[200];\\ncx q[0],q[1];\\ncx q[0],q[199];\\nh q[0];\\ncx q[1],q[0];\\nrz(-pi/4) q[0];\\ncx q[199],q[0];\\nrz(pi/4) q[0];\\ncx q[1],q[0];\\nrz(-pi/4) q[0];\\ncx q[199],q[0];\\nrz(-5*pi/4) q[0];\\nrx(pi/2) q[0];\\nrz(pi/2) q[0];\\nrz(pi/4) q[1];\\nswap q[0],q[199];\\ncx q[0],q[1];\\nswap q[0],q[199];\\nrz(pi/4) q[199];\\nrz(-pi/4) q[1];\\nswap q[0],q[199];\\ncx q[0],q[1];\\nswap q[0],q[199];\\nrz(2.6375741) q[1];\\nrx(pi) q[1];\\nrz(2.6375741) q[1];\\nswap q[0],q[199];\\ncx q[0],q[1];\\nswap q[0],q[199];\\ncx q[2],q[3];\\nswap q[1],q[2];\\ncx q[1],q[0];\\nswap q[1],q[2];\\nh q[2];\\ncx q[3],q[2];\\nrz(-pi/4) q[2];\\nswap q[1],q[0];\\ncx q[1],q[2];\\nswap q[1],q[0];\\nrz(pi/4) q[2];\\ncx q[3],q[2];\\nrz(pi/4) q[3];\\nrz(-pi/4) q[2];\\nswap q[1],q[0];\\ncx q[1],q[2];\\nswap q[1],q[0];\\nswap q[1],q[0];\\nswap q[2],q[1];\\ncx q[2],q[3];\\nswap q[2],q[1];\\nswap q[1],q[0];\\nrz(pi/4) q[0];\\nrz(-pi/4) q[3];\\nswap q[1],q[0];\\nswap q[2],q[1];\\ncx q[2],q[3];\\nswap q[2],q[1];\\nswap q[1],q[0];\\nrz(2.6375741) q[3];\\nrx(pi) q[3];\\nrz(2.6375741) q[3];\\nswap q[1],q[0];\\nswap q[2],q[1];\\ncx q[2],q[3];\\nswap q[2],q[1];\\nswap q[1],q[0];\\nrz(-5*pi/4) q[2];\\nrx(pi/2) q[2];\\nrz(pi/2) q[2];\\ncx q[4],q[5];\\nswap q[3],q[4];\\ncx q[3],q[2];\\nswap q[3],q[4];\\nh q[4];\\ncx q[5],q[4];\\nrz(-pi/4) q[4];\\nswap q[3],q[2];\\ncx q[3],q[4];\\nswap q[3],q[2];\\nrz(pi/4) q[4];\\ncx q[5],q[4];\\nrz(pi/4) q[5];\\nrz(-pi/4) q[4];\\nswap q[3],q[2];\\ncx q[3],q[4];\\nswap q[3],q[2];\\nswap q[3],q[2];\\nswap q[4],q[3];\\ncx q[4],q[5];\\nswap q[4],q[3];\\nswap q[3],q[2];\\nrz(pi/4) q[2];\\nrz(-pi/4) q[5];\\nswap q[3],q[2];\\nswap q[4],q[3];\\ncx q[4],q[5];\\nswap q[4],q[3];\\nswap q[3],q[2];\\nrz(2.6375741) q[5];\\nrx(pi) q[5];\\nrz(2.6375741) q[5];\\nswap q[3],q[2];\\nswap q[4],q[3];\\ncx q[4],q[5];\\nswap q[4],q[3];\\nswap q[3],q[2];\\nrz(-5*pi/4) q[4];\\nrx(pi/2) q[4];\\nrz(pi/2) q[4];\\ncx q[6],q[7];\\nswap q[5],q[6];\\ncx q[5],q[4];\\nswap q[5],q[6];\\nh q[6];\\ncx q[7],q[6];\\nrz(-pi/4) q[6];\\nswap q[5],q[4];\\ncx q[5],q[6];\\nswap q[5],q[4];\\nrz(pi/4) q[6];\\ncx q[7],q[6];\\nrz(pi/4) q[7];\\nrz(-pi/4) q[6];\\nswap q[5],q[4];\\ncx q[5],q[6];\\nswap q[5],q[4];\\nswap q[5],q[4];\\nswap q[6],q[5];\\ncx q[6],q[7];\\nswap q[6],q[5];\\nswap q[5],q[4];\\nrz(-pi/4) q[7];\\nrz(pi/4) q[4];\\nswap q[5],q[4];\\nswap q[6],q[5];\\ncx q[6],q[7];\\nswap q[6],q[5];\\nswap q[5],q[4];\\nrz(2.6375741) q[7];\\nrx(pi) q[7];\\nrz(2.6375741) q[7];\\nswap q[5],q[4];\\nswap q[6],q[5];\\ncx q[6],q[7];\\nswap q[6],q[5];\\nswap q[5],q[4];\\nrz(-5*pi/4) q[6];\\nrx(pi/2) q[6];\\nrz(pi/2) q[6];\\ncx q[8],q[9];\\nswap q[7],q[8];\\ncx q[7],q[6];\\nswap q[7],q[8];\\nh q[8];\\ncx q[9],q[8];\\nrz(-pi/4) q[8];\\nswap q[7],q[6];\\ncx q[7],q[8];\\nswap q[7],q[6];\\nrz(pi/4) q[8];\\ncx q[9],q[8];\\nrz(pi/4) q[9];\\nrz(-pi/4) q[8];\\nswap q[7],q[6];\\ncx q[7],q[8];\\nswap q[7],q[6];\\nswap q[7],q[6];\\nswap q[8],q[7];\\ncx q[8],q[9];\\nswap q[8],q[7];\\nswap q[7],q[6];\\nrz(-pi/4) q[9];\\nrz(pi/4) q[6];\\nswap q[7],q[6];\\nswap q[8],q[7];\\ncx q[8],q[9];\\nswap q[8],q[7];\\nswap q[7],q[6];\\nrz(2.6375741) q[9];\\nrx(pi) q[9];\\nrz(2.6375741) q[9];\\nswap q[7],q[6];\\nswap q[8],q[7];\\ncx q[8],q[9];\\nswap q[8],q[7];\\nswap q[7],q[6];\\nrz(-5*pi/4) q[8];\\nrx(pi/2) q[8];\\nrz(pi/2) q[8];\\ncx q[10],q[11];\\nswap q[9],q[10];\\ncx q[9],q[8];\\nswap q[9],q[10];\\nh q[10];\\ncx q[11],q[10];\\nrz(-pi/4) q[10];\\nswap q[9],q[8];\\ncx q[9],q[10];\\nswap q[9],q[8];\\nrz(pi/4) q[10];\\ncx q[11],q[10];\\nrz(pi/4) q[11];\\nrz(-pi/4) q[10];\\nswap q[9],q[8];\\ncx q[9],q[10];\\nswap q[9],q[8];\\nswap q[9],q[8];\\nswap q[10],q[9];\\ncx q[10],q[11];\\nswap q[10],q[9];\\nswap q[9],q[8];\\nrz(-pi/4) q[11];\\nrz(pi/4) q[8];\\nswap q[9],q[8];\\nswap q[10],q[9];\\ncx q[10],q[11];\\nswap q[10],q[9];\\nswap q[9],q[8];\\nrz(2.6375741) q[11];\\nrx(pi) q[11];\\nrz(2.6375741) q[11];\\nswap q[9],q[8];\\nswap q[10],q[9];\\ncx q[10],q[11];\\nswap q[10],q[9];\\nswap q[9],q[8];\\nrz(-5*pi/4) q[10];\\nrx(pi/2) q[10];\\nrz(pi/2) q[10];\\ncx q[12],q[13];\\nswap q[11],q[12];\\ncx q[11],q[10];\\nswap q[11],q[12];\\nh q[12];\\ncx q[13],q[12];\\nrz(-pi/4) q[12];\\nswap q[11],q[10];\\ncx q[11],q[12];\\nswap q[11],q[10];\\nrz(pi/4) q[12];\\ncx q[13],q[12];\\nrz(pi/4) q[13];\\nrz(-pi/4) q[12];\\nswap q[11],q[10];\\ncx q[11],q[12];\\nswap q[11],q[10];\\nswap q[11],q[10];\\nswap q[12],q[11];\\ncx q[12],q[13];\\nswap q[12],q[11];\\nswap q[11],q[10];\\nrz(-pi/4) q[13];\\nrz(pi/4) q[10];\\nswap q[11],q[10];\\nswap q[12],q[11];\\ncx q[12],q[13];\\nswap q[12],q[11];\\nswap q[11],q[10];\\nrz(2.6375741) q[13];\\nrx(pi) q[13];\\nrz(2.6375741) q[13];\\nswap q[11],q[10];\\nswap q[12],q[11];\\ncx q[12],q[13];\\nswap q[12],q[11];\\nswap q[11],q[10];\\nrz(-5*pi/4) q[12];\\nrx(pi/2) q[12];\\nrz(pi/2) q[12];\\ncx q[14],q[15];\\nswap q[13],q[14];\\ncx q[13],q[12];\\nswap q[13],q[14];\\nh q[14];\\ncx q[15],q[14];\\nrz(-pi/4) q[14];\\nswap q[13],q[12];\\ncx q[13],q[14];\\nswap q[13],q[12];\\nrz(pi/4) q[14];\\ncx q[15],q[14];\\nrz(pi/4) q[15];\\nrz(-pi/4) q[14];\\nswap q[13],q[12];\\ncx q[13],q[14];\\nswap q[13],q[12];\\nswap q[13],q[12];\\nswap q[14],q[13];\\ncx q[14],q[15];\\nswap q[14],q[13];\\nswap q[13],q[12];\\nrz(-pi/4) q[15];\\nrz(pi/4) q[12];\\nswap q[13],q[12];\\nswap q[14],q[13];\\ncx q[14],q[15];\\nswap q[14],q[13];\\nswap q[13],q[12];\\nrz(2.6375741) q[15];\\nrx(pi) q[15];\\nrz(2.6375741) q[15];\\nswap q[13],q[12];\\nswap q[14],q[13];\\ncx q[14],q[15];\\nswap q[14],q[13];\\nswap q[13],q[12];\\nrz(-5*pi/4) q[14];\\nrx(pi/2) q[14];\\nrz(pi/2) q[14];\\ncx q[16],q[17];\\nswap q[15],q[16];\\ncx q[15],q[14];\\nswap q[15],q[16];\\nh q[16];\\ncx q[17],q[16];\\nrz(-pi/4) q[16];\\nswap q[15],q[14];\\ncx q[15],q[16];\\nswap q[15],q[14];\\nrz(pi/4) q[16];\\ncx q[17],q[16];\\nrz(pi/4) q[17];\\nrz(-pi/4) q[16];\\nswap q[15],q[14];\\ncx q[15],q[16];\\nswap q[15],q[14];\\nswap q[15],q[14];\\nswap q[16],q[15];\\ncx q[16],q[17];\\nswap q[16],q[15];\\nswap q[15],q[14];\\nrz(-pi/4) q[17];\\nrz(pi/4) q[14];\\nswap q[15],q[14];\\nswap q[16],q[15];\\ncx q[16],q[17];\\nswap q[16],q[15];\\nswap q[15],q[14];\\nrz(2.6375741) q[17];\\nrx(pi) q[17];\\nrz(2.6375741) q[17];\\nswap q[15],q[14];\\nswap q[16],q[15];\\ncx q[16],q[17];\\nswap q[16],q[15];\\nswap q[15],q[14];\\nrz(-5*pi/4) q[16];\\nrx(pi/2) q[16];\\nrz(pi/2) q[16];\\ncx q[18],q[19];\\nswap q[17],q[18];\\ncx q[17],q[16];\\nswap q[17],q[18];\\nh q[18];\\ncx q[19],q[18];\\nrz(-pi/4) q[18];\\nswap q[17],q[16];\\ncx q[17],q[18];\\nswap q[17],q[16];\\nrz(pi/4) q[18];\\ncx q[19],q[18];\\nrz(-pi/4) q[18];\\nrz(pi/4) q[19];\\nswap q[17],q[16];\\ncx q[17],q[18];\\nswap q[17],q[16];\\nrz(-5*pi/4) q[18];\\nrx(pi/2) q[18];\\nrz(pi/2) q[18];\\nswap q[17],q[16];\\nswap q[18],q[17];\\ncx q[18],q[19];\\nswap q[18],q[17];\\nswap q[17],q[16];\\nrz(-pi/4) q[19];\\nrz(pi/4) q[16];\\nswap q[17],q[16];\\nswap q[18],q[17];\\ncx q[18],q[19];\\nswap q[18],q[17];\\nswap q[17],q[16];\\nrz(2.6375741) q[19];\\nrx(pi) q[19];\\nrz(2.6375741) q[19];\\nswap q[17],q[16];\\nswap q[18],q[17];\\ncx q[18],q[19];\\nswap q[18],q[17];\\nswap q[17],q[16];\\ncx q[20],q[21];\\nswap q[19],q[20];\\ncx q[19],q[18];\\nswap q[19],q[20];\\nh q[20];\\ncx q[21],q[20];\\nrz(-pi/4) q[20];\\nswap q[19],q[18];\\ncx q[19],q[20];\\nswap q[19],q[18];\\nrz(pi/4) q[20];\\ncx q[21],q[20];\\nrz(-pi/4) q[20];\\nswap q[19],q[18];\\ncx q[19],q[20];\\nswap q[19],q[18];\\nrz(-5*pi/4) q[20];\\nrx(pi/2) q[20];\\nrz(pi/2) q[20];\\nrz(pi/4) q[21];\\nswap q[19],q[18];\\nswap q[20],q[19];\\ncx q[20],q[21];\\nswap q[20],q[19];\\nswap q[19],q[18];\\nrz(pi/4) q[18];\\nrz(-pi/4) q[21];\\nswap q[19],q[18];\\nswap q[20],q[19];\\ncx q[20],q[21];\\nswap q[20],q[19];\\nswap q[19],q[18];\\nrz(2.6375741) q[21];\\nrx(pi) q[21];\\nrz(2.6375741) q[21];\\nswap q[19],q[18];\\nswap q[20],q[19];\\ncx q[20],q[21];\\nswap q[20],q[19];\\nswap q[19],q[18];\\ncx q[22],q[23];\\nswap q[21],q[22];\\ncx q[21],q[20];\\nswap q[21],q[22];\\nh q[22];\\ncx q[23],q[22];\\nrz(-pi/4) q[22];\\nswap q[21],q[20];\\ncx q[21],q[22];\\nswap q[21],q[20];\\nrz(pi/4) q[22];\\ncx q[23],q[22];\\nrz(-pi/4) q[22];\\nswap q[21],q[20];\\ncx q[21],q[22];\\nswap q[21],q[20];\\nrz(-5*pi/4) q[22];\\nrx(pi/2) q[22];\\nrz(pi/2) q[22];\\nrz(pi/4) q[23];\\nswap q[21],q[20];\\nswap q[22],q[21];\\ncx q[22],q[23];\\nswap q[22],q[21];\\nswap q[21],q[20];\\nrz(pi/4) q[20];\\nrz(-pi/4) q[23];\\nswap q[21],q[20];\\nswap q[22],q[21];\\ncx q[22],q[23];\\nswap q[22],q[21];\\nswap q[21],q[20];\\nrz(2.6375741) q[23];\\nrx(pi) q[23];\\nrz(2.6375741) q[23];\\nswap q[21],q[20];\\nswap q[22],q[21];\\ncx q[22],q[23];\\nswap q[22],q[21];\\nswap q[21],q[20];\\ncx q[24],q[25];\\nswap q[23],q[24];\\ncx q[23],q[22];\\nswap q[23],q[24];\\nh q[24];\\ncx q[25],q[24];\\nrz(-pi/4) q[24];\\nswap q[23],q[22];\\ncx q[23],q[24];\\nswap q[23],q[22];\\nrz(pi/4) q[24];\\ncx q[25],q[24];\\nrz(-pi/4) q[24];\\nswap q[23],q[22];\\ncx q[23],q[24];\\nswap q[23],q[22];\\nrz(-5*pi/4) q[24];\\nrx(pi/2) q[24];\\nrz(pi/2) q[24];\\nrz(pi/4) q[25];\\nswap q[23],q[22];\\nswap q[24],q[23];\\ncx q[24],q[25];\\nswap q[24],q[23];\\nswap q[23],q[22];\\nrz(pi/4) q[22];\\nrz(-pi/4) q[25];\\nswap q[23],q[22];\\nswap q[24],q[23];\\ncx q[24],q[25];\\nswap q[24],q[23];\\nswap q[23],q[22];\\nrz(2.6375741) q[25];\\nrx(pi) q[25];\\nrz(2.6375741) q[25];\\nswap q[23],q[22];\\nswap q[24],q[23];\\ncx q[24],q[25];\\nswap q[24],q[23];\\nswap q[23],q[22];\\ncx q[26],q[27];\\nswap q[25],q[26];\\ncx q[25],q[24];\\nswap q[25],q[26];\\nh q[26];\\ncx q[27],q[26];\\nrz(-pi/4) q[26];\\nswap q[25],q[24];\\ncx q[25],q[26];\\nswap q[25],q[24];\\nrz(pi/4) q[26];\\ncx q[27],q[26];\\nrz(-pi/4) q[26];\\nswap q[25],q[24];\\ncx q[25],q[26];\\nswap q[25],q[24];\\nrz(-5*pi/4) q[26];\\nrx(pi/2) q[26];\\nrz(pi/2) q[26];\\nrz(pi/4) q[27];\\nswap q[25],q[24];\\nswap q[26],q[25];\\ncx q[26],q[27];\\nswap q[26],q[25];\\nswap q[25],q[24];\\nrz(pi/4) q[24];\\nrz(-pi/4) q[27];\\nswap q[25],q[24];\\nswap q[26],q[25];\\ncx q[26],q[27];\\nswap q[26],q[25];\\nswap q[25],q[24];\\nrz(2.6375741) q[27];\\nrx(pi) q[27];\\nrz(2.6375741) q[27];\\nswap q[25],q[24];\\nswap q[26],q[25];\\ncx q[26],q[27];\\nswap q[26],q[25];\\nswap q[25],q[24];\\ncx q[28],q[29];\\nswap q[27],q[28];\\ncx q[27],q[26];\\nswap q[27],q[28];\\nh q[28];\\ncx q[29],q[28];\\nrz(-pi/4) q[28];\\nswap q[27],q[26];\\ncx q[27],q[28];\\nswap q[27],q[26];\\nrz(pi/4) q[28];\\ncx q[29],q[28];\\nrz(-pi/4) q[28];\\nswap q[27],q[26];\\ncx q[27],q[28];\\nswap q[27],q[26];\\nrz(-5*pi/4) q[28];\\nrx(pi/2) q[28];\\nrz(pi/2) q[28];\\nrz(pi/4) q[29];\\nswap q[27],q[26];\\nswap q[28],q[27];\\ncx q[28],q[29];\\nswap q[28],q[27];\\nswap q[27],q[26];\\nrz(pi/4) q[26];\\nrz(-pi/4) q[29];\\nswap q[27],q[26];\\nswap q[28],q[27];\\ncx q[28],q[29];\\nswap q[28],q[27];\\nswap q[27],q[26];\\nrz(2.6375741) q[29];\\nrx(pi) q[29];\\nrz(2.6375741) q[29];\\nswap q[27],q[26];\\nswap q[28],q[27];\\ncx q[28],q[29];\\nswap q[28],q[27];\\nswap q[27],q[26];\\ncx q[30],q[31];\\nswap q[29],q[30];\\ncx q[29],q[28];\\nswap q[29],q[30];\\nh q[30];\\ncx q[31],q[30];\\nrz(-pi/4) q[30];\\nswap q[29],q[28];\\ncx q[29],q[30];\\nswap q[29],q[28];\\nrz(pi/4) q[30];\\ncx q[31],q[30];\\nrz(-pi/4) q[30];\\nswap q[29],q[28];\\ncx q[29],q[30];\\nswap q[29],q[28];\\nrz(-5*pi/4) q[30];\\nrx(pi/2) q[30];\\nrz(pi/2) q[30];\\nrz(pi/4) q[31];\\nswap q[29],q[28];\\nswap q[30],q[29];\\ncx q[30],q[31];\\nswap q[30],q[29];\\nswap q[29],q[28];\\nrz(pi/4) q[28];\\nrz(-pi/4) q[31];\\nswap q[29],q[28];\\nswap q[30],q[29];\\ncx q[30],q[31];\\nswap q[30],q[29];\\nswap q[29],q[28];\\nrz(2.6375741) q[31];\\nrx(pi) q[31];\\nrz(2.6375741) q[31];\\nswap q[29],q[28];\\nswap q[30],q[29];\\ncx q[30],q[31];\\nswap q[30],q[29];\\nswap q[29],q[28];\\ncx q[32],q[33];\\nswap q[31],q[32];\\ncx q[31],q[30];\\nswap q[31],q[32];\\nh q[32];\\ncx q[33],q[32];\\nrz(-pi/4) q[32];\\nswap q[31],q[30];\\ncx q[31],q[32];\\nswap q[31],q[30];\\nrz(pi/4) q[32];\\ncx q[33],q[32];\\nrz(-pi/4) q[32];\\nswap q[31],q[30];\\ncx q[31],q[32];\\nswap q[31],q[30];\\nrz(-5*pi/4) q[32];\\nrx(pi/2) q[32];\\nrz(pi/2) q[32];\\nrz(pi/4) q[33];\\nswap q[31],q[30];\\nswap q[32],q[31];\\ncx q[32],q[33];\\nswap q[32],q[31];\\nswap q[31],q[30];\\nrz(pi/4) q[30];\\nrz(-pi/4) q[33];\\nswap q[31],q[30];\\nswap q[32],q[31];\\ncx q[32],q[33];\\nswap q[32],q[31];\\nswap q[31],q[30];\\nrz(2.6375741) q[33];\\nrx(pi) q[33];\\nrz(2.6375741) q[33];\\nswap q[31],q[30];\\nswap q[32],q[31];\\ncx q[32],q[33];\\nswap q[32],q[31];\\nswap q[31],q[30];\\nswap q[33],q[32];\\ncx q[33],q[34];\\nswap q[33],q[32];\\nh q[32];\\ncx q[33],q[32];\\nrz(-pi/4) q[32];\\nswap q[31],q[30];\\ncx q[31],q[32];\\nswap q[31],q[30];\\nrz(pi/4) q[32];\\ncx q[33],q[32];\\nrz(-pi/4) q[32];\\nswap q[31],q[30];\\ncx q[31],q[32];\\nswap q[31],q[30];\\nrz(-5*pi/4) q[32];\\nrx(pi/2) q[32];\\nrz(pi/2) q[32];\\nrz(pi/4) q[33];\\nswap q[31],q[30];\\nswap q[32],q[31];\\ncx q[32],q[33];\\nswap q[32],q[31];\\nswap q[31],q[30];\\nrz(pi/4) q[30];\\nrz(-pi/4) q[33];\\nswap q[31],q[30];\\nswap q[32],q[31];\\ncx q[32],q[33];\\nswap q[32],q[31];\\nswap q[31],q[30];\\nswap q[31],q[32];\\ncx q[31],q[30];\\nswap q[31],q[32];\\nh q[30];\\ncx q[31],q[30];\\nrz(-pi/4) q[30];\\nswap q[29],q[28];\\ncx q[29],q[30];\\nswap q[29],q[28];\\nrz(pi/4) q[30];\\ncx q[31],q[30];\\nrz(-pi/4) q[30];\\nswap q[29],q[28];\\ncx q[29],q[30];\\nswap q[29],q[28];\\nrz(-5*pi/4) q[30];\\nrx(pi/2) q[30];\\nrz(pi/2) q[30];\\nrz(pi/4) q[31];\\nswap q[29],q[28];\\nswap q[30],q[29];\\ncx q[30],q[31];\\nswap q[30],q[29];\\nswap q[29],q[28];\\nrz(pi/4) q[28];\\nrz(-pi/4) q[31];\\nswap q[29],q[28];\\nswap q[30],q[29];\\ncx q[30],q[31];\\nswap q[30],q[29];\\nswap q[29],q[28];\\nswap q[29],q[30];\\ncx q[29],q[28];\\nswap q[29],q[30];\\nh q[28];\\ncx q[29],q[28];\\nrz(-pi/4) q[28];\\nswap q[27],q[26];\\ncx q[27],q[28];\\nswap q[27],q[26];\\nrz(pi/4) q[28];\\ncx q[29],q[28];\\nrz(-pi/4) q[28];\\nswap q[27],q[26];\\ncx q[27],q[28];\\nswap q[27],q[26];\\nrz(-5*pi/4) q[28];\\nrx(pi/2) q[28];\\nrz(pi/2) q[28];\\nrz(pi/4) q[29];\\nswap q[27],q[26];\\nswap q[28],q[27];\\ncx q[28],q[29];\\nswap q[28],q[27];\\nswap q[27],q[26];\\nrz(pi/4) q[26];\\nrz(-pi/4) q[29];\\nswap q[27],q[26];\\nswap q[28],q[27];\\ncx q[28],q[29];\\nswap q[28],q[27];\\nswap q[27],q[26];\\nswap q[27],q[28];\\ncx q[27],q[26];\\nswap q[27],q[28];\\nh q[26];\\ncx q[27],q[26];\\nrz(-pi/4) q[26];\\nswap q[25],q[24];\\ncx q[25],q[26];\\nswap q[25],q[24];\\nrz(pi/4) q[26];\\ncx q[27],q[26];\\nrz(-pi/4) q[26];\\nswap q[25],q[24];\\ncx q[25],q[26];\\nswap q[25],q[24];\\nrz(-5*pi/4) q[26];\\nrx(pi/2) q[26];\\nrz(pi/2) q[26];\\nrz(pi/4) q[27];\\nswap q[25],q[24];\\nswap q[26],q[25];\\ncx q[26],q[27];\\nswap q[26],q[25];\\nswap q[25],q[24];\\nrz(pi/4) q[24];\\nrz(-pi/4) q[27];\\nswap q[25],q[24];\\nswap q[26],q[25];\\ncx q[26],q[27];\\nswap q[26],q[25];\\nswap q[25],q[24];\\nswap q[25],q[26];\\ncx q[25],q[24];\\nswap q[25],q[26];\\nh q[24];\\ncx q[25],q[24];\\nrz(-pi/4) q[24];\\nswap q[23],q[22];\\ncx q[23],q[24];\\nswap q[23],q[22];\\nrz(pi/4) q[24];\\ncx q[25],q[24];\\nrz(-pi/4) q[24];\\nswap q[23],q[22];\\ncx q[23],q[24];\\nswap q[23],q[22];\\nrz(-5*pi/4) q[24];\\nrx(pi/2) q[24];\\nrz(pi/2) q[24];\\nrz(pi/4) q[25];\\nswap q[23],q[22];\\nswap q[24],q[23];\\ncx q[24],q[25];\\nswap q[24],q[23];\\nswap q[23],q[22];\\nrz(pi/4) q[22];\\nrz(-pi/4) q[25];\\nswap q[23],q[22];\\nswap q[24],q[23];\\ncx q[24],q[25];\\nswap q[24],q[23];\\nswap q[23],q[22];\\nswap q[23],q[24];\\ncx q[23],q[22];\\nswap q[23],q[24];\\nh q[22];\\ncx q[23],q[22];\\nrz(-pi/4) q[22];\\nswap q[21],q[20];\\ncx q[21],q[22];\\nswap q[21],q[20];\\nrz(pi/4) q[22];\\ncx q[23],q[22];\\nrz(-pi/4) q[22];\\nswap q[21],q[20];\\ncx q[21],q[22];\\nswap q[21],q[20];\\nrz(-5*pi/4) q[22];\\nrx(pi/2) q[22];\\nrz(pi/2) q[22];\\nrz(pi/4) q[23];\\nswap q[21],q[20];\\nswap q[22],q[21];\\ncx q[22],q[23];\\nswap q[22],q[21];\\nswap q[21],q[20];\\nrz(pi/4) q[20];\\nrz(-pi/4) q[23];\\nswap q[21],q[20];\\nswap q[22],q[21];\\ncx q[22],q[23];\\nswap q[22],q[21];\\nswap q[21],q[20];\\nswap q[21],q[22];\\ncx q[21],q[20];\\nswap q[21],q[22];\\nh q[20];\\ncx q[21],q[20];\\nrz(-pi/4) q[20];\\nswap q[19],q[18];\\ncx q[19],q[20];\\nswap q[19],q[18];\\nrz(pi/4) q[20];\\ncx q[21],q[20];\\nrz(-pi/4) q[20];\\nswap q[19],q[18];\\ncx q[19],q[20];\\nswap q[19],q[18];\\nrz(-5*pi/4) q[20];\\nrx(pi/2) q[20];\\nrz(pi/2) q[20];\\nrz(pi/4) q[21];\\nswap q[19],q[18];\\nswap q[20],q[19];\\ncx q[20],q[21];\\nswap q[20],q[19];\\nswap q[19],q[18];\\nrz(pi/4) q[18];\\nrz(-pi/4) q[21];\\nswap q[19],q[18];\\nswap q[20],q[19];\\ncx q[20],q[21];\\nswap q[20],q[19];\\nswap q[19],q[18];\\nswap q[19],q[20];\\ncx q[19],q[18];\\nswap q[19],q[20];\\nh q[18];\\ncx q[19],q[18];\\nrz(-pi/4) q[18];\\nrz(2.6375741) q[21];\\nrx(pi) q[21];\\nrz(2.6375741) q[21];\\ncx q[20],q[21];\\nrz(2.6375741) q[23];\\nrx(pi) q[23];\\nrz(2.6375741) q[23];\\ncx q[22],q[23];\\nrz(2.6375741) q[25];\\nrx(pi) q[25];\\nrz(2.6375741) q[25];\\ncx q[24],q[25];\\nrz(2.6375741) q[27];\\nrx(pi) q[27];\\nrz(2.6375741) q[27];\\ncx q[26],q[27];\\nrz(2.6375741) q[29];\\nrx(pi) q[29];\\nrz(2.6375741) q[29];\\ncx q[28],q[29];\\nrz(2.6375741) q[31];\\nrx(pi) q[31];\\nrz(2.6375741) q[31];\\ncx q[30],q[31];\\nrz(2.6375741) q[33];\\nrx(pi) q[33];\\nrz(2.6375741) q[33];\\ncx q[32],q[33];\\nswap q[17],q[16];\\ncx q[17],q[18];\\nswap q[17],q[16];\\nrz(pi/4) q[18];\\ncx q[19],q[18];\\nrz(-pi/4) q[18];\\nrz(pi/4) q[19];\\nswap q[17],q[16];\\ncx q[17],q[18];\\nswap q[17],q[16];\\nrz(-5*pi/4) q[18];\\nrx(pi/2) q[18];\\nrz(pi/2) q[18];\\nswap q[17],q[16];\\nswap q[18],q[17];\\ncx q[18],q[19];\\nswap q[18],q[17];\\nswap q[17],q[16];\\nrz(-pi/4) q[19];\\nrz(pi/4) q[16];\\nswap q[17],q[16];\\nswap q[18],q[17];\\ncx q[18],q[19];\\nswap q[18],q[17];\\nswap q[17],q[16];\\nswap q[17],q[18];\\ncx q[17],q[16];\\nswap q[17],q[18];\\nrz(2.6375741) q[19];\\nrx(pi) q[19];\\nrz(2.6375741) q[19];\\ncx q[18],q[19];\\nh q[16];\\ncx q[17],q[16];\\nrz(-pi/4) q[16];\\nswap q[15],q[14];\\ncx q[15],q[16];\\nswap q[15],q[14];\\nrz(pi/4) q[16];\\ncx q[17],q[16];\\nrz(pi/4) q[17];\\nrz(-pi/4) q[16];\\nswap q[15],q[14];\\ncx q[15],q[16];\\nswap q[15],q[14];\\nswap q[15],q[14];\\nswap q[16],q[15];\\ncx q[16],q[17];\\nswap q[16],q[15];\\nswap q[15],q[14];\\nrz(-pi/4) q[17];\\nrz(pi/4) q[14];\\nswap q[15],q[14];\\nswap q[16],q[15];\\ncx q[16],q[17];\\nswap q[16],q[15];\\nswap q[15],q[14];\\nrz(2.6375741) q[17];\\nrx(pi) q[17];\\nrz(2.6375741) q[17];\\nrz(-5*pi/4) q[16];\\nrx(pi/2) q[16];\\nrz(pi/2) q[16];\\nswap q[15],q[16];\\ncx q[15],q[14];\\nswap q[15],q[16];\\nh q[14];\\ncx q[15],q[14];\\nrz(-pi/4) q[14];\\nswap q[13],q[12];\\ncx q[13],q[14];\\nswap q[13],q[12];\\nrz(pi/4) q[14];\\ncx q[15],q[14];\\nrz(pi/4) q[15];\\nrz(-pi/4) q[14];\\nswap q[13],q[12];\\ncx q[13],q[14];\\nswap q[13],q[12];\\nswap q[13],q[12];\\nswap q[14],q[13];\\ncx q[14],q[15];\\nswap q[14],q[13];\\nswap q[13],q[12];\\nrz(-pi/4) q[15];\\nrz(pi/4) q[12];\\nswap q[13],q[12];\\nswap q[14],q[13];\\ncx q[14],q[15];\\nswap q[14],q[13];\\nswap q[13],q[12];\\nrz(2.6375741) q[15];\\nrx(pi) q[15];\\nrz(2.6375741) q[15];\\nrz(-5*pi/4) q[14];\\nrx(pi/2) q[14];\\nrz(pi/2) q[14];\\nswap q[13],q[14];\\ncx q[13],q[12];\\nswap q[13],q[14];\\nh q[12];\\ncx q[13],q[12];\\nrz(-pi/4) q[12];\\nswap q[11],q[10];\\ncx q[11],q[12];\\nswap q[11],q[10];\\nrz(pi/4) q[12];\\ncx q[13],q[12];\\nrz(pi/4) q[13];\\nrz(-pi/4) q[12];\\nswap q[11],q[10];\\ncx q[11],q[12];\\nswap q[11],q[10];\\nswap q[11],q[10];\\nswap q[12],q[11];\\ncx q[12],q[13];\\nswap q[12],q[11];\\nswap q[11],q[10];\\nrz(-pi/4) q[13];\\nrz(pi/4) q[10];\\nswap q[11],q[10];\\nswap q[12],q[11];\\ncx q[12],q[13];\\nswap q[12],q[11];\\nswap q[11],q[10];\\nrz(2.6375741) q[13];\\nrx(pi) q[13];\\nrz(2.6375741) q[13];\\nrz(-5*pi/4) q[12];\\nrx(pi/2) q[12];\\nrz(pi/2) q[12];\\nswap q[11],q[12];\\ncx q[11],q[10];\\nswap q[11],q[12];\\nh q[10];\\ncx q[11],q[10];\\nrz(-pi/4) q[10];\\nswap q[9],q[8];\\ncx q[9],q[10];\\nswap q[9],q[8];\\nrz(pi/4) q[10];\\ncx q[11],q[10];\\nrz(pi/4) q[11];\\nrz(-pi/4) q[10];\\nswap q[9],q[8];\\ncx q[9],q[10];\\nswap q[9],q[8];\\nswap q[9],q[8];\\nswap q[10],q[9];\\ncx q[10],q[11];\\nswap q[10],q[9];\\nswap q[9],q[8];\\nrz(-pi/4) q[11];\\nrz(pi/4) q[8];\\nswap q[9],q[8];\\nswap q[10],q[9];\\ncx q[10],q[11];\\nswap q[10],q[9];\\nswap q[9],q[8];\\nrz(2.6375741) q[11];\\nrx(pi) q[11];\\nrz(2.6375741) q[11];\\nrz(-5*pi/4) q[10];\\nrx(pi/2) q[10];\\nrz(pi/2) q[10];\\nswap q[9],q[10];\\ncx q[9],q[8];\\nswap q[9],q[10];\\nh q[8];\\ncx q[9],q[8];\\nrz(-pi/4) q[8];\\nswap q[7],q[6];\\ncx q[7],q[8];\\nswap q[7],q[6];\\nrz(pi/4) q[8];\\ncx q[9],q[8];\\nrz(pi/4) q[9];\\nrz(-pi/4) q[8];\\nswap q[7],q[6];\\ncx q[7],q[8];\\nswap q[7],q[6];\\nswap q[7],q[6];\\nswap q[8],q[7];\\ncx q[8],q[9];\\nswap q[8],q[7];\\nswap q[7],q[6];\\nrz(-pi/4) q[9];\\nrz(pi/4) q[6];\\nswap q[7],q[6];\\nswap q[8],q[7];\\ncx q[8],q[9];\\nswap q[8],q[7];\\nswap q[7],q[6];\\nrz(2.6375741) q[9];\\nrx(pi) q[9];\\nrz(2.6375741) q[9];\\nrz(-5*pi/4) q[8];\\nrx(pi/2) q[8];\\nrz(pi/2) q[8];\\nswap q[7],q[8];\\ncx q[7],q[6];\\nswap q[7],q[8];\\nh q[6];\\ncx q[7],q[6];\\nrz(-pi/4) q[6];\\nswap q[5],q[4];\\ncx q[5],q[6];\\nswap q[5],q[4];\\nrz(pi/4) q[6];\\ncx q[7],q[6];\\nrz(pi/4) q[7];\\nrz(-pi/4) q[6];\\nswap q[5],q[4];\\ncx q[5],q[6];\\nswap q[5],q[4];\\nswap q[5],q[4];\\nswap q[6],q[5];\\ncx q[6],q[7];\\nswap q[6],q[5];\\nswap q[5],q[4];\\nrz(-pi/4) q[7];\\nrz(pi/4) q[4];\\nswap q[5],q[4];\\nswap q[6],q[5];\\ncx q[6],q[7];\\nswap q[6],q[5];\\nswap q[5],q[4];\\nrz(2.6375741) q[7];\\nrx(pi) q[7];\\nrz(2.6375741) q[7];\\nrz(-5*pi/4) q[6];\\nrx(pi/2) q[6];\\nrz(pi/2) q[6];\\nswap q[5],q[6];\\ncx q[5],q[4];\\nswap q[5],q[6];\\nh q[4];\\ncx q[5],q[4];\\nrz(-pi/4) q[4];\\nswap q[3],q[2];\\ncx q[3],q[4];\\nswap q[3],q[2];\\nrz(pi/4) q[4];\\ncx q[5],q[4];\\nrz(pi/4) q[5];\\nrz(-pi/4) q[4];\\nswap q[3],q[2];\\ncx q[3],q[4];\\nswap q[3],q[2];\\nswap q[3],q[2];\\nswap q[4],q[3];\\ncx q[4],q[5];\\nswap q[4],q[3];\\nswap q[3],q[2];\\nrz(pi/4) q[2];\\nrz(-pi/4) q[5];\\nswap q[3],q[2];\\nswap q[4],q[3];\\ncx q[4],q[5];\\nswap q[4],q[3];\\nswap q[3],q[2];\\nrz(2.6375741) q[5];\\nrx(pi) q[5];\\nrz(2.6375741) q[5];\\nrz(-5*pi/4) q[4];\\nrx(pi/2) q[4];\\nrz(pi/2) q[4];\\nswap q[3],q[4];\\ncx q[3],q[2];\\nswap q[3],q[4];\\nh q[2];\\ncx q[3],q[2];\\nrz(-pi/4) q[2];\\nswap q[1],q[0];\\ncx q[1],q[2];\\nswap q[1],q[0];\\nrz(pi/4) q[2];\\ncx q[3],q[2];\\nrz(pi/4) q[3];\\nrz(-pi/4) q[2];\\nswap q[1],q[0];\\ncx q[1],q[2];\\nswap q[1],q[0];\\nswap q[1],q[0];\\nswap q[2],q[1];\\ncx q[2],q[3];\\nswap q[2],q[1];\\nswap q[1],q[0];\\nrz(pi/4) q[0];\\nrz(-pi/4) q[3];\\nswap q[1],q[0];\\nswap q[2],q[1];\\ncx q[2],q[3];\\nswap q[2],q[1];\\nswap q[1],q[0];\\nrz(2.6375741) q[3];\\nrx(pi) q[3];\\nrz(2.6375741) q[3];\\nrz(-5*pi/4) q[2];\\nrx(pi/2) q[2];\\nrz(pi/2) q[2];\\nswap q[1],q[2];\\ncx q[1],q[0];\\nswap q[1],q[2];\\nh q[0];\\ncx q[1],q[0];\\nrz(-pi/4) q[0];\\ncx q[199],q[0];\\nrz(pi/4) q[0];\\ncx q[1],q[0];\\nrz(-pi/4) q[0];\\ncx q[199],q[0];\\nrz(-5*pi/4) q[0];\\nrx(pi/2) q[0];\\nrz(pi/2) q[0];\\nrz(pi/4) q[1];\\nswap q[0],q[199];\\ncx q[0],q[1];\\nswap q[0],q[199];\\nrz(pi/4) q[199];\\nrz(-pi/4) q[1];\\nswap q[0],q[199];\\ncx q[0],q[1];\\nswap q[0],q[199];\\ncx q[0],q[199];\\nrz(2.6375741) q[1];\\nrx(pi) q[1];\\nrz(2.6375741) q[1];\\ncx q[0],q[1];\\ncx q[2],q[3];\\ncx q[4],q[5];\\ncx q[6],q[7];\\ncx q[8],q[9];\\ncx q[10],q[11];\\ncx q[12],q[13];\\ncx q[14],q[15];\\ncx q[16],q[17];\\n')\n",
    "_gate_times = {\n",
    "    '1' : 12.0,\n",
    "    'rz' : 0.0,  # Free\n",
    "    'cx' : 80.0,\n",
    "}\n",
    "_schedule = schedule_circuit(_routed, _gate_times)\n",
    "validate_schedule(_routed, _gate_times, _schedule, check_unitary=False)\n",
    "_score, _worst = score_schedule(_routed, _gate_times, _schedule)\n",
    "assert _worst == 5406624, 'internal error'\n",
    "assert _score <= 5000000, 'score is above 3000000, try improving the mapping by placing pairs of qubits with many CNOTs close together'\n",
    "print('PASS: Score is under 3000000 (see if you can beat our solution of 4650904)')"
   ]
  },
  {
   "cell_type": "markdown",
   "metadata": {
    "id": "iTRXX5Orknjo"
   },
   "source": [
    "# 4. Bonus Challenge (not graded)\n",
    "\n",
    "If you would like to practice making a better mapper, router, or scheduler, compete against your classmates to compile the best circuit.\n",
    "\n",
    "You may improve your solutions above in parts 1, 2, and/or 3.  They should still pass the tests but you should make them produce more efficient solutions than those parts require.\n",
    "\n",
    "The tests below will give you a \"SWAP Count\" score and a \"Active Qubit Time\" score.  Let your classmates know what scores you achieve.\n",
    "\n",
    "Compilation Rules: Any circuit and schedule are allowed as long as it is an equivalent circuit.  This allows for routing strategies other than swap-there-and-back and scheduling strategies like as-late-as-possible.  Also, ANY other circuit optimizations are allowed but you may not use Qiskit's (or another tool's) optimization, mapping, routing, or scheduling passes (except decomposing with simply `qiskit.transpile(circuit, basis_gates=[...])`).  To aid in verification, make sure all qubits are swapped back to the inital mapping at the end of the circuit."
   ]
  },
  {
   "cell_type": "code",
   "execution_count": null,
   "metadata": {
    "deletable": false,
    "id": "mVlDHtz_knjo",
    "nbgrader": {
     "cell_type": "code",
     "checksum": "176a1f2eda6228a67f789e964108328e",
     "grade": false,
     "grade_id": "4",
     "locked": false,
     "schema_version": 3,
     "solution": true,
     "task": false
    }
   },
   "outputs": [],
   "source": [
    "def compile_circuit(quantum_circuit, target_hardware, gate_times):\n",
    "    '''Optimizes, mappes, routes, and schedules a circuit, returning the final schedule.'''\n",
    "    ### Just improve your implementations of\n",
    "    ### map_circuit, route_circuit, and schedule_circuit in parts 1, 2, and 3.\n",
    "    ### You may modify this function if you want to add additional optimizations.\n",
    "    # YOUR CODE HERE\n",
    "    mapping = map_circuit(quantum_circuit, target_hardware)\n",
    "    routed = route_circuit(quantum_circuit, target_hardware, mapping)\n",
    "    schedule = schedule_circuit(routed, gate_times)\n",
    "    return mapping, schedule  # Return the mapping to help with verification"
   ]
  },
  {
   "cell_type": "code",
   "execution_count": null,
   "metadata": {
    "id": "IeBqSFnmknjo"
   },
   "outputs": [],
   "source": [
    "# Scratch space (add more cells if you need)"
   ]
  },
  {
   "cell_type": "code",
   "execution_count": null,
   "metadata": {
    "deletable": false,
    "editable": false,
    "id": "ip-YLepDknjo",
    "nbgrader": {
     "cell_type": "code",
     "checksum": "6502a397ab6b7fb24dc96e021e109197",
     "grade": true,
     "grade_id": "4a-test",
     "locked": true,
     "points": 0,
     "schema_version": 3,
     "solution": false,
     "task": false
    }
   },
   "outputs": [],
   "source": [
    "# Do not delete this cell\n",
    "# The autograder will test the function compile_circuit and give a challenge score.\n",
    "\n",
    "comp_hardware = nx.grid_2d_graph(4, 2)\n",
    "comp_hardware = nx.relabel_nodes(comp_hardware,\n",
    "    {n: i for i, n in enumerate(comp_hardware.nodes)})\n",
    "comp_gate_times = {\n",
    "    '1' : 12.0,\n",
    "    'rz' : 0.0,  # Free\n",
    "    'cx' : 80.0,\n",
    "}\n",
    "#comp_circuit = decomposed_adder_circuit(8)\n",
    "comp_circuit = QuantumCircuit.from_qasm_str('OPENQASM 2.0;\\ninclude \"qelib1.inc\";\\nqreg q[8];\\ncx q[1],q[4];\\ncx q[1],q[0];\\nh q[1];\\ncx q[4],q[1];\\nrz(-pi/4) q[1];\\ncx q[0],q[1];\\nrz(pi/4) q[1];\\ncx q[4],q[1];\\nrz(-pi/4) q[1];\\ncx q[0],q[1];\\nrz(-5*pi/4) q[1];\\nrx(pi/2) q[1];\\nrz(pi/2) q[1];\\nrz(pi/4) q[4];\\ncx q[0],q[4];\\nrz(pi/4) q[0];\\nrz(-pi/4) q[4];\\ncx q[0],q[4];\\nrz(2.6375741) q[4];\\nrx(pi) q[4];\\nrz(2.6375741) q[4];\\ncx q[0],q[4];\\ncx q[2],q[5];\\ncx q[2],q[1];\\nh q[2];\\ncx q[5],q[2];\\nrz(-pi/4) q[2];\\ncx q[1],q[2];\\nrz(pi/4) q[2];\\ncx q[5],q[2];\\nrz(-pi/4) q[2];\\ncx q[1],q[2];\\nrz(-5*pi/4) q[2];\\nrx(pi/2) q[2];\\nrz(pi/2) q[2];\\nrz(pi/4) q[5];\\ncx q[1],q[5];\\nrz(pi/4) q[1];\\nrz(-pi/4) q[5];\\ncx q[1],q[5];\\nrz(2.6375741) q[5];\\nrx(pi) q[5];\\nrz(2.6375741) q[5];\\ncx q[1],q[5];\\ncx q[3],q[6];\\ncx q[3],q[2];\\nh q[3];\\ncx q[6],q[3];\\nrz(-pi/4) q[3];\\ncx q[2],q[3];\\nrz(pi/4) q[3];\\ncx q[6],q[3];\\nrz(-pi/4) q[3];\\ncx q[2],q[3];\\nrz(-5*pi/4) q[3];\\nrx(pi/2) q[3];\\nrz(pi/2) q[3];\\nrz(pi/4) q[6];\\ncx q[2],q[6];\\nrz(pi/4) q[2];\\nrz(-pi/4) q[6];\\ncx q[2],q[6];\\nrz(2.6375741) q[6];\\nrx(pi) q[6];\\nrz(2.6375741) q[6];\\ncx q[2],q[6];\\ncx q[3],q[7];\\nh q[3];\\ncx q[6],q[3];\\nrz(-pi/4) q[3];\\ncx q[2],q[3];\\nrz(pi/4) q[3];\\ncx q[6],q[3];\\nrz(-pi/4) q[3];\\ncx q[2],q[3];\\nrz(-5*pi/4) q[3];\\nrx(pi/2) q[3];\\nrz(pi/2) q[3];\\nrz(pi/4) q[6];\\ncx q[2],q[6];\\nrz(pi/4) q[2];\\nrz(-pi/4) q[6];\\ncx q[2],q[6];\\ncx q[3],q[2];\\nh q[2];\\ncx q[5],q[2];\\nrz(-pi/4) q[2];\\ncx q[1],q[2];\\nrz(pi/4) q[2];\\ncx q[5],q[2];\\nrz(-pi/4) q[2];\\ncx q[1],q[2];\\nrz(-5*pi/4) q[2];\\nrx(pi/2) q[2];\\nrz(pi/2) q[2];\\nrz(pi/4) q[5];\\ncx q[1],q[5];\\nrz(pi/4) q[1];\\nrz(-pi/4) q[5];\\ncx q[1],q[5];\\ncx q[2],q[1];\\nh q[1];\\ncx q[4],q[1];\\nrz(-pi/4) q[1];\\ncx q[0],q[1];\\nrz(pi/4) q[1];\\ncx q[4],q[1];\\nrz(-pi/4) q[1];\\ncx q[0],q[1];\\nrz(-5*pi/4) q[1];\\nrx(pi/2) q[1];\\nrz(pi/2) q[1];\\nrz(pi/4) q[4];\\ncx q[0],q[4];\\nrz(pi/4) q[0];\\nrz(-pi/4) q[4];\\ncx q[0],q[4];\\ncx q[1],q[0];\\nrz(2.6375741) q[4];\\nrx(pi) q[4];\\nrz(2.6375741) q[4];\\ncx q[1],q[4];\\nrz(2.6375741) q[5];\\nrx(pi) q[5];\\nrz(2.6375741) q[5];\\ncx q[2],q[5];\\nrz(2.6375741) q[6];\\nrx(pi) q[6];\\nrz(2.6375741) q[6];\\ncx q[3],q[6];\\n')\n",
    "# Run your code\n",
    "_mapping, _schedule = compile_circuit(comp_circuit, comp_hardware, comp_gate_times)\n",
    "_routed = schedule_to_circuit(_schedule)\n",
    "validate_routing(comp_circuit, comp_hardware, _mapping, _routed, check_unitary=True)\n",
    "_score, _ = score_routing(comp_circuit, comp_hardware, _mapping, _routed)\n",
    "print('')\n",
    "print(f'Your SWAP Count Score: {_score}')"
   ]
  },
  {
   "cell_type": "code",
   "execution_count": null,
   "metadata": {
    "deletable": false,
    "editable": false,
    "id": "oVS1SMWBknjp",
    "nbgrader": {
     "cell_type": "code",
     "checksum": "ef7af392d96eef55399ded198aa1cc5f",
     "grade": true,
     "grade_id": "4b-test",
     "locked": true,
     "points": 0,
     "schema_version": 3,
     "solution": false,
     "task": false
    }
   },
   "outputs": [],
   "source": [
    "# Do not delete this cell\n",
    "# The autograder will test the function compile_circuit and give a challenge score.\n",
    "\n",
    "comp_hardware = nx.grid_2d_graph(4, 2)\n",
    "comp_hardware = nx.relabel_nodes(comp_hardware,\n",
    "    {n: i for i, n in enumerate(comp_hardware.nodes)})\n",
    "comp_gate_times = {\n",
    "    '1' : 12.0,\n",
    "    'rz' : 0.0,  # Free\n",
    "    'cx' : 80.0,\n",
    "}\n",
    "#comp_circuit = decomposed_adder_circuit(8)\n",
    "comp_circuit = QuantumCircuit.from_qasm_str('OPENQASM 2.0;\\ninclude \"qelib1.inc\";\\nqreg q[8];\\ncx q[1],q[4];\\ncx q[1],q[0];\\nh q[1];\\ncx q[4],q[1];\\nrz(-pi/4) q[1];\\ncx q[0],q[1];\\nrz(pi/4) q[1];\\ncx q[4],q[1];\\nrz(-pi/4) q[1];\\ncx q[0],q[1];\\nrz(-5*pi/4) q[1];\\nrx(pi/2) q[1];\\nrz(pi/2) q[1];\\nrz(pi/4) q[4];\\ncx q[0],q[4];\\nrz(pi/4) q[0];\\nrz(-pi/4) q[4];\\ncx q[0],q[4];\\nrz(2.6375741) q[4];\\nrx(pi) q[4];\\nrz(2.6375741) q[4];\\ncx q[0],q[4];\\ncx q[2],q[5];\\ncx q[2],q[1];\\nh q[2];\\ncx q[5],q[2];\\nrz(-pi/4) q[2];\\ncx q[1],q[2];\\nrz(pi/4) q[2];\\ncx q[5],q[2];\\nrz(-pi/4) q[2];\\ncx q[1],q[2];\\nrz(-5*pi/4) q[2];\\nrx(pi/2) q[2];\\nrz(pi/2) q[2];\\nrz(pi/4) q[5];\\ncx q[1],q[5];\\nrz(pi/4) q[1];\\nrz(-pi/4) q[5];\\ncx q[1],q[5];\\nrz(2.6375741) q[5];\\nrx(pi) q[5];\\nrz(2.6375741) q[5];\\ncx q[1],q[5];\\ncx q[3],q[6];\\ncx q[3],q[2];\\nh q[3];\\ncx q[6],q[3];\\nrz(-pi/4) q[3];\\ncx q[2],q[3];\\nrz(pi/4) q[3];\\ncx q[6],q[3];\\nrz(-pi/4) q[3];\\ncx q[2],q[3];\\nrz(-5*pi/4) q[3];\\nrx(pi/2) q[3];\\nrz(pi/2) q[3];\\nrz(pi/4) q[6];\\ncx q[2],q[6];\\nrz(pi/4) q[2];\\nrz(-pi/4) q[6];\\ncx q[2],q[6];\\nrz(2.6375741) q[6];\\nrx(pi) q[6];\\nrz(2.6375741) q[6];\\ncx q[2],q[6];\\ncx q[3],q[7];\\nh q[3];\\ncx q[6],q[3];\\nrz(-pi/4) q[3];\\ncx q[2],q[3];\\nrz(pi/4) q[3];\\ncx q[6],q[3];\\nrz(-pi/4) q[3];\\ncx q[2],q[3];\\nrz(-5*pi/4) q[3];\\nrx(pi/2) q[3];\\nrz(pi/2) q[3];\\nrz(pi/4) q[6];\\ncx q[2],q[6];\\nrz(pi/4) q[2];\\nrz(-pi/4) q[6];\\ncx q[2],q[6];\\ncx q[3],q[2];\\nh q[2];\\ncx q[5],q[2];\\nrz(-pi/4) q[2];\\ncx q[1],q[2];\\nrz(pi/4) q[2];\\ncx q[5],q[2];\\nrz(-pi/4) q[2];\\ncx q[1],q[2];\\nrz(-5*pi/4) q[2];\\nrx(pi/2) q[2];\\nrz(pi/2) q[2];\\nrz(pi/4) q[5];\\ncx q[1],q[5];\\nrz(pi/4) q[1];\\nrz(-pi/4) q[5];\\ncx q[1],q[5];\\ncx q[2],q[1];\\nh q[1];\\ncx q[4],q[1];\\nrz(-pi/4) q[1];\\ncx q[0],q[1];\\nrz(pi/4) q[1];\\ncx q[4],q[1];\\nrz(-pi/4) q[1];\\ncx q[0],q[1];\\nrz(-5*pi/4) q[1];\\nrx(pi/2) q[1];\\nrz(pi/2) q[1];\\nrz(pi/4) q[4];\\ncx q[0],q[4];\\nrz(pi/4) q[0];\\nrz(-pi/4) q[4];\\ncx q[0],q[4];\\ncx q[1],q[0];\\nrz(2.6375741) q[4];\\nrx(pi) q[4];\\nrz(2.6375741) q[4];\\ncx q[1],q[4];\\nrz(2.6375741) q[5];\\nrx(pi) q[5];\\nrz(2.6375741) q[5];\\ncx q[2],q[5];\\nrz(2.6375741) q[6];\\nrx(pi) q[6];\\nrz(2.6375741) q[6];\\ncx q[3],q[6];\\n')\n",
    "# Run your code\n",
    "_mapping, _schedule = compile_circuit(comp_circuit, comp_hardware, comp_gate_times)\n",
    "_routed = schedule_to_circuit(_schedule)\n",
    "validate_schedule(_routed, comp_gate_times, _schedule, check_unitary=True)\n",
    "_score, _worst = score_schedule(_routed, comp_gate_times, _schedule)\n",
    "print('')\n",
    "print(f'Your Active Qubit Time Score: {_score}')"
   ]
  }
 ],
 "metadata": {
  "@webio": {
   "lastCommId": null,
   "lastKernelId": null
  },
  "colab": {
   "provenance": []
  },
  "kernelspec": {
   "display_name": "Python 3 (ipykernel)",
   "language": "python",
   "name": "python3"
  },
  "language_info": {
   "codemirror_mode": {
    "name": "ipython",
    "version": 3
   },
   "file_extension": ".py",
   "mimetype": "text/x-python",
   "name": "python",
   "nbconvert_exporter": "python",
   "pygments_lexer": "ipython3",
   "version": "3.13.2"
  }
 },
 "nbformat": 4,
 "nbformat_minor": 4
}
